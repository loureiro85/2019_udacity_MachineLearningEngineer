{
  "nbformat": 4,
  "nbformat_minor": 0,
  "metadata": {
    "kernelspec": {
      "display_name": "Python 3",
      "language": "python",
      "name": "python3"
    },
    "language_info": {
      "codemirror_mode": {
        "name": "ipython",
        "version": 3
      },
      "file_extension": ".py",
      "mimetype": "text/x-python",
      "name": "python",
      "nbconvert_exporter": "python",
      "pygments_lexer": "ipython3",
      "version": "3.7.3"
    },
    "toc-autonumbering": true,
    "toc-showcode": false,
    "toc-showmarkdowntxt": false,
    "colab": {
      "name": "surfing_notebook.ipynb",
      "provenance": [],
      "collapsed_sections": [
        "gc_VSuD2rr2l"
      ],
      "toc_visible": true
    }
  },
  "cells": [
    {
      "cell_type": "markdown",
      "metadata": {
        "id": "xTN1dGNwrr2S"
      },
      "source": [
        "# Identifying Surfer's Experience Group Based on Performed Manoeuvres \n",
        "\n",
        "Guilherme Branco Loureiro\t\t-\t\tFlorianópolis - SC - Brazil\t\t-\t\tSeptember 29th, 2019\n",
        "\n",
        "### Udacity's Capstone Project - Machine Learning Engineer Nanodegree\n",
        "***"
      ]
    },
    {
      "cell_type": "markdown",
      "metadata": {
        "id": "4JmdIZ0Brr2W"
      },
      "source": [
        "# 1. Definition\n",
        "\n",
        "## 1.1 Project Overview\n",
        "Research about surfboard is scarce.\n",
        "A query for 'Surfboard' in [Scopus](https://www.scopus.com/results/results.uri?numberOfFields=0&src=s&clickedLink=&edit=&editSaveSearch=&origin=searchbasic&authorTab=&affiliationTab=&advancedTab=&scint=1&menu=search&tablin=&searchterm1=surfboard&field1=TITLE_ABS_KEY&dateType=Publication_Date_Type&yearFrom=Before+1960&yearTo=Present&loadDate=7&documenttype=All&accessTypes=All&resetFormLink=&st1=surfboard&st2=&sot=b&sdt=b&sl=24&s=TITLE-ABS-KEY%28surfboard%29&sid=836201fdfd01a316e29aaf87c508a17e&searchId=836201fdfd01a316e29aaf87c508a17e&txGid=e849352791f4cd3a5c7fa87e60011e9d&sort=plf-f&originationType=b&rr=) results only 235 documents (by September 2019). \n",
        "Surfing is a sport in which a surfer performs manouevres over the surface of a wave, with a surfboard.\n",
        "The more experienced the surfer, the more complex manoeuvres he's able to perform.\n",
        "The right surfboard specification implies in acknowledging theses features and translating them into surfboard specs.\n",
        "Therefore, strong correlation between the surfer's **experience level** and the range of **manoeuvres** is expected. \n",
        "The objective of this work is to propose a **supervised** approach to predict the surfers experience level given a set of manoeuvres.\n",
        "\n",
        "There are no publications about this correlation (experience X manoeuvres), nor a, experience prediction application based on surfing's performed manoeuvres. \n",
        "\n",
        "This problem is relevant because it could contribute to the surfboard specification process, making recommendation more assertive.\n",
        "\n",
        "The problem's understanding is aided by the **Feature Similarity Analysis (Dimensionality Reduction)** provided by the Principal Component Analysis (PCA), which allows ten dimensions to be seen as only two in a byplot graph. Reducing its complexity and improving it's didactics.\n",
        "\n",
        "The **supervised** problem is solved with a decision tree.\n",
        "\n",
        "\n",
        "## 1.2 Problem Statement\n",
        "The problem to be solved is the lack of methods to determine what is the experience level of a surfer given a set of manoeuvres he's able to perform.\n",
        "\n",
        "\n",
        "## 1.3 Metrics\n",
        "**Accuracy** is the metric chosen to measure the performance of the Decision Tree Prediction Model. Accuracy describes how good a model is, in terms of how many cases were correctly classified. In this project Accuracy describes how many times the surfer's experience level was correctly classified, relatively to the total number of cases. "
      ]
    },
    {
      "cell_type": "markdown",
      "metadata": {
        "toc-hr-collapsed": false,
        "id": "OLEl91YGrr2X"
      },
      "source": [
        "***\n",
        "# 2. Analysis\n",
        "## 2.1 Data Exploration (before preprocessing)"
      ]
    },
    {
      "cell_type": "markdown",
      "metadata": {
        "id": "_O0v9KKhrr2X"
      },
      "source": [
        "### Modules Importation"
      ]
    },
    {
      "cell_type": "code",
      "metadata": {
        "id": "hfTc943drr2Y"
      },
      "source": [
        "import pandas as pd\n",
        "import numpy as np\n",
        "import random\n",
        "import seaborn as sns\n",
        "import matplotlib.pyplot as plt"
      ],
      "execution_count": 1,
      "outputs": []
    },
    {
      "cell_type": "markdown",
      "metadata": {
        "id": "GHeTquSIrr2Y"
      },
      "source": [
        "### Exploring dataset content"
      ]
    },
    {
      "cell_type": "code",
      "metadata": {
        "colab": {
          "base_uri": "https://localhost:8080/",
          "height": 215
        },
        "id": "DXHAtr7Frr2Y",
        "outputId": "4332b9f1-11f7-4916-e219-36e1604c9992"
      },
      "source": [
        "df = pd.read_csv(\"df_manoeuvres_experience.csv\")\n",
        "df = df.drop(df.columns[0], axis=1)\n",
        "df.head()"
      ],
      "execution_count": 2,
      "outputs": [
        {
          "output_type": "execute_result",
          "data": {
            "text/html": [
              "<div>\n",
              "<style scoped>\n",
              "    .dataframe tbody tr th:only-of-type {\n",
              "        vertical-align: middle;\n",
              "    }\n",
              "\n",
              "    .dataframe tbody tr th {\n",
              "        vertical-align: top;\n",
              "    }\n",
              "\n",
              "    .dataframe thead th {\n",
              "        text-align: right;\n",
              "    }\n",
              "</style>\n",
              "<table border=\"1\" class=\"dataframe\">\n",
              "  <thead>\n",
              "    <tr style=\"text-align: right;\">\n",
              "      <th></th>\n",
              "      <th>manoeuvres_01_paddling</th>\n",
              "      <th>manoeuvres_02_drop</th>\n",
              "      <th>manoeuvres_03_straight_ahead</th>\n",
              "      <th>manoeuvres_04_wall_riding</th>\n",
              "      <th>manoeuvres_05_floater</th>\n",
              "      <th>manoeuvres_06_cut_back</th>\n",
              "      <th>manoeuvres_07_carve</th>\n",
              "      <th>manoeuvres_08_off_the_lip</th>\n",
              "      <th>manoeuvres_09_tube</th>\n",
              "      <th>manoeuvres_10_air</th>\n",
              "      <th>surfer_experience</th>\n",
              "    </tr>\n",
              "  </thead>\n",
              "  <tbody>\n",
              "    <tr>\n",
              "      <th>0</th>\n",
              "      <td>Sempre consigo</td>\n",
              "      <td>Sempre consigo</td>\n",
              "      <td>Sempre consigo</td>\n",
              "      <td>Sempre consigo</td>\n",
              "      <td>Sempre consigo</td>\n",
              "      <td>Consigo normalmente</td>\n",
              "      <td>Consigo normalmente</td>\n",
              "      <td>Consigo normalmente</td>\n",
              "      <td>Consigo normalmente</td>\n",
              "      <td>As vezes eu consigo</td>\n",
              "      <td>Avançado</td>\n",
              "    </tr>\n",
              "    <tr>\n",
              "      <th>1</th>\n",
              "      <td>Consigo normalmente</td>\n",
              "      <td>As vezes eu consigo</td>\n",
              "      <td>Ainda não consigo</td>\n",
              "      <td>Ainda não consigo</td>\n",
              "      <td>Ainda não consigo</td>\n",
              "      <td>Ainda não consigo</td>\n",
              "      <td>Ainda não consigo</td>\n",
              "      <td>Ainda não consigo</td>\n",
              "      <td>Ainda não consigo</td>\n",
              "      <td>Ainda não consigo</td>\n",
              "      <td>Aprendiz</td>\n",
              "    </tr>\n",
              "    <tr>\n",
              "      <th>2</th>\n",
              "      <td>Sempre consigo</td>\n",
              "      <td>Consigo normalmente</td>\n",
              "      <td>Sempre consigo</td>\n",
              "      <td>Consigo normalmente</td>\n",
              "      <td>As vezes eu consigo</td>\n",
              "      <td>Consigo normalmente</td>\n",
              "      <td>Consigo normalmente</td>\n",
              "      <td>Consigo normalmente</td>\n",
              "      <td>As vezes eu consigo</td>\n",
              "      <td>Ainda não consigo</td>\n",
              "      <td>Avançado</td>\n",
              "    </tr>\n",
              "    <tr>\n",
              "      <th>3</th>\n",
              "      <td>Sempre consigo</td>\n",
              "      <td>Consigo normalmente</td>\n",
              "      <td>Não sei</td>\n",
              "      <td>Consigo normalmente</td>\n",
              "      <td>As vezes eu consigo</td>\n",
              "      <td>As vezes eu consigo</td>\n",
              "      <td>Consigo normalmente</td>\n",
              "      <td>Consigo normalmente</td>\n",
              "      <td>As vezes eu consigo</td>\n",
              "      <td>Ainda não consigo</td>\n",
              "      <td>Avançado</td>\n",
              "    </tr>\n",
              "    <tr>\n",
              "      <th>4</th>\n",
              "      <td>Sempre consigo</td>\n",
              "      <td>Consigo normalmente</td>\n",
              "      <td>Consigo normalmente</td>\n",
              "      <td>Sempre consigo</td>\n",
              "      <td>Consigo normalmente</td>\n",
              "      <td>Consigo normalmente</td>\n",
              "      <td>Sempre consigo</td>\n",
              "      <td>Sempre consigo</td>\n",
              "      <td>As vezes eu consigo</td>\n",
              "      <td>Ainda não consigo</td>\n",
              "      <td>Avançado</td>\n",
              "    </tr>\n",
              "  </tbody>\n",
              "</table>\n",
              "</div>"
            ],
            "text/plain": [
              "  manoeuvres_01_paddling  ... surfer_experience\n",
              "0         Sempre consigo  ...          Avançado\n",
              "1    Consigo normalmente  ...          Aprendiz\n",
              "2         Sempre consigo  ...          Avançado\n",
              "3         Sempre consigo  ...          Avançado\n",
              "4         Sempre consigo  ...          Avançado\n",
              "\n",
              "[5 rows x 11 columns]"
            ]
          },
          "metadata": {
            "tags": []
          },
          "execution_count": 2
        }
      ]
    },
    {
      "cell_type": "markdown",
      "metadata": {
        "id": "NxDYgONHrr2Z"
      },
      "source": [
        "### Checking dataset size"
      ]
    },
    {
      "cell_type": "code",
      "metadata": {
        "colab": {
          "base_uri": "https://localhost:8080/"
        },
        "id": "6vn6ViWXrr2a",
        "outputId": "c0b40013-2e92-4b77-9453-4e85c847a479"
      },
      "source": [
        "df.shape[0]\n",
        "print(f'The dataframe has {df.shape[0]} samples and {df.shape[1]} features')"
      ],
      "execution_count": 3,
      "outputs": [
        {
          "output_type": "stream",
          "text": [
            "The dataframe has 165 samples and 11 features\n"
          ],
          "name": "stdout"
        }
      ]
    },
    {
      "cell_type": "markdown",
      "metadata": {
        "id": "yBRZz3iSrr2a"
      },
      "source": [
        "### Exploring features"
      ]
    },
    {
      "cell_type": "code",
      "metadata": {
        "colab": {
          "base_uri": "https://localhost:8080/"
        },
        "id": "OiT-UH72rr2a",
        "outputId": "6514a31d-756a-4811-ff95-8a6774851b25"
      },
      "source": [
        "df.columns.tolist()"
      ],
      "execution_count": 4,
      "outputs": [
        {
          "output_type": "execute_result",
          "data": {
            "text/plain": [
              "['manoeuvres_01_paddling',\n",
              " 'manoeuvres_02_drop',\n",
              " 'manoeuvres_03_straight_ahead',\n",
              " 'manoeuvres_04_wall_riding',\n",
              " 'manoeuvres_05_floater',\n",
              " 'manoeuvres_06_cut_back',\n",
              " 'manoeuvres_07_carve',\n",
              " 'manoeuvres_08_off_the_lip',\n",
              " 'manoeuvres_09_tube',\n",
              " 'manoeuvres_10_air',\n",
              " 'surfer_experience']"
            ]
          },
          "metadata": {
            "tags": []
          },
          "execution_count": 4
        }
      ]
    },
    {
      "cell_type": "markdown",
      "metadata": {
        "id": "EYcJmiNMrr2a"
      },
      "source": [
        "The first 10 features are **inputs**, and the last one (`surfer_experience`) is an **output** to be further used as target."
      ]
    },
    {
      "cell_type": "markdown",
      "metadata": {
        "id": "S_a2YkT7rr2b"
      },
      "source": [
        "### Data description"
      ]
    },
    {
      "cell_type": "code",
      "metadata": {
        "colab": {
          "base_uri": "https://localhost:8080/",
          "height": 186
        },
        "id": "3MSEL9UArr2b",
        "outputId": "a91516a1-1041-4db9-eae5-5c1c35167f60"
      },
      "source": [
        "df.describe()"
      ],
      "execution_count": 5,
      "outputs": [
        {
          "output_type": "execute_result",
          "data": {
            "text/html": [
              "<div>\n",
              "<style scoped>\n",
              "    .dataframe tbody tr th:only-of-type {\n",
              "        vertical-align: middle;\n",
              "    }\n",
              "\n",
              "    .dataframe tbody tr th {\n",
              "        vertical-align: top;\n",
              "    }\n",
              "\n",
              "    .dataframe thead th {\n",
              "        text-align: right;\n",
              "    }\n",
              "</style>\n",
              "<table border=\"1\" class=\"dataframe\">\n",
              "  <thead>\n",
              "    <tr style=\"text-align: right;\">\n",
              "      <th></th>\n",
              "      <th>manoeuvres_01_paddling</th>\n",
              "      <th>manoeuvres_02_drop</th>\n",
              "      <th>manoeuvres_03_straight_ahead</th>\n",
              "      <th>manoeuvres_04_wall_riding</th>\n",
              "      <th>manoeuvres_05_floater</th>\n",
              "      <th>manoeuvres_06_cut_back</th>\n",
              "      <th>manoeuvres_07_carve</th>\n",
              "      <th>manoeuvres_08_off_the_lip</th>\n",
              "      <th>manoeuvres_09_tube</th>\n",
              "      <th>manoeuvres_10_air</th>\n",
              "      <th>surfer_experience</th>\n",
              "    </tr>\n",
              "  </thead>\n",
              "  <tbody>\n",
              "    <tr>\n",
              "      <th>count</th>\n",
              "      <td>162</td>\n",
              "      <td>162</td>\n",
              "      <td>145</td>\n",
              "      <td>161</td>\n",
              "      <td>162</td>\n",
              "      <td>161</td>\n",
              "      <td>162</td>\n",
              "      <td>163</td>\n",
              "      <td>162</td>\n",
              "      <td>155</td>\n",
              "      <td>164</td>\n",
              "    </tr>\n",
              "    <tr>\n",
              "      <th>unique</th>\n",
              "      <td>3</td>\n",
              "      <td>4</td>\n",
              "      <td>5</td>\n",
              "      <td>5</td>\n",
              "      <td>5</td>\n",
              "      <td>5</td>\n",
              "      <td>5</td>\n",
              "      <td>5</td>\n",
              "      <td>5</td>\n",
              "      <td>5</td>\n",
              "      <td>5</td>\n",
              "    </tr>\n",
              "    <tr>\n",
              "      <th>top</th>\n",
              "      <td>Sempre consigo</td>\n",
              "      <td>Sempre consigo</td>\n",
              "      <td>Sempre consigo</td>\n",
              "      <td>Sempre consigo</td>\n",
              "      <td>Sempre consigo</td>\n",
              "      <td>Consigo normalmente</td>\n",
              "      <td>Sempre consigo</td>\n",
              "      <td>As vezes eu consigo</td>\n",
              "      <td>Ainda não consigo</td>\n",
              "      <td>Ainda não consigo</td>\n",
              "      <td>Avançado</td>\n",
              "    </tr>\n",
              "    <tr>\n",
              "      <th>freq</th>\n",
              "      <td>119</td>\n",
              "      <td>84</td>\n",
              "      <td>97</td>\n",
              "      <td>99</td>\n",
              "      <td>47</td>\n",
              "      <td>43</td>\n",
              "      <td>53</td>\n",
              "      <td>49</td>\n",
              "      <td>56</td>\n",
              "      <td>100</td>\n",
              "      <td>81</td>\n",
              "    </tr>\n",
              "  </tbody>\n",
              "</table>\n",
              "</div>"
            ],
            "text/plain": [
              "       manoeuvres_01_paddling  ... surfer_experience\n",
              "count                     162  ...               164\n",
              "unique                      3  ...                 5\n",
              "top            Sempre consigo  ...          Avançado\n",
              "freq                      119  ...                81\n",
              "\n",
              "[4 rows x 11 columns]"
            ]
          },
          "metadata": {
            "tags": []
          },
          "execution_count": 5
        }
      ]
    },
    {
      "cell_type": "markdown",
      "metadata": {
        "id": "lM0FY5Q5rr2b"
      },
      "source": [
        "### Check unique answers"
      ]
    },
    {
      "cell_type": "code",
      "metadata": {
        "colab": {
          "base_uri": "https://localhost:8080/"
        },
        "id": "Y3ISasSxrr2b",
        "outputId": "20de588a-3f50-4f07-fd75-edb1831dea02"
      },
      "source": [
        "df.iloc[:, 5].unique().tolist()"
      ],
      "execution_count": 6,
      "outputs": [
        {
          "output_type": "execute_result",
          "data": {
            "text/plain": [
              "['Consigo normalmente',\n",
              " 'Ainda não consigo',\n",
              " 'As vezes eu consigo',\n",
              " 'Sempre consigo',\n",
              " nan,\n",
              " 'Não sei']"
            ]
          },
          "metadata": {
            "tags": []
          },
          "execution_count": 6
        }
      ]
    },
    {
      "cell_type": "code",
      "metadata": {
        "colab": {
          "base_uri": "https://localhost:8080/"
        },
        "id": "IbVrBoY4rr2b",
        "outputId": "1d5d2e46-4d6f-4663-980c-89bcb2073e5d"
      },
      "source": [
        "df.iloc[:, 10].unique().tolist()"
      ],
      "execution_count": 7,
      "outputs": [
        {
          "output_type": "execute_result",
          "data": {
            "text/plain": [
              "['Avançado', 'Aprendiz', 'Intermediário', 'Iniciante', 'Profissional', nan]"
            ]
          },
          "metadata": {
            "tags": []
          },
          "execution_count": 7
        }
      ]
    },
    {
      "cell_type": "markdown",
      "metadata": {
        "id": "aEpMlj9orr2c"
      },
      "source": [
        "### Getting a sample"
      ]
    },
    {
      "cell_type": "code",
      "metadata": {
        "colab": {
          "base_uri": "https://localhost:8080/"
        },
        "id": "d0SBF6Kkrr2c",
        "outputId": "0c10f12c-aa69-4ef5-d9c6-47b23bb3e134"
      },
      "source": [
        "df.iloc[0, :]"
      ],
      "execution_count": 8,
      "outputs": [
        {
          "output_type": "execute_result",
          "data": {
            "text/plain": [
              "manoeuvres_01_paddling               Sempre consigo\n",
              "manoeuvres_02_drop                   Sempre consigo\n",
              "manoeuvres_03_straight_ahead         Sempre consigo\n",
              "manoeuvres_04_wall_riding            Sempre consigo\n",
              "manoeuvres_05_floater                Sempre consigo\n",
              "manoeuvres_06_cut_back          Consigo normalmente\n",
              "manoeuvres_07_carve             Consigo normalmente\n",
              "manoeuvres_08_off_the_lip       Consigo normalmente\n",
              "manoeuvres_09_tube              Consigo normalmente\n",
              "manoeuvres_10_air               As vezes eu consigo\n",
              "surfer_experience                          Avançado\n",
              "Name: 0, dtype: object"
            ]
          },
          "metadata": {
            "tags": []
          },
          "execution_count": 8
        }
      ]
    },
    {
      "cell_type": "markdown",
      "metadata": {
        "id": "7FfmarxFrr2c"
      },
      "source": [
        "***\n",
        "*Run Data preprocessing [3.1] before running the cells of the following section!*\n",
        "Otherwise data will appear in Portuguese.\n",
        "***\n",
        "## 2.2 Exploratory Visualization (after preprocessing)"
      ]
    },
    {
      "cell_type": "markdown",
      "metadata": {
        "id": "a84MmPkhrr2c"
      },
      "source": [
        "### Exploring data distribution\n",
        "There are only a few Beginners in our dataset, as seen bellow."
      ]
    },
    {
      "cell_type": "code",
      "metadata": {
        "colab": {
          "base_uri": "https://localhost:8080/",
          "height": 347
        },
        "id": "v8huic7xrr2d",
        "outputId": "312f6e74-dc70-4b2a-8872-bb8c818a0497"
      },
      "source": [
        "df['surfer_experience']\n",
        "order = ['Beginner', 'Intermediate', 'Advanced']\n",
        "import seaborn as sns\n",
        "sns.countplot(data = df, x='surfer_experience', order=order, color = 'gray');\n",
        "df['surfer_experience'].value_counts()"
      ],
      "execution_count": 11,
      "outputs": [
        {
          "output_type": "execute_result",
          "data": {
            "text/plain": [
              "Advanced        84\n",
              "Intermediate    66\n",
              "Beginner        14\n",
              "Name: surfer_experience, dtype: int64"
            ]
          },
          "metadata": {
            "tags": []
          },
          "execution_count": 11
        },
        {
          "output_type": "display_data",
          "data": {
            "image/png": "[encoded data removed]",
            "text/plain": [
              "<Figure size 432x288 with 1 Axes>"
            ]
          },
          "metadata": {
            "tags": [],
            "needs_background": "light"
          }
        }
      ]
    },
    {
      "cell_type": "markdown",
      "metadata": {
        "id": "wm234Zz7rr2d"
      },
      "source": [
        "### Prepare Manoeuvres frequency of execution"
      ]
    },
    {
      "cell_type": "code",
      "metadata": {
        "colab": {
          "base_uri": "https://localhost:8080/",
          "height": 136
        },
        "id": "P_-RyGWFrr2d",
        "outputId": "7606122a-7413-4f64-c58f-c98159fd69fa"
      },
      "source": [
        "df_counts = pd.DataFrame()\n",
        "\n",
        "for col in df:\n",
        "    df_counts[col] = df[col].value_counts()\n",
        "   \n",
        "\n",
        "df_counts.drop(columns='surfer_experience', inplace=True)\n",
        "df_counts"
      ],
      "execution_count": 12,
      "outputs": [
        {
          "output_type": "execute_result",
          "data": {
            "text/html": [
              "<div>\n",
              "<style scoped>\n",
              "    .dataframe tbody tr th:only-of-type {\n",
              "        vertical-align: middle;\n",
              "    }\n",
              "\n",
              "    .dataframe tbody tr th {\n",
              "        vertical-align: top;\n",
              "    }\n",
              "\n",
              "    .dataframe thead th {\n",
              "        text-align: right;\n",
              "    }\n",
              "</style>\n",
              "<table border=\"1\" class=\"dataframe\">\n",
              "  <thead>\n",
              "    <tr style=\"text-align: right;\">\n",
              "      <th></th>\n",
              "      <th>01_paddling</th>\n",
              "      <th>02_drop</th>\n",
              "      <th>03_straight_ahead</th>\n",
              "      <th>04_wall_riding</th>\n",
              "      <th>05_floater</th>\n",
              "      <th>06_cut_back</th>\n",
              "      <th>07_carve</th>\n",
              "      <th>08_off_the_lip</th>\n",
              "      <th>09_tube</th>\n",
              "      <th>10_air</th>\n",
              "    </tr>\n",
              "  </thead>\n",
              "  <tbody>\n",
              "    <tr>\n",
              "      <th>Always</th>\n",
              "      <td>119</td>\n",
              "      <td>84</td>\n",
              "      <td>97</td>\n",
              "      <td>99</td>\n",
              "      <td>47</td>\n",
              "      <td>43</td>\n",
              "      <td>53</td>\n",
              "      <td>48</td>\n",
              "      <td>27</td>\n",
              "      <td>3</td>\n",
              "    </tr>\n",
              "    <tr>\n",
              "      <th>Usually</th>\n",
              "      <td>38</td>\n",
              "      <td>62</td>\n",
              "      <td>32</td>\n",
              "      <td>38</td>\n",
              "      <td>28</td>\n",
              "      <td>43</td>\n",
              "      <td>38</td>\n",
              "      <td>45</td>\n",
              "      <td>14</td>\n",
              "      <td>9</td>\n",
              "    </tr>\n",
              "    <tr>\n",
              "      <th>Sometimes</th>\n",
              "      <td>5</td>\n",
              "      <td>15</td>\n",
              "      <td>8</td>\n",
              "      <td>15</td>\n",
              "      <td>42</td>\n",
              "      <td>38</td>\n",
              "      <td>38</td>\n",
              "      <td>49</td>\n",
              "      <td>55</td>\n",
              "      <td>20</td>\n",
              "    </tr>\n",
              "  </tbody>\n",
              "</table>\n",
              "</div>"
            ],
            "text/plain": [
              "           01_paddling  02_drop  ...  09_tube  10_air\n",
              "Always             119       84  ...       27       3\n",
              "Usually             38       62  ...       14       9\n",
              "Sometimes            5       15  ...       55      20\n",
              "\n",
              "[3 rows x 10 columns]"
            ]
          },
          "metadata": {
            "tags": []
          },
          "execution_count": 12
        }
      ]
    },
    {
      "cell_type": "code",
      "metadata": {
        "colab": {
          "base_uri": "https://localhost:8080/",
          "height": 343
        },
        "id": "-3DNcEHOrr2d",
        "outputId": "fe0c9ddc-06ae-4f03-cad7-2b50197d46bd"
      },
      "source": [
        "df_counts = df_counts.transpose()\n",
        "df_counts = df_counts.reset_index()\n",
        "df_counts.columns = ['Manoeuvres', 'Always', 'Usually', 'Sometimes']\n",
        "df_counts"
      ],
      "execution_count": 13,
      "outputs": [
        {
          "output_type": "execute_result",
          "data": {
            "text/html": [
              "<div>\n",
              "<style scoped>\n",
              "    .dataframe tbody tr th:only-of-type {\n",
              "        vertical-align: middle;\n",
              "    }\n",
              "\n",
              "    .dataframe tbody tr th {\n",
              "        vertical-align: top;\n",
              "    }\n",
              "\n",
              "    .dataframe thead th {\n",
              "        text-align: right;\n",
              "    }\n",
              "</style>\n",
              "<table border=\"1\" class=\"dataframe\">\n",
              "  <thead>\n",
              "    <tr style=\"text-align: right;\">\n",
              "      <th></th>\n",
              "      <th>Manoeuvres</th>\n",
              "      <th>Always</th>\n",
              "      <th>Usually</th>\n",
              "      <th>Sometimes</th>\n",
              "    </tr>\n",
              "  </thead>\n",
              "  <tbody>\n",
              "    <tr>\n",
              "      <th>0</th>\n",
              "      <td>01_paddling</td>\n",
              "      <td>119</td>\n",
              "      <td>38</td>\n",
              "      <td>5</td>\n",
              "    </tr>\n",
              "    <tr>\n",
              "      <th>1</th>\n",
              "      <td>02_drop</td>\n",
              "      <td>84</td>\n",
              "      <td>62</td>\n",
              "      <td>15</td>\n",
              "    </tr>\n",
              "    <tr>\n",
              "      <th>2</th>\n",
              "      <td>03_straight_ahead</td>\n",
              "      <td>97</td>\n",
              "      <td>32</td>\n",
              "      <td>8</td>\n",
              "    </tr>\n",
              "    <tr>\n",
              "      <th>3</th>\n",
              "      <td>04_wall_riding</td>\n",
              "      <td>99</td>\n",
              "      <td>38</td>\n",
              "      <td>15</td>\n",
              "    </tr>\n",
              "    <tr>\n",
              "      <th>4</th>\n",
              "      <td>05_floater</td>\n",
              "      <td>47</td>\n",
              "      <td>28</td>\n",
              "      <td>42</td>\n",
              "    </tr>\n",
              "    <tr>\n",
              "      <th>5</th>\n",
              "      <td>06_cut_back</td>\n",
              "      <td>43</td>\n",
              "      <td>43</td>\n",
              "      <td>38</td>\n",
              "    </tr>\n",
              "    <tr>\n",
              "      <th>6</th>\n",
              "      <td>07_carve</td>\n",
              "      <td>53</td>\n",
              "      <td>38</td>\n",
              "      <td>38</td>\n",
              "    </tr>\n",
              "    <tr>\n",
              "      <th>7</th>\n",
              "      <td>08_off_the_lip</td>\n",
              "      <td>48</td>\n",
              "      <td>45</td>\n",
              "      <td>49</td>\n",
              "    </tr>\n",
              "    <tr>\n",
              "      <th>8</th>\n",
              "      <td>09_tube</td>\n",
              "      <td>27</td>\n",
              "      <td>14</td>\n",
              "      <td>55</td>\n",
              "    </tr>\n",
              "    <tr>\n",
              "      <th>9</th>\n",
              "      <td>10_air</td>\n",
              "      <td>3</td>\n",
              "      <td>9</td>\n",
              "      <td>20</td>\n",
              "    </tr>\n",
              "  </tbody>\n",
              "</table>\n",
              "</div>"
            ],
            "text/plain": [
              "          Manoeuvres  Always  Usually  Sometimes\n",
              "0        01_paddling     119       38          5\n",
              "1            02_drop      84       62         15\n",
              "2  03_straight_ahead      97       32          8\n",
              "3     04_wall_riding      99       38         15\n",
              "4         05_floater      47       28         42\n",
              "5        06_cut_back      43       43         38\n",
              "6           07_carve      53       38         38\n",
              "7     08_off_the_lip      48       45         49\n",
              "8            09_tube      27       14         55\n",
              "9             10_air       3        9         20"
            ]
          },
          "metadata": {
            "tags": []
          },
          "execution_count": 13
        }
      ]
    },
    {
      "cell_type": "markdown",
      "metadata": {
        "id": "Sak9Wntprr2e"
      },
      "source": [
        "### Explore Manoeuvres frequency of execution"
      ]
    },
    {
      "cell_type": "code",
      "metadata": {
        "colab": {
          "base_uri": "https://localhost:8080/",
          "height": 295
        },
        "id": "VH3A_xxkrr2e",
        "outputId": "f253e7e0-c3e5-4933-e8f7-498c08ac72c5"
      },
      "source": [
        "sns.barplot(x=\"Sometimes\", y=\"Manoeuvres\", data=df_counts, label=\"Total\", color=\"green\");\n",
        "plt.title('Number of surfers that SOMETIMES perform the following manoeuvres');"
      ],
      "execution_count": 14,
      "outputs": [
        {
          "output_type": "display_data",
          "data": {
            "image/png": "[encoded data removed]",
            "text/plain": [
              "<Figure size 432x288 with 1 Axes>"
            ]
          },
          "metadata": {
            "tags": [],
            "needs_background": "light"
          }
        }
      ]
    },
    {
      "cell_type": "code",
      "metadata": {
        "colab": {
          "base_uri": "https://localhost:8080/",
          "height": 295
        },
        "id": "rAZQVYJUrr2e",
        "outputId": "88910f56-7c97-4558-b2be-3d4b6da5d3c6"
      },
      "source": [
        "sns.barplot(x=\"Usually\", y=\"Manoeuvres\", data=df_counts, label=\"Total\", color=\"orange\");\n",
        "plt.title('Number of surfers that USUALLY perform the following manoeuvres');"
      ],
      "execution_count": 15,
      "outputs": [
        {
          "output_type": "display_data",
          "data": {
            "image/png": "[encoded data removed]",
            "text/plain": [
              "<Figure size 432x288 with 1 Axes>"
            ]
          },
          "metadata": {
            "tags": [],
            "needs_background": "light"
          }
        }
      ]
    },
    {
      "cell_type": "code",
      "metadata": {
        "colab": {
          "base_uri": "https://localhost:8080/",
          "height": 295
        },
        "id": "o56aECqDrr2e",
        "outputId": "5cae78c7-d1ce-4ce0-fdf6-655dcabe827e"
      },
      "source": [
        "sns.set_color_codes(\"pastel\")\n",
        "sns.barplot(x=\"Always\", y=\"Manoeuvres\", data=df_counts, label=\"Total\", color=\"red\");\n",
        "plt.title('Number of surfers that ALWAYS perform the following manoeuvres');"
      ],
      "execution_count": 16,
      "outputs": [
        {
          "output_type": "display_data",
          "data": {
            "image/png": "[encoded data removed]",
            "text/plain": [
              "<Figure size 432x288 with 1 Axes>"
            ]
          },
          "metadata": {
            "tags": [],
            "needs_background": "light"
          }
        }
      ]
    },
    {
      "cell_type": "markdown",
      "metadata": {
        "id": "_LpKLdKJrr2e"
      },
      "source": [
        "## 2.3 Algorithms and Techniques\n",
        "- PCA for Feature Similarity Analysis\n",
        "- Naive Bayes classifier for multinomial models\n",
        "- Decision Tree for predicting the surfer's experience level"
      ]
    },
    {
      "cell_type": "markdown",
      "metadata": {
        "id": "ioWmGnGSrr2f"
      },
      "source": [
        "## 2.4 Benchmark\n",
        "- **Naive model** -  representing a Shaper (surfboard designer) that has no idea of the surfer's experience level and randomly estimates the experience of each surfer. Implemented further in this notebook."
      ]
    },
    {
      "cell_type": "markdown",
      "metadata": {
        "id": "gCl3LPzdrr2f"
      },
      "source": [
        "***\n",
        "\n",
        "# 3. Methodology\n",
        "## 3.1 Data Preprocessing\n",
        "\n",
        "### Renaming features\n",
        "The names of the features are to long for quick coding, so we'll shorten them by removing the 'manoeuvres_' prefix."
      ]
    },
    {
      "cell_type": "code",
      "metadata": {
        "colab": {
          "base_uri": "https://localhost:8080/"
        },
        "id": "SF6dFAGxrr2f",
        "outputId": "38e7dd1b-0a7b-455d-d027-16a15979eb36"
      },
      "source": [
        "new_columns = []\n",
        "for col in df.columns:\n",
        "    if 'manoeuvre' in col:\n",
        "        new_columns.append(col[11:])\n",
        "    else:\n",
        "        new_columns.append(col)\n",
        "\n",
        "df.columns = new_columns\n",
        "print('The new feature names are:')\n",
        "[print(col) for col in df.columns];"
      ],
      "execution_count": 17,
      "outputs": [
        {
          "output_type": "stream",
          "text": [
            "The new feature names are:\n",
            "01_paddling\n",
            "02_drop\n",
            "03_straight_ahead\n",
            "04_wall_riding\n",
            "05_floater\n",
            "06_cut_back\n",
            "07_carve\n",
            "08_off_the_lip\n",
            "09_tube\n",
            "10_air\n",
            "surfer_experience\n"
          ],
          "name": "stdout"
        }
      ]
    },
    {
      "cell_type": "markdown",
      "metadata": {
        "id": "4ZBSlYJ5rr2g"
      },
      "source": [
        "### Translating to English\n",
        "As noticed, the answers are in Portuguese, so we have to translate to English.\n",
        "\n",
        "For the sake of simplification, we'll reduce the five levels to three."
      ]
    },
    {
      "cell_type": "code",
      "metadata": {
        "colab": {
          "base_uri": "https://localhost:8080/",
          "height": 215
        },
        "id": "viQ6LvsNrr2g",
        "outputId": "efa4d548-31c5-42dd-8e6c-5888cca51ca5"
      },
      "source": [
        "# Manoeuvres execution frequency\n",
        "translation_frequency = {\n",
        "    'Ainda não consigo': 'Not yet',\n",
        "    'As vezes eu consigo': 'Sometimes',\n",
        "    'Consigo normalmente': 'Usually',\n",
        "    'Sempre consigo': 'Always',\n",
        "    'Não sei': \"I don't know\",\n",
        "}\n",
        "\n",
        "# Five expected levels of experience\n",
        "translation_level = {\n",
        "    'Aprendiz': 'Beginner',\n",
        "    'Iniciante': 'Beginner',\n",
        "    'Intermediário': 'Intermediate',\n",
        "    'Avançado': 'Advanced',\n",
        "    'Profissional': \"Advanced\",\n",
        "}\n",
        "\n",
        "df.replace(inplace=True, to_replace=translation_frequency)\n",
        "df.replace(inplace=True, to_replace=translation_level)\n",
        "df.head()"
      ],
      "execution_count": 18,
      "outputs": [
        {
          "output_type": "execute_result",
          "data": {
            "text/html": [
              "<div>\n",
              "<style scoped>\n",
              "    .dataframe tbody tr th:only-of-type {\n",
              "        vertical-align: middle;\n",
              "    }\n",
              "\n",
              "    .dataframe tbody tr th {\n",
              "        vertical-align: top;\n",
              "    }\n",
              "\n",
              "    .dataframe thead th {\n",
              "        text-align: right;\n",
              "    }\n",
              "</style>\n",
              "<table border=\"1\" class=\"dataframe\">\n",
              "  <thead>\n",
              "    <tr style=\"text-align: right;\">\n",
              "      <th></th>\n",
              "      <th>01_paddling</th>\n",
              "      <th>02_drop</th>\n",
              "      <th>03_straight_ahead</th>\n",
              "      <th>04_wall_riding</th>\n",
              "      <th>05_floater</th>\n",
              "      <th>06_cut_back</th>\n",
              "      <th>07_carve</th>\n",
              "      <th>08_off_the_lip</th>\n",
              "      <th>09_tube</th>\n",
              "      <th>10_air</th>\n",
              "      <th>surfer_experience</th>\n",
              "    </tr>\n",
              "  </thead>\n",
              "  <tbody>\n",
              "    <tr>\n",
              "      <th>0</th>\n",
              "      <td>Always</td>\n",
              "      <td>Always</td>\n",
              "      <td>Always</td>\n",
              "      <td>Always</td>\n",
              "      <td>Always</td>\n",
              "      <td>Usually</td>\n",
              "      <td>Usually</td>\n",
              "      <td>Usually</td>\n",
              "      <td>Usually</td>\n",
              "      <td>Sometimes</td>\n",
              "      <td>Advanced</td>\n",
              "    </tr>\n",
              "    <tr>\n",
              "      <th>1</th>\n",
              "      <td>Usually</td>\n",
              "      <td>Sometimes</td>\n",
              "      <td>Not yet</td>\n",
              "      <td>Not yet</td>\n",
              "      <td>Not yet</td>\n",
              "      <td>Not yet</td>\n",
              "      <td>Not yet</td>\n",
              "      <td>Not yet</td>\n",
              "      <td>Not yet</td>\n",
              "      <td>Not yet</td>\n",
              "      <td>Beginner</td>\n",
              "    </tr>\n",
              "    <tr>\n",
              "      <th>2</th>\n",
              "      <td>Always</td>\n",
              "      <td>Usually</td>\n",
              "      <td>Always</td>\n",
              "      <td>Usually</td>\n",
              "      <td>Sometimes</td>\n",
              "      <td>Usually</td>\n",
              "      <td>Usually</td>\n",
              "      <td>Usually</td>\n",
              "      <td>Sometimes</td>\n",
              "      <td>Not yet</td>\n",
              "      <td>Advanced</td>\n",
              "    </tr>\n",
              "    <tr>\n",
              "      <th>3</th>\n",
              "      <td>Always</td>\n",
              "      <td>Usually</td>\n",
              "      <td>I don't know</td>\n",
              "      <td>Usually</td>\n",
              "      <td>Sometimes</td>\n",
              "      <td>Sometimes</td>\n",
              "      <td>Usually</td>\n",
              "      <td>Usually</td>\n",
              "      <td>Sometimes</td>\n",
              "      <td>Not yet</td>\n",
              "      <td>Advanced</td>\n",
              "    </tr>\n",
              "    <tr>\n",
              "      <th>4</th>\n",
              "      <td>Always</td>\n",
              "      <td>Usually</td>\n",
              "      <td>Usually</td>\n",
              "      <td>Always</td>\n",
              "      <td>Usually</td>\n",
              "      <td>Usually</td>\n",
              "      <td>Always</td>\n",
              "      <td>Always</td>\n",
              "      <td>Sometimes</td>\n",
              "      <td>Not yet</td>\n",
              "      <td>Advanced</td>\n",
              "    </tr>\n",
              "  </tbody>\n",
              "</table>\n",
              "</div>"
            ],
            "text/plain": [
              "  01_paddling    02_drop  ...     10_air surfer_experience\n",
              "0      Always     Always  ...  Sometimes          Advanced\n",
              "1     Usually  Sometimes  ...    Not yet          Beginner\n",
              "2      Always    Usually  ...    Not yet          Advanced\n",
              "3      Always    Usually  ...    Not yet          Advanced\n",
              "4      Always    Usually  ...    Not yet          Advanced\n",
              "\n",
              "[5 rows x 11 columns]"
            ]
          },
          "metadata": {
            "tags": []
          },
          "execution_count": 18
        }
      ]
    },
    {
      "cell_type": "markdown",
      "metadata": {
        "id": "0t5RGQ8rrr2g"
      },
      "source": [
        "### Scaling frequency adverbs - 0 to 1"
      ]
    },
    {
      "cell_type": "markdown",
      "metadata": {
        "id": "tUbDcNmIrr2g"
      },
      "source": [
        "As seen in `df_x`, the answers express the frequency of execution of each manoeuvre.\n",
        "Hence, we need to scale them from `0` to `1`, so they can be quantifiable.\n",
        "For so, we'll use a replacement dictionary, as follows."
      ]
    },
    {
      "cell_type": "code",
      "metadata": {
        "scrolled": true,
        "id": "o1FryWf2rr2g"
      },
      "source": [
        "replacement_dict = {\n",
        "    'Not yet': 0,\n",
        "    'Sometimes': 0.33,\n",
        "    'Usually': 0.66,\n",
        "    'Always': 1,\n",
        "    \"I don't know\": np.nan,\n",
        "}\n",
        "df.replace(inplace=True, to_replace=replacement_dict)\n",
        "\n",
        "# Filling NaN with mean value\n",
        "# df_x.fillna(df_x.mean(), inplace=True)\n",
        "# df_x"
      ],
      "execution_count": 19,
      "outputs": []
    },
    {
      "cell_type": "markdown",
      "metadata": {
        "id": "3xotswPKrr2h"
      },
      "source": [
        "### Managing NaN - Dropping rows with NaN in any column"
      ]
    },
    {
      "cell_type": "code",
      "metadata": {
        "id": "XqGkFC6Urr2h"
      },
      "source": [
        "# Check stats about NaN rows\n",
        "df_nan = pd.concat([df, df.dropna(how='any')]).drop_duplicates(keep=False)"
      ],
      "execution_count": 20,
      "outputs": []
    },
    {
      "cell_type": "code",
      "metadata": {
        "colab": {
          "base_uri": "https://localhost:8080/"
        },
        "id": "clIwpisWrr2h",
        "outputId": "71f62ed9-18f9-4c8a-9145-9ae87dcc18b6"
      },
      "source": [
        "# Dropping NaN in the 'surfer_experience' column\n",
        "print(df.shape)\n",
        "# df.dropna(how='any', subset=['surfer_experience'], inplace=True)\n",
        "print(df.shape)\n",
        "df.dropna(how='any', inplace=True)\n",
        "print(df.shape)"
      ],
      "execution_count": 21,
      "outputs": [
        {
          "output_type": "stream",
          "text": [
            "(165, 11)\n",
            "(165, 11)\n",
            "(110, 11)\n"
          ],
          "name": "stdout"
        }
      ]
    },
    {
      "cell_type": "markdown",
      "metadata": {
        "id": "jwA1wF1trr2h"
      },
      "source": [
        "## 3.2 Implementation"
      ]
    },
    {
      "cell_type": "markdown",
      "metadata": {
        "id": "HzBXQyf6rr2h"
      },
      "source": [
        "### 3.2.1 Splitting features: input and output"
      ]
    },
    {
      "cell_type": "code",
      "metadata": {
        "colab": {
          "base_uri": "https://localhost:8080/",
          "height": 195
        },
        "id": "xOGLsK63rr2h",
        "outputId": "b329d384-947e-443a-fff6-36275164de91"
      },
      "source": [
        "# Prepare input features\n",
        "df_x = df.drop(['surfer_experience'], axis=1)\n",
        "\n",
        "# Filling NaN with mean value\n",
        "# df_x.fillna(df_x.mean(), inplace=True)\n",
        "df_x.head()"
      ],
      "execution_count": 22,
      "outputs": [
        {
          "output_type": "execute_result",
          "data": {
            "text/html": [
              "<div>\n",
              "<style scoped>\n",
              "    .dataframe tbody tr th:only-of-type {\n",
              "        vertical-align: middle;\n",
              "    }\n",
              "\n",
              "    .dataframe tbody tr th {\n",
              "        vertical-align: top;\n",
              "    }\n",
              "\n",
              "    .dataframe thead th {\n",
              "        text-align: right;\n",
              "    }\n",
              "</style>\n",
              "<table border=\"1\" class=\"dataframe\">\n",
              "  <thead>\n",
              "    <tr style=\"text-align: right;\">\n",
              "      <th></th>\n",
              "      <th>01_paddling</th>\n",
              "      <th>02_drop</th>\n",
              "      <th>03_straight_ahead</th>\n",
              "      <th>04_wall_riding</th>\n",
              "      <th>05_floater</th>\n",
              "      <th>06_cut_back</th>\n",
              "      <th>07_carve</th>\n",
              "      <th>08_off_the_lip</th>\n",
              "      <th>09_tube</th>\n",
              "      <th>10_air</th>\n",
              "    </tr>\n",
              "  </thead>\n",
              "  <tbody>\n",
              "    <tr>\n",
              "      <th>0</th>\n",
              "      <td>1.00</td>\n",
              "      <td>1.00</td>\n",
              "      <td>1.00</td>\n",
              "      <td>1.00</td>\n",
              "      <td>1.00</td>\n",
              "      <td>0.66</td>\n",
              "      <td>0.66</td>\n",
              "      <td>0.66</td>\n",
              "      <td>0.66</td>\n",
              "      <td>0.33</td>\n",
              "    </tr>\n",
              "    <tr>\n",
              "      <th>1</th>\n",
              "      <td>0.66</td>\n",
              "      <td>0.33</td>\n",
              "      <td>0.00</td>\n",
              "      <td>0.00</td>\n",
              "      <td>0.00</td>\n",
              "      <td>0.00</td>\n",
              "      <td>0.00</td>\n",
              "      <td>0.00</td>\n",
              "      <td>0.00</td>\n",
              "      <td>0.00</td>\n",
              "    </tr>\n",
              "    <tr>\n",
              "      <th>2</th>\n",
              "      <td>1.00</td>\n",
              "      <td>0.66</td>\n",
              "      <td>1.00</td>\n",
              "      <td>0.66</td>\n",
              "      <td>0.33</td>\n",
              "      <td>0.66</td>\n",
              "      <td>0.66</td>\n",
              "      <td>0.66</td>\n",
              "      <td>0.33</td>\n",
              "      <td>0.00</td>\n",
              "    </tr>\n",
              "    <tr>\n",
              "      <th>4</th>\n",
              "      <td>1.00</td>\n",
              "      <td>0.66</td>\n",
              "      <td>0.66</td>\n",
              "      <td>1.00</td>\n",
              "      <td>0.66</td>\n",
              "      <td>0.66</td>\n",
              "      <td>1.00</td>\n",
              "      <td>1.00</td>\n",
              "      <td>0.33</td>\n",
              "      <td>0.00</td>\n",
              "    </tr>\n",
              "    <tr>\n",
              "      <th>5</th>\n",
              "      <td>1.00</td>\n",
              "      <td>1.00</td>\n",
              "      <td>1.00</td>\n",
              "      <td>1.00</td>\n",
              "      <td>1.00</td>\n",
              "      <td>1.00</td>\n",
              "      <td>1.00</td>\n",
              "      <td>1.00</td>\n",
              "      <td>1.00</td>\n",
              "      <td>0.33</td>\n",
              "    </tr>\n",
              "  </tbody>\n",
              "</table>\n",
              "</div>"
            ],
            "text/plain": [
              "   01_paddling  02_drop  03_straight_ahead  ...  08_off_the_lip  09_tube  10_air\n",
              "0         1.00     1.00               1.00  ...            0.66     0.66    0.33\n",
              "1         0.66     0.33               0.00  ...            0.00     0.00    0.00\n",
              "2         1.00     0.66               1.00  ...            0.66     0.33    0.00\n",
              "4         1.00     0.66               0.66  ...            1.00     0.33    0.00\n",
              "5         1.00     1.00               1.00  ...            1.00     1.00    0.33\n",
              "\n",
              "[5 rows x 10 columns]"
            ]
          },
          "metadata": {
            "tags": []
          },
          "execution_count": 22
        }
      ]
    },
    {
      "cell_type": "code",
      "metadata": {
        "scrolled": true,
        "colab": {
          "base_uri": "https://localhost:8080/"
        },
        "id": "BrcYZlBgrr2i",
        "outputId": "84fa574b-331c-4fc9-b00f-c2dec04c9336"
      },
      "source": [
        "# Prepare output feature\n",
        "s_y = df['surfer_experience']\n",
        "s_y.head()"
      ],
      "execution_count": 23,
      "outputs": [
        {
          "output_type": "execute_result",
          "data": {
            "text/plain": [
              "0    Advanced\n",
              "1    Beginner\n",
              "2    Advanced\n",
              "4    Advanced\n",
              "5    Advanced\n",
              "Name: surfer_experience, dtype: object"
            ]
          },
          "metadata": {
            "tags": []
          },
          "execution_count": 23
        }
      ]
    },
    {
      "cell_type": "markdown",
      "metadata": {
        "toc-hr-collapsed": true,
        "id": "o4sMXav6rr2i"
      },
      "source": [
        "### 3.2.2 Correlation Analysis"
      ]
    },
    {
      "cell_type": "markdown",
      "metadata": {
        "id": "ELTtYQWXrr2i"
      },
      "source": [
        "#### Getting correlation among features"
      ]
    },
    {
      "cell_type": "code",
      "metadata": {
        "colab": {
          "base_uri": "https://localhost:8080/",
          "height": 343
        },
        "id": "vlzNwLJErr2i",
        "outputId": "d47f55e7-f346-446b-d597-02a68fa78e02"
      },
      "source": [
        "# Correlation among features\n",
        "df_corr = df_x.corr().round(2)\n",
        "df_corr"
      ],
      "execution_count": 24,
      "outputs": [
        {
          "output_type": "execute_result",
          "data": {
            "text/html": [
              "<div>\n",
              "<style scoped>\n",
              "    .dataframe tbody tr th:only-of-type {\n",
              "        vertical-align: middle;\n",
              "    }\n",
              "\n",
              "    .dataframe tbody tr th {\n",
              "        vertical-align: top;\n",
              "    }\n",
              "\n",
              "    .dataframe thead th {\n",
              "        text-align: right;\n",
              "    }\n",
              "</style>\n",
              "<table border=\"1\" class=\"dataframe\">\n",
              "  <thead>\n",
              "    <tr style=\"text-align: right;\">\n",
              "      <th></th>\n",
              "      <th>01_paddling</th>\n",
              "      <th>02_drop</th>\n",
              "      <th>03_straight_ahead</th>\n",
              "      <th>04_wall_riding</th>\n",
              "      <th>05_floater</th>\n",
              "      <th>06_cut_back</th>\n",
              "      <th>07_carve</th>\n",
              "      <th>08_off_the_lip</th>\n",
              "      <th>09_tube</th>\n",
              "      <th>10_air</th>\n",
              "    </tr>\n",
              "  </thead>\n",
              "  <tbody>\n",
              "    <tr>\n",
              "      <th>01_paddling</th>\n",
              "      <td>1.00</td>\n",
              "      <td>0.63</td>\n",
              "      <td>0.51</td>\n",
              "      <td>0.54</td>\n",
              "      <td>0.32</td>\n",
              "      <td>0.39</td>\n",
              "      <td>0.42</td>\n",
              "      <td>0.37</td>\n",
              "      <td>0.30</td>\n",
              "      <td>0.12</td>\n",
              "    </tr>\n",
              "    <tr>\n",
              "      <th>02_drop</th>\n",
              "      <td>0.63</td>\n",
              "      <td>1.00</td>\n",
              "      <td>0.65</td>\n",
              "      <td>0.75</td>\n",
              "      <td>0.58</td>\n",
              "      <td>0.58</td>\n",
              "      <td>0.66</td>\n",
              "      <td>0.61</td>\n",
              "      <td>0.45</td>\n",
              "      <td>0.29</td>\n",
              "    </tr>\n",
              "    <tr>\n",
              "      <th>03_straight_ahead</th>\n",
              "      <td>0.51</td>\n",
              "      <td>0.65</td>\n",
              "      <td>1.00</td>\n",
              "      <td>0.62</td>\n",
              "      <td>0.38</td>\n",
              "      <td>0.43</td>\n",
              "      <td>0.42</td>\n",
              "      <td>0.40</td>\n",
              "      <td>0.27</td>\n",
              "      <td>0.13</td>\n",
              "    </tr>\n",
              "    <tr>\n",
              "      <th>04_wall_riding</th>\n",
              "      <td>0.54</td>\n",
              "      <td>0.75</td>\n",
              "      <td>0.62</td>\n",
              "      <td>1.00</td>\n",
              "      <td>0.63</td>\n",
              "      <td>0.63</td>\n",
              "      <td>0.70</td>\n",
              "      <td>0.69</td>\n",
              "      <td>0.49</td>\n",
              "      <td>0.27</td>\n",
              "    </tr>\n",
              "    <tr>\n",
              "      <th>05_floater</th>\n",
              "      <td>0.32</td>\n",
              "      <td>0.58</td>\n",
              "      <td>0.38</td>\n",
              "      <td>0.63</td>\n",
              "      <td>1.00</td>\n",
              "      <td>0.80</td>\n",
              "      <td>0.82</td>\n",
              "      <td>0.84</td>\n",
              "      <td>0.81</td>\n",
              "      <td>0.58</td>\n",
              "    </tr>\n",
              "    <tr>\n",
              "      <th>06_cut_back</th>\n",
              "      <td>0.39</td>\n",
              "      <td>0.58</td>\n",
              "      <td>0.43</td>\n",
              "      <td>0.63</td>\n",
              "      <td>0.80</td>\n",
              "      <td>1.00</td>\n",
              "      <td>0.86</td>\n",
              "      <td>0.77</td>\n",
              "      <td>0.73</td>\n",
              "      <td>0.52</td>\n",
              "    </tr>\n",
              "    <tr>\n",
              "      <th>07_carve</th>\n",
              "      <td>0.42</td>\n",
              "      <td>0.66</td>\n",
              "      <td>0.42</td>\n",
              "      <td>0.70</td>\n",
              "      <td>0.82</td>\n",
              "      <td>0.86</td>\n",
              "      <td>1.00</td>\n",
              "      <td>0.85</td>\n",
              "      <td>0.72</td>\n",
              "      <td>0.48</td>\n",
              "    </tr>\n",
              "    <tr>\n",
              "      <th>08_off_the_lip</th>\n",
              "      <td>0.37</td>\n",
              "      <td>0.61</td>\n",
              "      <td>0.40</td>\n",
              "      <td>0.69</td>\n",
              "      <td>0.84</td>\n",
              "      <td>0.77</td>\n",
              "      <td>0.85</td>\n",
              "      <td>1.00</td>\n",
              "      <td>0.74</td>\n",
              "      <td>0.51</td>\n",
              "    </tr>\n",
              "    <tr>\n",
              "      <th>09_tube</th>\n",
              "      <td>0.30</td>\n",
              "      <td>0.45</td>\n",
              "      <td>0.27</td>\n",
              "      <td>0.49</td>\n",
              "      <td>0.81</td>\n",
              "      <td>0.73</td>\n",
              "      <td>0.72</td>\n",
              "      <td>0.74</td>\n",
              "      <td>1.00</td>\n",
              "      <td>0.64</td>\n",
              "    </tr>\n",
              "    <tr>\n",
              "      <th>10_air</th>\n",
              "      <td>0.12</td>\n",
              "      <td>0.29</td>\n",
              "      <td>0.13</td>\n",
              "      <td>0.27</td>\n",
              "      <td>0.58</td>\n",
              "      <td>0.52</td>\n",
              "      <td>0.48</td>\n",
              "      <td>0.51</td>\n",
              "      <td>0.64</td>\n",
              "      <td>1.00</td>\n",
              "    </tr>\n",
              "  </tbody>\n",
              "</table>\n",
              "</div>"
            ],
            "text/plain": [
              "                   01_paddling  02_drop  ...  09_tube  10_air\n",
              "01_paddling               1.00     0.63  ...     0.30    0.12\n",
              "02_drop                   0.63     1.00  ...     0.45    0.29\n",
              "03_straight_ahead         0.51     0.65  ...     0.27    0.13\n",
              "04_wall_riding            0.54     0.75  ...     0.49    0.27\n",
              "05_floater                0.32     0.58  ...     0.81    0.58\n",
              "06_cut_back               0.39     0.58  ...     0.73    0.52\n",
              "07_carve                  0.42     0.66  ...     0.72    0.48\n",
              "08_off_the_lip            0.37     0.61  ...     0.74    0.51\n",
              "09_tube                   0.30     0.45  ...     1.00    0.64\n",
              "10_air                    0.12     0.29  ...     0.64    1.00\n",
              "\n",
              "[10 rows x 10 columns]"
            ]
          },
          "metadata": {
            "tags": []
          },
          "execution_count": 24
        }
      ]
    },
    {
      "cell_type": "markdown",
      "metadata": {
        "id": "7TK7Ipz5rr2i"
      },
      "source": [
        "#### Plot correlation heatmap\n",
        "Numbers are good, but colors are better!\n",
        "\n",
        "> \"The stronger the red, the stronger the correlation\"\n",
        "\n",
        "It can be noticed some correlation among the 05_floater and the 06 to 09 manoeuvres, which indicates that a surfer that is able to perform a floater, is also able to perform a cut_back, carve, off_the_lip and catch a tube.\n",
        "\n",
        "On the other hand, a surfer that surfs straight_ahead is not likely to perform the manoeuvres mentioned before."
      ]
    },
    {
      "cell_type": "code",
      "metadata": {
        "colab": {
          "base_uri": "https://localhost:8080/",
          "height": 352
        },
        "id": "QUyv4n1arr2i",
        "outputId": "799f1355-d015-42f3-dbf4-c8908ec607c1"
      },
      "source": [
        "ax = sns.heatmap(df_corr, cmap='coolwarm', vmin=-1, vmax=1)"
      ],
      "execution_count": 25,
      "outputs": [
        {
          "output_type": "display_data",
          "data": {
            "image/png": "[encoded data removed]",
            "text/plain": [
              "<Figure size 432x288 with 2 Axes>"
            ]
          },
          "metadata": {
            "tags": [],
            "needs_background": "light"
          }
        }
      ]
    },
    {
      "cell_type": "markdown",
      "metadata": {
        "id": "oYwmecNIrr2j"
      },
      "source": [
        "### 3.2.3 Feature Similarity Analysis (Dimensionality Reduction)\n",
        "Since we have 10 manoeuvres, we would need a graph with 10 dimensions in order to visualize how the experience levels are distributed.\n",
        "Hence, we apply the PCA technique.\n",
        "\n",
        "#### Implementing PCA and visualizing dimensions plot"
      ]
    },
    {
      "cell_type": "code",
      "metadata": {
        "colab": {
          "base_uri": "https://localhost:8080/",
          "height": 524
        },
        "id": "bqYar0mPrr2j",
        "outputId": "13d99cff-44d6-498a-b5c6-2cca62563ca6"
      },
      "source": [
        "# TODO Implement PCA\n",
        "from sklearn.decomposition import PCA\n",
        "import visuals as vs\n",
        "\n",
        "\n",
        "# TODO: Apply PCA by fitting the good data with the same number of dimensions as features\n",
        "pca = PCA(n_components=3)\n",
        "pca.fit(df_x);\n",
        "\n",
        "pca_results = vs.pca_results(df_x, pca)"
      ],
      "execution_count": 26,
      "outputs": [
        {
          "output_type": "display_data",
          "data": {
            "image/png": "[encoded data removed]",
            "text/plain": [
              "<Figure size 1008x576 with 1 Axes>"
            ]
          },
          "metadata": {
            "tags": [],
            "needs_background": "light"
          }
        }
      ]
    },
    {
      "cell_type": "markdown",
      "metadata": {
        "id": "iSAluTA-rr2j"
      },
      "source": [
        "The insights we get from the 3 PCA dimensions are:\n",
        "- Dimension 1 indicates all manoeuvres influence the experience level;\n",
        "- Dimension 2 indicates that manoeuvres 'floater', 'tube' and 'air' are some how closely oriented. As opposed to manoeuvres 1, 2, 3, 4 and 7;\n",
        "- Dimension 3 indicates that manoeuvres 'cut_back', 'carve' and 'off_the_lip'are some how closely oriented.\n",
        "\n",
        "These are only assumptions that must be verified later."
      ]
    },
    {
      "cell_type": "code",
      "metadata": {
        "id": "JpSZaeegrr2j"
      },
      "source": [
        "# TODO: Transform the good data using the PCA fit above\n",
        "reduced_data = pca.transform(df_x)\n",
        "\n",
        "# Create a DataFrame for the reduced data\n",
        "reduced_data = pd.DataFrame(reduced_data, columns = ['Dimension 1', 'Dimension 2', 'Dimension 3'])"
      ],
      "execution_count": 27,
      "outputs": []
    },
    {
      "cell_type": "code",
      "metadata": {
        "id": "aP3tW3evrr2k"
      },
      "source": [
        "## Functions preparation from Udacity's resources\n",
        "\n",
        "import matplotlib.pyplot as plt\n",
        "def biplot(good_data, reduced_data, pca, colors=None):\n",
        "    '''\n",
        "    Produce a biplot that shows a scatterplot of the reduced\n",
        "    data and the projections of the original features.\n",
        "    \n",
        "    good_data: original data, before transformation.\n",
        "               Needs to be a pandas dataframe with valid column names\n",
        "    reduced_data: the reduced data (the first two dimensions are plotted)\n",
        "    pca: pca object that contains the components_ attribute\n",
        "\n",
        "    return: a matplotlib AxesSubplot object (for any additional customization)\n",
        "    \n",
        "    This procedure is inspired by the script:\n",
        "    https://github.com/teddyroland/python-biplot\n",
        "    '''\n",
        "\n",
        "    fig, ax = plt.subplots(figsize = (14, 8))\n",
        "\n",
        "    # scatterplot of the reduced data    \n",
        "    ax.scatter(x=reduced_data.loc[:, 'Dimension 1'], y=reduced_data.loc[:, 'Dimension 2'], \n",
        "        facecolors=colors,\n",
        "        edgecolors='b',\n",
        "        s=70,\n",
        "#         alpha=0.5\n",
        "        )\n",
        "    \n",
        "    feature_vectors = pca.components_.T\n",
        "\n",
        "    # we use scaling factors to make the arrows easier to see\n",
        "    arrow_size, text_pos = 1.1, 1.2,\n",
        "\n",
        "\n",
        "    # projections of the original features\n",
        "    for i, v in enumerate(feature_vectors):\n",
        "        ax.arrow(0, 0, arrow_size*v[0], arrow_size*v[1], \n",
        "                  head_width=0.05, head_length=0.05, linewidth=1, color='red')\n",
        "        ax.text(v[0]*text_pos, v[1]*text_pos, good_data.columns[i], color='black', \n",
        "                 ha='center', va='center', fontsize=10)\n",
        "\n",
        "    ax.set_xlabel(\"Dimension 1\", fontsize=14)\n",
        "    ax.set_ylabel(\"Dimension 2\", fontsize=14)\n",
        "    ax.set_title(\"PC plane with original feature projections.\", fontsize=16)\n",
        "\n",
        "    return ax"
      ],
      "execution_count": 28,
      "outputs": []
    },
    {
      "cell_type": "markdown",
      "metadata": {
        "id": "-avhKYImrr2k"
      },
      "source": [
        "#### Assigning colors to labels"
      ]
    },
    {
      "cell_type": "code",
      "metadata": {
        "colab": {
          "base_uri": "https://localhost:8080/"
        },
        "id": "LLoYhi0Jrr2k",
        "outputId": "ce3205c9-5d40-410f-c3d0-c9b9004e70af"
      },
      "source": [
        "colors_dict = {\n",
        "    'Beginner': 'red',\n",
        "    'Intermediate': 'yellow',\n",
        "    'Advanced': 'green',\n",
        "}\n",
        "# print(list(s_y))\n",
        "s_y.fillna('error_gui', inplace=True)\n",
        "# print(colors_dict[s_y[0]])\n",
        "s_colors = s_y.apply(lambda x: colors_dict.get(x, 'white'))\n",
        "s_colors.head()  # series of colors representing each label"
      ],
      "execution_count": 29,
      "outputs": [
        {
          "output_type": "execute_result",
          "data": {
            "text/plain": [
              "0    green\n",
              "1      red\n",
              "2    green\n",
              "4    green\n",
              "5    green\n",
              "Name: surfer_experience, dtype: object"
            ]
          },
          "metadata": {
            "tags": []
          },
          "execution_count": 29
        }
      ]
    },
    {
      "cell_type": "markdown",
      "metadata": {
        "id": "MChU5Cd2rr2k"
      },
      "source": [
        "#### Visualizing PCA Biplot"
      ]
    },
    {
      "cell_type": "code",
      "metadata": {
        "colab": {
          "base_uri": "https://localhost:8080/",
          "height": 519
        },
        "id": "b3MR5D03rr2k",
        "outputId": "770fdd00-60fe-4202-9bd9-04836bf73a45"
      },
      "source": [
        "# Create a biplot\n",
        "biplot(df_x, reduced_data, pca, s_colors);"
      ],
      "execution_count": 30,
      "outputs": [
        {
          "output_type": "display_data",
          "data": {
            "image/png": "[encoded data removed]",
            "text/plain": [
              "<Figure size 1008x576 with 1 Axes>"
            ]
          },
          "metadata": {
            "tags": [],
            "needs_background": "light"
          }
        }
      ]
    },
    {
      "cell_type": "code",
      "metadata": {
        "colab": {
          "base_uri": "https://localhost:8080/"
        },
        "id": "tvv_4OKlrr2l",
        "outputId": "35f037ae-7377-4b1d-8436-eaa8a434489f"
      },
      "source": [
        "print('BIPLOT LEGEND')\n",
        "for k, v in colors_dict.items():\n",
        "    k = k.ljust(14)\n",
        "    print(f'\\tLevel: {k}color: {v}')"
      ],
      "execution_count": 31,
      "outputs": [
        {
          "output_type": "stream",
          "text": [
            "BIPLOT LEGEND\n",
            "\tLevel: Beginner      color: red\n",
            "\tLevel: Intermediate  color: yellow\n",
            "\tLevel: Advanced      color: green\n"
          ],
          "name": "stdout"
        }
      ]
    },
    {
      "cell_type": "markdown",
      "metadata": {
        "id": "gc_VSuD2rr2l"
      },
      "source": [
        "#### Interpreting PCA Biplot\n",
        "\n",
        "In the biplot visualization the direction of the vectors indicate how aligned they are with each other.\n",
        "The first four manoeuvres (Paddling, Drop, Straight ahead and Wall riding) are close on the bottom of the figure.\n",
        "Cut_back, carve and off_the_lip are also close to each other, on the left of the figure parallel to the horizontal axis.\n",
        "The last three (floater, tube and air) are a bit far from each other.\n",
        "The interesting thing about these vectors is the significance of their angles.\n",
        "The easiest manoeuvre to perform is paddling, whilst the hardest is air.\n",
        "Therefore, the difficulty of each manoeuvre is expressed clock-wise.\n",
        "Hours in a clock are equivalent to the experience required.\n",
        "If we had to to segment the surfer's experience in 10 cluster, we'd succeed by following the manoeuvres clock-wise.\n",
        "This represents a verification concept.\n",
        "\n",
        "We could imagine a 5 cluster division:\n",
        "1. Paddling, Drop, Straight ahead and Wall riding\n",
        "2. Cut_back, Carve and off_the_lip\n",
        "3. Floater\n",
        "4. Tube\n",
        "5. Air\n",
        "\n",
        "Or even, a simpler, 3 cluster division:\n",
        "1. Paddling, Drop, Straight ahead and Wall riding\n",
        "2. Cut_back, Carve and Off_the_lip\n",
        "3. Floater, Tube and Air"
      ]
    },
    {
      "cell_type": "markdown",
      "metadata": {
        "id": "qgIQRWY2rr2l"
      },
      "source": [
        "### 3.2.4 Benchmark model"
      ]
    },
    {
      "cell_type": "code",
      "metadata": {
        "colab": {
          "base_uri": "https://localhost:8080/"
        },
        "id": "rLnPJ1lSrr2l",
        "outputId": "5456d592-9da1-4d57-df67-e50713b42534"
      },
      "source": [
        "# Multinomial Naive Bayes model\n",
        "from sklearn.naive_bayes import MultinomialNB\n",
        "clf = MultinomialNB()\n",
        "clf.fit(df_x, s_y)\n",
        "\n",
        "acc_nb = clf.score(df_x, s_y)\n",
        "print(f'Mean accuracy of the Multinomial Naive Bayes model: {int(acc_nb*100)}%')\n",
        "print()\n",
        "print(f'Probability for the BEGINNER class: {(clf.predict_proba(df_x)[:, 1].mean() * 100).round(1)}%')\n",
        "print(f'Probability for the INTERMEDIATE class: {(clf.predict_proba(df_x)[:, 2].mean() * 100).round(1)}%')\n",
        "print(f'Probability for the ADVANCED class: {(clf.predict_proba(df_x)[:, 0].mean() * 100).round(1)}%')"
      ],
      "execution_count": 56,
      "outputs": [
        {
          "output_type": "stream",
          "text": [
            "Mean accuracy of the Multinomial Naive Bayes model: 73%\n",
            "\n",
            "Probability for the BEGINNER class: 5.8%\n",
            "Probability for the INTERMEDIATE class: 35.1%\n",
            "Probability for the ADVANCED class: 59.1%\n"
          ],
          "name": "stdout"
        }
      ]
    },
    {
      "cell_type": "markdown",
      "metadata": {
        "id": "3X0RZeE8rr2l"
      },
      "source": [
        "### 3.2.5 Prediction model \n",
        "#### Decision Tree (Full)"
      ]
    },
    {
      "cell_type": "code",
      "metadata": {
        "colab": {
          "base_uri": "https://localhost:8080/"
        },
        "id": "rp5wX0SErr2l",
        "outputId": "a7735816-a833-4b71-aa27-3105174e04ac"
      },
      "source": [
        "from sklearn.tree import DecisionTreeClassifier, plot_tree, export_graphviz\n",
        "from sklearn.metrics import accuracy_score\n",
        "from sklearn.model_selection import train_test_split\n",
        "\n",
        "X = df_x\n",
        "y = s_y\n",
        "\n",
        "random_states = [10, 20, 30, 40, 42]\n",
        "accs = []\n",
        "for random_state in random_states:\n",
        "    X_train, X_test, y_train, y_test = train_test_split(X, y, test_size=0.40, random_state=random_state)\n",
        "    model = DecisionTreeClassifier()\n",
        "    model.fit(X_train, y_train)\n",
        "    y_pred = model.predict(X_test)\n",
        "    acc_full = accuracy_score(y_test, y_pred)\n",
        "    accs.append(acc_full)\n",
        "    print(f'\\tRandom state:{random_state}\\t\\tAccuracy: {int(acc_full*100)}%')\n",
        "print(f'Mean accuracy: {int(np.mean(accs)*100)}%')\n",
        "print(f'Standard deviation of Accuracy: {np.std(accs).round(3)}')"
      ],
      "execution_count": 60,
      "outputs": [
        {
          "output_type": "stream",
          "text": [
            "\tRandom state:10\t\tAccuracy: 79%\n",
            "\tRandom state:20\t\tAccuracy: 77%\n",
            "\tRandom state:30\t\tAccuracy: 81%\n",
            "\tRandom state:40\t\tAccuracy: 70%\n",
            "\tRandom state:42\t\tAccuracy: 79%\n",
            "Mean accuracy: 77%\n",
            "Standard deviation of Accuracy: 0.039\n"
          ],
          "name": "stdout"
        }
      ]
    },
    {
      "cell_type": "code",
      "metadata": {
        "colab": {
          "base_uri": "https://localhost:8080/"
        },
        "id": "7A4SqpePrr2m",
        "outputId": "7a0861b1-6b38-4875-c727-cb4132f1e6ea"
      },
      "source": [
        "print(f\"X.shape: {X.shape}\")\n",
        "print(f\"X_train.shape: {X_train.shape}\")\n",
        "print(f\"X_test.shape: {X_test.shape}\")\n",
        "print(f\"y.shape: {y.shape}\")\n",
        "print(f\"y_train.shape: {y_train.shape}\")\n",
        "print(f\"y_test.shape: {y_test.shape}\")"
      ],
      "execution_count": 59,
      "outputs": [
        {
          "output_type": "stream",
          "text": [
            "X.shape: (110, 10)\n",
            "X_train.shape: (66, 10)\n",
            "X_test.shape: (44, 10)\n",
            "y.shape: (110,)\n",
            "y_train.shape: (66,)\n",
            "y_test.shape: (44,)\n"
          ],
          "name": "stdout"
        }
      ]
    },
    {
      "cell_type": "markdown",
      "metadata": {
        "id": "LWZPdg7irr2m"
      },
      "source": [
        "#### Interpreting the model\n",
        "- The 110 rows of data was randomly split using a 0.40 factor: 40% (44) became the testing set and 60% (66) became the training set;\n",
        "- Accuracy was verified for different random_states. Its mean value is 77%;"
      ]
    },
    {
      "cell_type": "code",
      "metadata": {
        "colab": {
          "base_uri": "https://localhost:8080/",
          "height": 520
        },
        "id": "jyBxmkEXrr2m",
        "outputId": "ae86c2e5-1edc-414a-9d1f-4fd44be1f82d"
      },
      "source": [
        "# Plot full decision tree\n",
        "\n",
        "fig = plt.gcf()\n",
        "fig.set_size_inches(16, 9)\n",
        "plot_tree(model, filled=True, feature_names=X.columns);\n",
        "fig.savefig('tree_full_00.svg')"
      ],
      "execution_count": 61,
      "outputs": [
        {
          "output_type": "display_data",
          "data": {
            "image/png": "[encoded data removed]",
            "text/plain": [
              "<Figure size 1152x648 with 1 Axes>"
            ]
          },
          "metadata": {
            "tags": [],
            "needs_background": "light"
          }
        }
      ]
    },
    {
      "cell_type": "markdown",
      "metadata": {
        "id": "EJXbslFcrr2m"
      },
      "source": [
        "#### Checking feature importance"
      ]
    },
    {
      "cell_type": "code",
      "metadata": {
        "colab": {
          "base_uri": "https://localhost:8080/"
        },
        "id": "8wzKMjGJrr2m",
        "outputId": "339acbdf-2489-4c4b-f5a2-c522dde14620"
      },
      "source": [
        "feat_imp = model.feature_importances_\n",
        "s_feat_imp = pd.Series(feat_imp*100, index=X.columns)\n",
        "s_feat_imp.sort_values(ascending=False).round(1)"
      ],
      "execution_count": 62,
      "outputs": [
        {
          "output_type": "execute_result",
          "data": {
            "text/plain": [
              "07_carve             43.7\n",
              "04_wall_riding       18.6\n",
              "05_floater            9.5\n",
              "09_tube               7.7\n",
              "02_drop               7.3\n",
              "03_straight_ahead     5.3\n",
              "01_paddling           4.0\n",
              "06_cut_back           2.8\n",
              "10_air                1.1\n",
              "08_off_the_lip        0.0\n",
              "dtype: float64"
            ]
          },
          "metadata": {
            "tags": []
          },
          "execution_count": 62
        }
      ]
    },
    {
      "cell_type": "markdown",
      "metadata": {
        "id": "w8w3bIvlrr2m"
      },
      "source": [
        "## 3.3 Refinement\n",
        "#### Decision Tree (Reduced)\n",
        "Simplifying model by reducing the dataset to the two most important features: 07_carve(46%) and 04_wall_riding(16%)"
      ]
    },
    {
      "cell_type": "code",
      "metadata": {
        "colab": {
          "base_uri": "https://localhost:8080/"
        },
        "id": "oLz8HgcMrr2m",
        "outputId": "1add4d38-8452-4cd5-e0e6-065cfee12908"
      },
      "source": [
        "from sklearn.tree import DecisionTreeClassifier, plot_tree, export_graphviz\n",
        "from sklearn.metrics import accuracy_score\n",
        "from sklearn.model_selection import train_test_split\n",
        "\n",
        "X = df_x\n",
        "y = s_y\n",
        "\n",
        "X_reduced = X.loc[:, ['04_wall_riding', '07_carve']]\n",
        "\n",
        "accs = []\n",
        "random_states = [10, 20, 30, 40, 42]\n",
        "for random_state in random_states:\n",
        "    X_train, X_test, y_train, y_test = train_test_split(X_reduced, y, test_size=0.40, random_state=random_state)\n",
        "    model_reduced = DecisionTreeClassifier()\n",
        "    model_reduced.fit(X_train, y_train)\n",
        "    y_pred = model_reduced.predict(X_test)\n",
        "    acc_reduced = accuracy_score(y_test, y_pred)\n",
        "    accs.append(acc_reduced)\n",
        "    print(f'Random state:{random_state}\\t\\tAccuracy: {int(acc_reduced*100)}%')\n",
        "print(f'Mean accuracy: {int(np.mean(accs)*100)}%')\n",
        "print(f'Standard deviation of Accuracy: {np.std(accs).round(3)}')"
      ],
      "execution_count": 63,
      "outputs": [
        {
          "output_type": "stream",
          "text": [
            "Random state:10\t\tAccuracy: 75%\n",
            "Random state:20\t\tAccuracy: 72%\n",
            "Random state:30\t\tAccuracy: 88%\n",
            "Random state:40\t\tAccuracy: 79%\n",
            "Random state:42\t\tAccuracy: 81%\n",
            "Mean accuracy: 79%\n",
            "Standard deviation of Accuracy: 0.056\n"
          ],
          "name": "stdout"
        }
      ]
    },
    {
      "cell_type": "markdown",
      "metadata": {
        "id": "Aaznkx06rr2n"
      },
      "source": [
        "#### Interpretating the reduced model\n",
        "- The mean accuracy with the reduced model is 79%;\n",
        "- As observed in the previous cell, its reasonable to say the reduced model is prone to get 4 right predictions out of 5."
      ]
    },
    {
      "cell_type": "code",
      "metadata": {
        "colab": {
          "base_uri": "https://localhost:8080/",
          "height": 520
        },
        "id": "PHaSnsxvrr2n",
        "outputId": "fa77d67b-f94c-48f5-de52-ecfb3c369690"
      },
      "source": [
        "# Plot full decision tree\n",
        "fig = plt.gcf()\n",
        "fig.set_size_inches(16, 9)\n",
        "plot_tree(model_reduced, rounded=True, filled=True, proportion=True, feature_names=X_reduced.columns, class_names=y.unique());\n",
        "fig.savefig('tree_reduced_01.svg')"
      ],
      "execution_count": 67,
      "outputs": [
        {
          "output_type": "display_data",
          "data": {
            "image/png": "[encoded data removed]",
            "text/plain": [
              "<Figure size 1152x648 with 1 Axes>"
            ]
          },
          "metadata": {
            "tags": [],
            "needs_background": "light"
          }
        }
      ]
    },
    {
      "cell_type": "code",
      "metadata": {
        "colab": {
          "base_uri": "https://localhost:8080/"
        },
        "id": "5H22BSVTrr2n",
        "outputId": "779e5b26-cd3f-402a-e434-c6cab7883c21"
      },
      "source": [
        "# get params details\n",
        "print(f'Depth: {model_reduced.get_depth()}')\n",
        "print(f'Number of leaves: {model_reduced.get_n_leaves()}')"
      ],
      "execution_count": 66,
      "outputs": [
        {
          "output_type": "stream",
          "text": [
            "Depth: 4\n",
            "Number of leaves: 9\n"
          ],
          "name": "stdout"
        }
      ]
    },
    {
      "cell_type": "markdown",
      "metadata": {
        "id": "PBUAq-fTrr2n"
      },
      "source": [
        "***\n",
        "# 4. Results\n",
        "## 4.1 Model Evaluation and Validation\n",
        "\n",
        "The final model was chosen based on its supposed use: during surfboard recommendation among a surfer and a shaper.\n",
        "\n",
        "It's assumed that surfers may find tedious to answer 10 questions for the recommendation process. Hence a reduced model is more likely to succed.\n",
        "\n",
        "Two features account for around 60% of the total importance of the model (`07_carve: 44%` and `04_wall_riding: 19%`). Only theses two features compose the reduced and final model.\n",
        "\n",
        "The final model has 4 levels of depth and 9 leaves (as seen in the Figure aboce), which leads to an accuracy of 79%.\n",
        "\n",
        "\n",
        "**The final model is reasonable and aligns with the expected solution:** The reduced model is chosen as the final model because it offers a reasonable accuracy (80%) whilst using only 20% of the inputs of the full model dataset.\n",
        "In practice, this means only two questions (instead of ten) are needed in order to predict the surfers experience level.\n",
        "\n",
        "\n",
        "**The final model was tested with various input sets:** varied due to the verified random_states.\n",
        "\n",
        "**The final model is robust:** Different random states yield small accuracy standard deviation (0.056)."
      ]
    },
    {
      "cell_type": "markdown",
      "metadata": {
        "id": "75d1q_K_rr2n"
      },
      "source": [
        "## 4.2 Justification\n",
        "\n",
        "### Benchmark comparison"
      ]
    },
    {
      "cell_type": "code",
      "metadata": {
        "colab": {
          "base_uri": "https://localhost:8080/"
        },
        "id": "lEz3DDa-rr2n",
        "outputId": "0c943931-5352-47a9-ecb7-c9161dbbdd03"
      },
      "source": [
        "print(f'The FULL decision tree accuracy is {(acc_full / acc_nb - 1).round(3) * 100}% above reference')\n",
        "print(f'The REDUCED decision tree accuracy is {(acc_reduced / acc_nb - 1).round(3) * 100}% above reference')"
      ],
      "execution_count": 68,
      "outputs": [
        {
          "output_type": "stream",
          "text": [
            "The FULL decision tree accuracy is 8.0% above reference\n",
            "The REDUCED decision tree accuracy is 11.1% above reference\n"
          ],
          "name": "stdout"
        }
      ]
    },
    {
      "cell_type": "markdown",
      "metadata": {
        "id": "XibRhzHwrr2o"
      },
      "source": [
        "These results and solution  are significant because they overcome the naive model (unexperienced shaper) by 11%.\n",
        "\n",
        "The reduced decision tree could be printed and used manually (without any computer). The full tree is too complex for that purpose;"
      ]
    },
    {
      "cell_type": "markdown",
      "metadata": {
        "id": "Uichdxb8rr2o"
      },
      "source": [
        "***\n",
        "# 5. Conclusion"
      ]
    },
    {
      "cell_type": "markdown",
      "metadata": {
        "id": "NZlNMZNNrr2o"
      },
      "source": [
        "## 5.1 Free-Form Visualization"
      ]
    },
    {
      "cell_type": "markdown",
      "metadata": {
        "id": "NAGL0e0Mrr2o"
      },
      "source": [
        "The decision process provided by the tree represented in its Figure starts with the evaluation of surfers capacity to perform the carve manoeuvre. If he usually (0.66) or always (1.00) execute it, he's considered an advanced surfer, as all the following leaves of the right branch are orange, which outputs the `class: Advanced` as seen in the orange boxes.\n",
        "\n",
        "On the other hand if a surfer is unable to perform a carve or wallriding manoeuvre, then he's classified as a beginner, and he'll cruise the most left branch of the tree, following the green leaves were `class: Beginner`.\n",
        "\n",
        "A third surfer, intermediate would fall in the purple leaves, around the middle of the tree."
      ]
    },
    {
      "cell_type": "markdown",
      "metadata": {
        "id": "--kUvHIQrr2o"
      },
      "source": [
        "## 5.2 Reflection\n",
        "\n",
        "The following sections describe the work process of this project.\n",
        "\n",
        "**Data was explored:**\n",
        "\n",
        "- the content of the first rows were observed,\n",
        "- the size of the dataset was calculated (165 rows and 11 columns),\n",
        "- the name of each column was explored,\n",
        "- the unique values of the features were identified,\n",
        "- data was statistically described,\n",
        "- the dataset is unbalanced. It has to few Beginner observations (14), compared to Intermediate (66) and Advanced (84).\n",
        "\n",
        "**Data was visually explored:**\n",
        "Data was visually explored evidencing the left-skewed distribution of experience among the respondent surfers. The frequency of execution of each manoeuvre was calculated and ploted accordingly to the level of experience.\n",
        "\n",
        "**Data was preprocessed:**\n",
        "\n",
        "- Features were renamed, \n",
        "- Data was translated to English and scaled with respect to the intensity of frequency adverbs,\n",
        "- 45 Rows with any NaN (not a number) were discarted,\n",
        "- Data was split into two: input (X) and output (y);\n",
        "\n",
        "**Algorithms and models were implemented:**\n",
        "\n",
        "- Data correlation was analyzed. It was found that floater is a manoeuvre highly correlated to others.\n",
        "- Feature similarity was analyzed. Within a PCA analysis, the vectors which represent each feature were compared, in terms of direction and intensity. The cut-back and off-the-lip manoeuvres are pretty similar.\n",
        "- A Naive Bayes classifier for multinomial model was set as benchmark, which sets the accuracy reference at 73%.\n",
        "- A decision tree with the full dataset was implemented yielding an accuracy of 77%.\n",
        "- Two features are the most important: 07_carve (44% of importance) and 04_wall_riding (19%). The feature importance provided the insight to simplify the model by reducing its number of input features.\n",
        "- A reduced decision tree with only 2 out of 10 input features was implemented, resulting in a lighter model with higher accuracy (79%). This represents the refined and chosen model.\n",
        "- The model can be simplified to only two of the ten features, whilst imporving accuracy (win-win decision). In practice, this means the shaper only needs to ask two instead of ten questions to the surfer to predict his experience level.\n",
        "- Figures were generated to help the understanding of the decision process of each tree. The reduced model is more intuitive, as expected.\n",
        "- Some experience levels declared by the surfers may be wrong, as the same manoeuvres inputs may yield different experience labels. This is probably due to the subjectivity inherent in the statement of one's own experience.\n",
        "\n",
        "**Interesting aspect**\n",
        "\n",
        "The most interesting aspect of this project is that one single feature `07_carve` accounts for 44% of the models importance. This fact really surprised me. I didn't expect such a high number.\n",
        "\n",
        "**Difficult aspect**\n",
        "\n",
        "The most difficult aspect was the uncertainty about how to manage the NaN values. I'm not 100% comfortable about simply dropping any row that has a NaN in it."
      ]
    },
    {
      "cell_type": "markdown",
      "metadata": {
        "id": "pUODrHV8rr2o"
      },
      "source": [
        "## 5.3 Improvement\n",
        "- The most promising aspect to improve the model is two fold:\n",
        "    - Fine tune the decision tree with respect to `max_depth`, `min_samples_split` and `min_samples_leaf`;\n",
        "    - Vary the number of features of the reduced models, start by analysing with only one feature `07_carve` feature. Then, explore with three features, and so on.\n",
        "- Explore different alternatives about managing NaN, which requires further research;\n",
        "- Interpretate the decision tree (graphically generated) with expert shapers, in order to tune it;\n",
        "- It's highly encourage the exploration and comparison of other supervised algorithms."
      ]
    }
  ]
}