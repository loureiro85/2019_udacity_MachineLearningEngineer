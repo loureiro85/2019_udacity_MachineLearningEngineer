{
 "cells": [
  {
   "cell_type": "markdown",
   "metadata": {},
   "source": [
    "\n",
    "## Identifying Surfer's Experience Group Based on Performed Manoeuvres\n",
    "\n",
    "**Guilherme Branco Loureiro** - August, 2019 - Florianópolis Brazil - Capstone Project"
   ]
  },
  {
   "cell_type": "markdown",
   "metadata": {},
   "source": [
    "***\n",
    "### Import modules"
   ]
  },
  {
   "cell_type": "code",
   "execution_count": 49,
   "metadata": {},
   "outputs": [],
   "source": [
    "import pandas as pd\n",
    "import numpy as np\n",
    "import random\n",
    "import seaborn as sns"
   ]
  },
  {
   "cell_type": "code",
   "execution_count": 10,
   "metadata": {},
   "outputs": [
    {
     "data": {
      "text/html": [
       "<div>\n",
       "<style scoped>\n",
       "    .dataframe tbody tr th:only-of-type {\n",
       "        vertical-align: middle;\n",
       "    }\n",
       "\n",
       "    .dataframe tbody tr th {\n",
       "        vertical-align: top;\n",
       "    }\n",
       "\n",
       "    .dataframe thead th {\n",
       "        text-align: right;\n",
       "    }\n",
       "</style>\n",
       "<table border=\"1\" class=\"dataframe\">\n",
       "  <thead>\n",
       "    <tr style=\"text-align: right;\">\n",
       "      <th></th>\n",
       "      <th>manoeuvres_01_paddling</th>\n",
       "      <th>manoeuvres_02_drop</th>\n",
       "      <th>manoeuvres_03_straight_ahead</th>\n",
       "      <th>manoeuvres_04_wall_riding</th>\n",
       "      <th>manoeuvres_05_floater</th>\n",
       "      <th>manoeuvres_06_cut_back</th>\n",
       "      <th>manoeuvres_07_rasgada</th>\n",
       "      <th>manoeuvres_08_off_the_lip</th>\n",
       "      <th>manoeuvres_09_tube</th>\n",
       "      <th>manoeuvres_10_air</th>\n",
       "      <th>surfer_experience</th>\n",
       "    </tr>\n",
       "  </thead>\n",
       "  <tbody>\n",
       "    <tr>\n",
       "      <th>0</th>\n",
       "      <td>Sempre consigo</td>\n",
       "      <td>Sempre consigo</td>\n",
       "      <td>Sempre consigo</td>\n",
       "      <td>Sempre consigo</td>\n",
       "      <td>Sempre consigo</td>\n",
       "      <td>Consigo normalmente</td>\n",
       "      <td>Consigo normalmente</td>\n",
       "      <td>Consigo normalmente</td>\n",
       "      <td>Consigo normalmente</td>\n",
       "      <td>As vezes eu consigo</td>\n",
       "      <td>Avançado</td>\n",
       "    </tr>\n",
       "    <tr>\n",
       "      <th>1</th>\n",
       "      <td>Consigo normalmente</td>\n",
       "      <td>As vezes eu consigo</td>\n",
       "      <td>Ainda não consigo</td>\n",
       "      <td>Ainda não consigo</td>\n",
       "      <td>Ainda não consigo</td>\n",
       "      <td>Ainda não consigo</td>\n",
       "      <td>Ainda não consigo</td>\n",
       "      <td>Ainda não consigo</td>\n",
       "      <td>Ainda não consigo</td>\n",
       "      <td>Ainda não consigo</td>\n",
       "      <td>Aprendiz</td>\n",
       "    </tr>\n",
       "    <tr>\n",
       "      <th>2</th>\n",
       "      <td>Sempre consigo</td>\n",
       "      <td>Consigo normalmente</td>\n",
       "      <td>Sempre consigo</td>\n",
       "      <td>Consigo normalmente</td>\n",
       "      <td>As vezes eu consigo</td>\n",
       "      <td>Consigo normalmente</td>\n",
       "      <td>Consigo normalmente</td>\n",
       "      <td>Consigo normalmente</td>\n",
       "      <td>As vezes eu consigo</td>\n",
       "      <td>Ainda não consigo</td>\n",
       "      <td>Avançado</td>\n",
       "    </tr>\n",
       "    <tr>\n",
       "      <th>3</th>\n",
       "      <td>Sempre consigo</td>\n",
       "      <td>Consigo normalmente</td>\n",
       "      <td>Não sei</td>\n",
       "      <td>Consigo normalmente</td>\n",
       "      <td>As vezes eu consigo</td>\n",
       "      <td>As vezes eu consigo</td>\n",
       "      <td>Consigo normalmente</td>\n",
       "      <td>Consigo normalmente</td>\n",
       "      <td>As vezes eu consigo</td>\n",
       "      <td>Ainda não consigo</td>\n",
       "      <td>Avançado</td>\n",
       "    </tr>\n",
       "    <tr>\n",
       "      <th>4</th>\n",
       "      <td>Sempre consigo</td>\n",
       "      <td>Consigo normalmente</td>\n",
       "      <td>Consigo normalmente</td>\n",
       "      <td>Sempre consigo</td>\n",
       "      <td>Consigo normalmente</td>\n",
       "      <td>Consigo normalmente</td>\n",
       "      <td>Sempre consigo</td>\n",
       "      <td>Sempre consigo</td>\n",
       "      <td>As vezes eu consigo</td>\n",
       "      <td>Ainda não consigo</td>\n",
       "      <td>Avançado</td>\n",
       "    </tr>\n",
       "  </tbody>\n",
       "</table>\n",
       "</div>"
      ],
      "text/plain": [
       "  manoeuvres_01_paddling   manoeuvres_02_drop manoeuvres_03_straight_ahead  \\\n",
       "0         Sempre consigo       Sempre consigo               Sempre consigo   \n",
       "1    Consigo normalmente  As vezes eu consigo            Ainda não consigo   \n",
       "2         Sempre consigo  Consigo normalmente               Sempre consigo   \n",
       "3         Sempre consigo  Consigo normalmente                      Não sei   \n",
       "4         Sempre consigo  Consigo normalmente          Consigo normalmente   \n",
       "\n",
       "  manoeuvres_04_wall_riding manoeuvres_05_floater manoeuvres_06_cut_back  \\\n",
       "0            Sempre consigo        Sempre consigo    Consigo normalmente   \n",
       "1         Ainda não consigo     Ainda não consigo      Ainda não consigo   \n",
       "2       Consigo normalmente   As vezes eu consigo    Consigo normalmente   \n",
       "3       Consigo normalmente   As vezes eu consigo    As vezes eu consigo   \n",
       "4            Sempre consigo   Consigo normalmente    Consigo normalmente   \n",
       "\n",
       "  manoeuvres_07_rasgada manoeuvres_08_off_the_lip   manoeuvres_09_tube  \\\n",
       "0   Consigo normalmente       Consigo normalmente  Consigo normalmente   \n",
       "1     Ainda não consigo         Ainda não consigo    Ainda não consigo   \n",
       "2   Consigo normalmente       Consigo normalmente  As vezes eu consigo   \n",
       "3   Consigo normalmente       Consigo normalmente  As vezes eu consigo   \n",
       "4        Sempre consigo            Sempre consigo  As vezes eu consigo   \n",
       "\n",
       "     manoeuvres_10_air surfer_experience  \n",
       "0  As vezes eu consigo          Avançado  \n",
       "1    Ainda não consigo          Aprendiz  \n",
       "2    Ainda não consigo          Avançado  \n",
       "3    Ainda não consigo          Avançado  \n",
       "4    Ainda não consigo          Avançado  "
      ]
     },
     "execution_count": 10,
     "metadata": {},
     "output_type": "execute_result"
    }
   ],
   "source": [
    "df = pd.read_csv(\"df_manoeuvres_experience.csv\")\n",
    "df = df.drop(df.columns[0], axis=1)\n",
    "df.head()"
   ]
  },
  {
   "cell_type": "markdown",
   "metadata": {},
   "source": [
    "As noticed, the answers are in portuguese, so we have to translate to english."
   ]
  },
  {
   "cell_type": "code",
   "execution_count": 11,
   "metadata": {},
   "outputs": [
    {
     "data": {
      "text/plain": [
       "{'Ainda não consigo': 'Not yet',\n",
       " 'As vezes eu consigo': 'Sometimes',\n",
       " 'Consigo normalmente': 'Usually',\n",
       " 'Sempre consigo': 'Always',\n",
       " 'Não sei': \"I don't know\"}"
      ]
     },
     "execution_count": 11,
     "metadata": {},
     "output_type": "execute_result"
    }
   ],
   "source": [
    "translation_dict = {\n",
    "    'Ainda não consigo': 'Not yet',\n",
    "    'As vezes eu consigo': 'Sometimes',\n",
    "    'Consigo normalmente': 'Usually',\n",
    "    'Sempre consigo': 'Always',\n",
    "    'Não sei': \"I don't know\",\n",
    "}\n",
    "translation_dict"
   ]
  },
  {
   "cell_type": "code",
   "execution_count": 13,
   "metadata": {},
   "outputs": [
    {
     "data": {
      "text/html": [
       "<div>\n",
       "<style scoped>\n",
       "    .dataframe tbody tr th:only-of-type {\n",
       "        vertical-align: middle;\n",
       "    }\n",
       "\n",
       "    .dataframe tbody tr th {\n",
       "        vertical-align: top;\n",
       "    }\n",
       "\n",
       "    .dataframe thead th {\n",
       "        text-align: right;\n",
       "    }\n",
       "</style>\n",
       "<table border=\"1\" class=\"dataframe\">\n",
       "  <thead>\n",
       "    <tr style=\"text-align: right;\">\n",
       "      <th></th>\n",
       "      <th>manoeuvres_01_paddling</th>\n",
       "      <th>manoeuvres_02_drop</th>\n",
       "      <th>manoeuvres_03_straight_ahead</th>\n",
       "      <th>manoeuvres_04_wall_riding</th>\n",
       "      <th>manoeuvres_05_floater</th>\n",
       "      <th>manoeuvres_06_cut_back</th>\n",
       "      <th>manoeuvres_07_rasgada</th>\n",
       "      <th>manoeuvres_08_off_the_lip</th>\n",
       "      <th>manoeuvres_09_tube</th>\n",
       "      <th>manoeuvres_10_air</th>\n",
       "      <th>surfer_experience</th>\n",
       "    </tr>\n",
       "  </thead>\n",
       "  <tbody>\n",
       "    <tr>\n",
       "      <th>0</th>\n",
       "      <td>Always</td>\n",
       "      <td>Always</td>\n",
       "      <td>Always</td>\n",
       "      <td>Always</td>\n",
       "      <td>Always</td>\n",
       "      <td>Usually</td>\n",
       "      <td>Usually</td>\n",
       "      <td>Usually</td>\n",
       "      <td>Usually</td>\n",
       "      <td>Sometimes</td>\n",
       "      <td>Avançado</td>\n",
       "    </tr>\n",
       "    <tr>\n",
       "      <th>1</th>\n",
       "      <td>Usually</td>\n",
       "      <td>Sometimes</td>\n",
       "      <td>Not yet</td>\n",
       "      <td>Not yet</td>\n",
       "      <td>Not yet</td>\n",
       "      <td>Not yet</td>\n",
       "      <td>Not yet</td>\n",
       "      <td>Not yet</td>\n",
       "      <td>Not yet</td>\n",
       "      <td>Not yet</td>\n",
       "      <td>Aprendiz</td>\n",
       "    </tr>\n",
       "    <tr>\n",
       "      <th>2</th>\n",
       "      <td>Always</td>\n",
       "      <td>Usually</td>\n",
       "      <td>Always</td>\n",
       "      <td>Usually</td>\n",
       "      <td>Sometimes</td>\n",
       "      <td>Usually</td>\n",
       "      <td>Usually</td>\n",
       "      <td>Usually</td>\n",
       "      <td>Sometimes</td>\n",
       "      <td>Not yet</td>\n",
       "      <td>Avançado</td>\n",
       "    </tr>\n",
       "    <tr>\n",
       "      <th>3</th>\n",
       "      <td>Always</td>\n",
       "      <td>Usually</td>\n",
       "      <td>I don't know</td>\n",
       "      <td>Usually</td>\n",
       "      <td>Sometimes</td>\n",
       "      <td>Sometimes</td>\n",
       "      <td>Usually</td>\n",
       "      <td>Usually</td>\n",
       "      <td>Sometimes</td>\n",
       "      <td>Not yet</td>\n",
       "      <td>Avançado</td>\n",
       "    </tr>\n",
       "    <tr>\n",
       "      <th>4</th>\n",
       "      <td>Always</td>\n",
       "      <td>Usually</td>\n",
       "      <td>Usually</td>\n",
       "      <td>Always</td>\n",
       "      <td>Usually</td>\n",
       "      <td>Usually</td>\n",
       "      <td>Always</td>\n",
       "      <td>Always</td>\n",
       "      <td>Sometimes</td>\n",
       "      <td>Not yet</td>\n",
       "      <td>Avançado</td>\n",
       "    </tr>\n",
       "  </tbody>\n",
       "</table>\n",
       "</div>"
      ],
      "text/plain": [
       "  manoeuvres_01_paddling manoeuvres_02_drop manoeuvres_03_straight_ahead  \\\n",
       "0                 Always             Always                       Always   \n",
       "1                Usually          Sometimes                      Not yet   \n",
       "2                 Always            Usually                       Always   \n",
       "3                 Always            Usually                 I don't know   \n",
       "4                 Always            Usually                      Usually   \n",
       "\n",
       "  manoeuvres_04_wall_riding manoeuvres_05_floater manoeuvres_06_cut_back  \\\n",
       "0                    Always                Always                Usually   \n",
       "1                   Not yet               Not yet                Not yet   \n",
       "2                   Usually             Sometimes                Usually   \n",
       "3                   Usually             Sometimes              Sometimes   \n",
       "4                    Always               Usually                Usually   \n",
       "\n",
       "  manoeuvres_07_rasgada manoeuvres_08_off_the_lip manoeuvres_09_tube  \\\n",
       "0               Usually                   Usually            Usually   \n",
       "1               Not yet                   Not yet            Not yet   \n",
       "2               Usually                   Usually          Sometimes   \n",
       "3               Usually                   Usually          Sometimes   \n",
       "4                Always                    Always          Sometimes   \n",
       "\n",
       "  manoeuvres_10_air surfer_experience  \n",
       "0         Sometimes          Avançado  \n",
       "1           Not yet          Aprendiz  \n",
       "2           Not yet          Avançado  \n",
       "3           Not yet          Avançado  \n",
       "4           Not yet          Avançado  "
      ]
     },
     "execution_count": 13,
     "metadata": {},
     "output_type": "execute_result"
    }
   ],
   "source": [
    "df.replace(inplace=True, to_replace=translation_dict)\n",
    "df.head()"
   ]
  },
  {
   "cell_type": "markdown",
   "metadata": {},
   "source": [
    "***\n",
    "### Explore dataset Features"
   ]
  },
  {
   "cell_type": "code",
   "execution_count": 14,
   "metadata": {},
   "outputs": [],
   "source": [
    "df.columns;"
   ]
  },
  {
   "cell_type": "markdown",
   "metadata": {},
   "source": [
    "**Dataset features:**\n",
    "- manoeuvres_01_paddling\n",
    "- manoeuvres_02_drop\n",
    "- manoeuvres_03_straight_ahead\n",
    "- manoeuvres_04_wall_riding\n",
    "- manoeuvres_05_floater\n",
    "- manoeuvres_06_cut_back\n",
    "- manoeuvres_07_rasgada\n",
    "- manoeuvres_08_off_the_lip\n",
    "- manoeuvres_09_tube\n",
    "- manoeuvres_10_air\n",
    "- surfer_experience\n",
    "\n",
    "The first 10 features are **inputs**, and the last one is an **output** to be further used as benchmark."
   ]
  },
  {
   "cell_type": "markdown",
   "metadata": {},
   "source": [
    "### Rename features\n",
    "The names of the features are to long, so we'll shorten them by remove the 'manoeuvres_' prefix."
   ]
  },
  {
   "cell_type": "code",
   "execution_count": 40,
   "metadata": {},
   "outputs": [
    {
     "name": "stdout",
     "output_type": "stream",
     "text": [
      "01_paddling\n",
      "02_drop\n",
      "03_straight_ahead\n",
      "04_wall_riding\n",
      "05_floater\n",
      "06_cut_back\n",
      "07_rasgada\n",
      "08_off_the_lip\n",
      "09_tube\n",
      "10_air\n",
      "surfer_experience\n"
     ]
    },
    {
     "data": {
      "text/plain": [
       "[None, None, None, None, None, None, None, None, None, None, None]"
      ]
     },
     "execution_count": 40,
     "metadata": {},
     "output_type": "execute_result"
    }
   ],
   "source": [
    "new_columns = []\n",
    "for col in df.columns:\n",
    "    if 'manoeuvre' in col:\n",
    "        new_columns.append(col[11:])\n",
    "    else:\n",
    "        new_columns.append(col)\n",
    "\n",
    "df.columns = new_columns\n",
    "[print(col) for col in df.columns]"
   ]
  },
  {
   "cell_type": "code",
   "execution_count": null,
   "metadata": {},
   "outputs": [],
   "source": []
  },
  {
   "cell_type": "code",
   "execution_count": 41,
   "metadata": {},
   "outputs": [
    {
     "data": {
      "text/html": [
       "<div>\n",
       "<style scoped>\n",
       "    .dataframe tbody tr th:only-of-type {\n",
       "        vertical-align: middle;\n",
       "    }\n",
       "\n",
       "    .dataframe tbody tr th {\n",
       "        vertical-align: top;\n",
       "    }\n",
       "\n",
       "    .dataframe thead th {\n",
       "        text-align: right;\n",
       "    }\n",
       "</style>\n",
       "<table border=\"1\" class=\"dataframe\">\n",
       "  <thead>\n",
       "    <tr style=\"text-align: right;\">\n",
       "      <th></th>\n",
       "      <th>01_paddling</th>\n",
       "      <th>02_drop</th>\n",
       "      <th>03_straight_ahead</th>\n",
       "      <th>04_wall_riding</th>\n",
       "      <th>05_floater</th>\n",
       "      <th>06_cut_back</th>\n",
       "      <th>07_rasgada</th>\n",
       "      <th>08_off_the_lip</th>\n",
       "      <th>09_tube</th>\n",
       "      <th>10_air</th>\n",
       "    </tr>\n",
       "  </thead>\n",
       "  <tbody>\n",
       "    <tr>\n",
       "      <th>0</th>\n",
       "      <td>Always</td>\n",
       "      <td>Always</td>\n",
       "      <td>Always</td>\n",
       "      <td>Always</td>\n",
       "      <td>Always</td>\n",
       "      <td>Usually</td>\n",
       "      <td>Usually</td>\n",
       "      <td>Usually</td>\n",
       "      <td>Usually</td>\n",
       "      <td>Sometimes</td>\n",
       "    </tr>\n",
       "    <tr>\n",
       "      <th>1</th>\n",
       "      <td>Usually</td>\n",
       "      <td>Sometimes</td>\n",
       "      <td>Not yet</td>\n",
       "      <td>Not yet</td>\n",
       "      <td>Not yet</td>\n",
       "      <td>Not yet</td>\n",
       "      <td>Not yet</td>\n",
       "      <td>Not yet</td>\n",
       "      <td>Not yet</td>\n",
       "      <td>Not yet</td>\n",
       "    </tr>\n",
       "    <tr>\n",
       "      <th>2</th>\n",
       "      <td>Always</td>\n",
       "      <td>Usually</td>\n",
       "      <td>Always</td>\n",
       "      <td>Usually</td>\n",
       "      <td>Sometimes</td>\n",
       "      <td>Usually</td>\n",
       "      <td>Usually</td>\n",
       "      <td>Usually</td>\n",
       "      <td>Sometimes</td>\n",
       "      <td>Not yet</td>\n",
       "    </tr>\n",
       "    <tr>\n",
       "      <th>3</th>\n",
       "      <td>Always</td>\n",
       "      <td>Usually</td>\n",
       "      <td>I don't know</td>\n",
       "      <td>Usually</td>\n",
       "      <td>Sometimes</td>\n",
       "      <td>Sometimes</td>\n",
       "      <td>Usually</td>\n",
       "      <td>Usually</td>\n",
       "      <td>Sometimes</td>\n",
       "      <td>Not yet</td>\n",
       "    </tr>\n",
       "    <tr>\n",
       "      <th>4</th>\n",
       "      <td>Always</td>\n",
       "      <td>Usually</td>\n",
       "      <td>Usually</td>\n",
       "      <td>Always</td>\n",
       "      <td>Usually</td>\n",
       "      <td>Usually</td>\n",
       "      <td>Always</td>\n",
       "      <td>Always</td>\n",
       "      <td>Sometimes</td>\n",
       "      <td>Not yet</td>\n",
       "    </tr>\n",
       "  </tbody>\n",
       "</table>\n",
       "</div>"
      ],
      "text/plain": [
       "  01_paddling    02_drop 03_straight_ahead 04_wall_riding 05_floater  \\\n",
       "0      Always     Always            Always         Always     Always   \n",
       "1     Usually  Sometimes           Not yet        Not yet    Not yet   \n",
       "2      Always    Usually            Always        Usually  Sometimes   \n",
       "3      Always    Usually      I don't know        Usually  Sometimes   \n",
       "4      Always    Usually           Usually         Always    Usually   \n",
       "\n",
       "  06_cut_back 07_rasgada 08_off_the_lip    09_tube     10_air  \n",
       "0     Usually    Usually        Usually    Usually  Sometimes  \n",
       "1     Not yet    Not yet        Not yet    Not yet    Not yet  \n",
       "2     Usually    Usually        Usually  Sometimes    Not yet  \n",
       "3   Sometimes    Usually        Usually  Sometimes    Not yet  \n",
       "4     Usually     Always         Always  Sometimes    Not yet  "
      ]
     },
     "execution_count": 41,
     "metadata": {},
     "output_type": "execute_result"
    }
   ],
   "source": [
    "# Prepare input features\n",
    "df_x = df.drop(['surfer_experience'], axis=1)\n",
    "df_x.head()"
   ]
  },
  {
   "cell_type": "code",
   "execution_count": 42,
   "metadata": {
    "scrolled": true
   },
   "outputs": [
    {
     "data": {
      "text/plain": [
       "0    Avançado\n",
       "1    Aprendiz\n",
       "2    Avançado\n",
       "3    Avançado\n",
       "4    Avançado\n",
       "Name: surfer_experience, dtype: object"
      ]
     },
     "execution_count": 42,
     "metadata": {},
     "output_type": "execute_result"
    }
   ],
   "source": [
    "# Prepare output feature\n",
    "# We'll hide this feature until further benchmarking\n",
    "df_y = df['surfer_experience']\n",
    "df_y.head()"
   ]
  },
  {
   "cell_type": "markdown",
   "metadata": {},
   "source": [
    "### Replace portuguese with numerical data"
   ]
  },
  {
   "cell_type": "markdown",
   "metadata": {},
   "source": [
    "As seen in `df_x`, the answers are in portuguese and express the frequency of execution of each manoeuvre.\n",
    "Hence, we need to scale them from `0` to `1`, so they can be quantifiable.\n",
    "For so, we'll use a replacement dictionary, as follows."
   ]
  },
  {
   "cell_type": "code",
   "execution_count": 43,
   "metadata": {},
   "outputs": [
    {
     "data": {
      "text/plain": [
       "{'Not yet': 0,\n",
       " 'Sometimes': 0.33,\n",
       " 'Usually': 0.66,\n",
       " 'Always': 1,\n",
       " \"I don't know\": nan}"
      ]
     },
     "execution_count": 43,
     "metadata": {},
     "output_type": "execute_result"
    }
   ],
   "source": [
    "replacement_dict = {\n",
    "    'Not yet': 0,\n",
    "    'Sometimes': 0.33,\n",
    "    'Usually': 0.66,\n",
    "    'Always': 1,\n",
    "    \"I don't know\": np.nan,\n",
    "}\n",
    "replacement_dict"
   ]
  },
  {
   "cell_type": "code",
   "execution_count": 44,
   "metadata": {},
   "outputs": [
    {
     "data": {
      "text/html": [
       "<div>\n",
       "<style scoped>\n",
       "    .dataframe tbody tr th:only-of-type {\n",
       "        vertical-align: middle;\n",
       "    }\n",
       "\n",
       "    .dataframe tbody tr th {\n",
       "        vertical-align: top;\n",
       "    }\n",
       "\n",
       "    .dataframe thead th {\n",
       "        text-align: right;\n",
       "    }\n",
       "</style>\n",
       "<table border=\"1\" class=\"dataframe\">\n",
       "  <thead>\n",
       "    <tr style=\"text-align: right;\">\n",
       "      <th></th>\n",
       "      <th>01_paddling</th>\n",
       "      <th>02_drop</th>\n",
       "      <th>03_straight_ahead</th>\n",
       "      <th>04_wall_riding</th>\n",
       "      <th>05_floater</th>\n",
       "      <th>06_cut_back</th>\n",
       "      <th>07_rasgada</th>\n",
       "      <th>08_off_the_lip</th>\n",
       "      <th>09_tube</th>\n",
       "      <th>10_air</th>\n",
       "    </tr>\n",
       "  </thead>\n",
       "  <tbody>\n",
       "    <tr>\n",
       "      <th>0</th>\n",
       "      <td>1.00</td>\n",
       "      <td>1.00</td>\n",
       "      <td>1.00</td>\n",
       "      <td>1.00</td>\n",
       "      <td>1.00</td>\n",
       "      <td>0.66</td>\n",
       "      <td>0.66</td>\n",
       "      <td>0.66</td>\n",
       "      <td>0.66</td>\n",
       "      <td>0.33</td>\n",
       "    </tr>\n",
       "    <tr>\n",
       "      <th>1</th>\n",
       "      <td>0.66</td>\n",
       "      <td>0.33</td>\n",
       "      <td>0.00</td>\n",
       "      <td>0.00</td>\n",
       "      <td>0.00</td>\n",
       "      <td>0.00</td>\n",
       "      <td>0.00</td>\n",
       "      <td>0.00</td>\n",
       "      <td>0.00</td>\n",
       "      <td>0.00</td>\n",
       "    </tr>\n",
       "    <tr>\n",
       "      <th>2</th>\n",
       "      <td>1.00</td>\n",
       "      <td>0.66</td>\n",
       "      <td>1.00</td>\n",
       "      <td>0.66</td>\n",
       "      <td>0.33</td>\n",
       "      <td>0.66</td>\n",
       "      <td>0.66</td>\n",
       "      <td>0.66</td>\n",
       "      <td>0.33</td>\n",
       "      <td>0.00</td>\n",
       "    </tr>\n",
       "    <tr>\n",
       "      <th>3</th>\n",
       "      <td>1.00</td>\n",
       "      <td>0.66</td>\n",
       "      <td>NaN</td>\n",
       "      <td>0.66</td>\n",
       "      <td>0.33</td>\n",
       "      <td>0.33</td>\n",
       "      <td>0.66</td>\n",
       "      <td>0.66</td>\n",
       "      <td>0.33</td>\n",
       "      <td>0.00</td>\n",
       "    </tr>\n",
       "    <tr>\n",
       "      <th>4</th>\n",
       "      <td>1.00</td>\n",
       "      <td>0.66</td>\n",
       "      <td>0.66</td>\n",
       "      <td>1.00</td>\n",
       "      <td>0.66</td>\n",
       "      <td>0.66</td>\n",
       "      <td>1.00</td>\n",
       "      <td>1.00</td>\n",
       "      <td>0.33</td>\n",
       "      <td>0.00</td>\n",
       "    </tr>\n",
       "  </tbody>\n",
       "</table>\n",
       "</div>"
      ],
      "text/plain": [
       "   01_paddling  02_drop  03_straight_ahead  04_wall_riding  05_floater  \\\n",
       "0         1.00     1.00               1.00            1.00        1.00   \n",
       "1         0.66     0.33               0.00            0.00        0.00   \n",
       "2         1.00     0.66               1.00            0.66        0.33   \n",
       "3         1.00     0.66                NaN            0.66        0.33   \n",
       "4         1.00     0.66               0.66            1.00        0.66   \n",
       "\n",
       "   06_cut_back  07_rasgada  08_off_the_lip  09_tube  10_air  \n",
       "0         0.66        0.66            0.66     0.66    0.33  \n",
       "1         0.00        0.00            0.00     0.00    0.00  \n",
       "2         0.66        0.66            0.66     0.33    0.00  \n",
       "3         0.33        0.66            0.66     0.33    0.00  \n",
       "4         0.66        1.00            1.00     0.33    0.00  "
      ]
     },
     "execution_count": 44,
     "metadata": {},
     "output_type": "execute_result"
    }
   ],
   "source": [
    "df_x.replace(inplace=True, to_replace=replacement_dict)\n",
    "df_x.head()"
   ]
  },
  {
   "cell_type": "markdown",
   "metadata": {},
   "source": [
    "### Drop Nan\n",
    "TODO Implementing"
   ]
  },
  {
   "cell_type": "code",
   "execution_count": 45,
   "metadata": {},
   "outputs": [
    {
     "name": "stdout",
     "output_type": "stream",
     "text": [
      "The dataframe has 165 samples and 11 features\n"
     ]
    }
   ],
   "source": [
    "df.shape[0]\n",
    "print(f'The dataframe has {df.shape[0]} samples and {df.shape[1]} features')"
   ]
  },
  {
   "cell_type": "markdown",
   "metadata": {},
   "source": [
    "Now that we have a numerical dataset with managed NaN : )\n",
    "Let's get three samples at random"
   ]
  },
  {
   "cell_type": "markdown",
   "metadata": {},
   "source": [
    "### Get correlation among features"
   ]
  },
  {
   "cell_type": "code",
   "execution_count": 48,
   "metadata": {},
   "outputs": [
    {
     "data": {
      "text/html": [
       "<div>\n",
       "<style scoped>\n",
       "    .dataframe tbody tr th:only-of-type {\n",
       "        vertical-align: middle;\n",
       "    }\n",
       "\n",
       "    .dataframe tbody tr th {\n",
       "        vertical-align: top;\n",
       "    }\n",
       "\n",
       "    .dataframe thead th {\n",
       "        text-align: right;\n",
       "    }\n",
       "</style>\n",
       "<table border=\"1\" class=\"dataframe\">\n",
       "  <thead>\n",
       "    <tr style=\"text-align: right;\">\n",
       "      <th></th>\n",
       "      <th>01_paddling</th>\n",
       "      <th>02_drop</th>\n",
       "      <th>03_straight_ahead</th>\n",
       "      <th>04_wall_riding</th>\n",
       "      <th>05_floater</th>\n",
       "      <th>06_cut_back</th>\n",
       "      <th>07_rasgada</th>\n",
       "      <th>08_off_the_lip</th>\n",
       "      <th>09_tube</th>\n",
       "      <th>10_air</th>\n",
       "    </tr>\n",
       "  </thead>\n",
       "  <tbody>\n",
       "    <tr>\n",
       "      <th>01_paddling</th>\n",
       "      <td>1.00</td>\n",
       "      <td>0.62</td>\n",
       "      <td>0.47</td>\n",
       "      <td>0.56</td>\n",
       "      <td>0.33</td>\n",
       "      <td>0.38</td>\n",
       "      <td>0.44</td>\n",
       "      <td>0.37</td>\n",
       "      <td>0.32</td>\n",
       "      <td>0.11</td>\n",
       "    </tr>\n",
       "    <tr>\n",
       "      <th>02_drop</th>\n",
       "      <td>0.62</td>\n",
       "      <td>1.00</td>\n",
       "      <td>0.63</td>\n",
       "      <td>0.75</td>\n",
       "      <td>0.57</td>\n",
       "      <td>0.58</td>\n",
       "      <td>0.63</td>\n",
       "      <td>0.59</td>\n",
       "      <td>0.46</td>\n",
       "      <td>0.28</td>\n",
       "    </tr>\n",
       "    <tr>\n",
       "      <th>03_straight_ahead</th>\n",
       "      <td>0.47</td>\n",
       "      <td>0.63</td>\n",
       "      <td>1.00</td>\n",
       "      <td>0.62</td>\n",
       "      <td>0.36</td>\n",
       "      <td>0.41</td>\n",
       "      <td>0.38</td>\n",
       "      <td>0.39</td>\n",
       "      <td>0.27</td>\n",
       "      <td>0.14</td>\n",
       "    </tr>\n",
       "    <tr>\n",
       "      <th>04_wall_riding</th>\n",
       "      <td>0.56</td>\n",
       "      <td>0.75</td>\n",
       "      <td>0.62</td>\n",
       "      <td>1.00</td>\n",
       "      <td>0.62</td>\n",
       "      <td>0.63</td>\n",
       "      <td>0.64</td>\n",
       "      <td>0.66</td>\n",
       "      <td>0.48</td>\n",
       "      <td>0.28</td>\n",
       "    </tr>\n",
       "    <tr>\n",
       "      <th>05_floater</th>\n",
       "      <td>0.33</td>\n",
       "      <td>0.57</td>\n",
       "      <td>0.36</td>\n",
       "      <td>0.62</td>\n",
       "      <td>1.00</td>\n",
       "      <td>0.80</td>\n",
       "      <td>0.82</td>\n",
       "      <td>0.81</td>\n",
       "      <td>0.79</td>\n",
       "      <td>0.58</td>\n",
       "    </tr>\n",
       "    <tr>\n",
       "      <th>06_cut_back</th>\n",
       "      <td>0.38</td>\n",
       "      <td>0.58</td>\n",
       "      <td>0.41</td>\n",
       "      <td>0.63</td>\n",
       "      <td>0.80</td>\n",
       "      <td>1.00</td>\n",
       "      <td>0.85</td>\n",
       "      <td>0.77</td>\n",
       "      <td>0.70</td>\n",
       "      <td>0.51</td>\n",
       "    </tr>\n",
       "    <tr>\n",
       "      <th>07_rasgada</th>\n",
       "      <td>0.44</td>\n",
       "      <td>0.63</td>\n",
       "      <td>0.38</td>\n",
       "      <td>0.64</td>\n",
       "      <td>0.82</td>\n",
       "      <td>0.85</td>\n",
       "      <td>1.00</td>\n",
       "      <td>0.84</td>\n",
       "      <td>0.71</td>\n",
       "      <td>0.49</td>\n",
       "    </tr>\n",
       "    <tr>\n",
       "      <th>08_off_the_lip</th>\n",
       "      <td>0.37</td>\n",
       "      <td>0.59</td>\n",
       "      <td>0.39</td>\n",
       "      <td>0.66</td>\n",
       "      <td>0.81</td>\n",
       "      <td>0.77</td>\n",
       "      <td>0.84</td>\n",
       "      <td>1.00</td>\n",
       "      <td>0.71</td>\n",
       "      <td>0.51</td>\n",
       "    </tr>\n",
       "    <tr>\n",
       "      <th>09_tube</th>\n",
       "      <td>0.32</td>\n",
       "      <td>0.46</td>\n",
       "      <td>0.27</td>\n",
       "      <td>0.48</td>\n",
       "      <td>0.79</td>\n",
       "      <td>0.70</td>\n",
       "      <td>0.71</td>\n",
       "      <td>0.71</td>\n",
       "      <td>1.00</td>\n",
       "      <td>0.63</td>\n",
       "    </tr>\n",
       "    <tr>\n",
       "      <th>10_air</th>\n",
       "      <td>0.11</td>\n",
       "      <td>0.28</td>\n",
       "      <td>0.14</td>\n",
       "      <td>0.28</td>\n",
       "      <td>0.58</td>\n",
       "      <td>0.51</td>\n",
       "      <td>0.49</td>\n",
       "      <td>0.51</td>\n",
       "      <td>0.63</td>\n",
       "      <td>1.00</td>\n",
       "    </tr>\n",
       "  </tbody>\n",
       "</table>\n",
       "</div>"
      ],
      "text/plain": [
       "                   01_paddling  02_drop  03_straight_ahead  04_wall_riding  \\\n",
       "01_paddling               1.00     0.62               0.47            0.56   \n",
       "02_drop                   0.62     1.00               0.63            0.75   \n",
       "03_straight_ahead         0.47     0.63               1.00            0.62   \n",
       "04_wall_riding            0.56     0.75               0.62            1.00   \n",
       "05_floater                0.33     0.57               0.36            0.62   \n",
       "06_cut_back               0.38     0.58               0.41            0.63   \n",
       "07_rasgada                0.44     0.63               0.38            0.64   \n",
       "08_off_the_lip            0.37     0.59               0.39            0.66   \n",
       "09_tube                   0.32     0.46               0.27            0.48   \n",
       "10_air                    0.11     0.28               0.14            0.28   \n",
       "\n",
       "                   05_floater  06_cut_back  07_rasgada  08_off_the_lip  \\\n",
       "01_paddling              0.33         0.38        0.44            0.37   \n",
       "02_drop                  0.57         0.58        0.63            0.59   \n",
       "03_straight_ahead        0.36         0.41        0.38            0.39   \n",
       "04_wall_riding           0.62         0.63        0.64            0.66   \n",
       "05_floater               1.00         0.80        0.82            0.81   \n",
       "06_cut_back              0.80         1.00        0.85            0.77   \n",
       "07_rasgada               0.82         0.85        1.00            0.84   \n",
       "08_off_the_lip           0.81         0.77        0.84            1.00   \n",
       "09_tube                  0.79         0.70        0.71            0.71   \n",
       "10_air                   0.58         0.51        0.49            0.51   \n",
       "\n",
       "                   09_tube  10_air  \n",
       "01_paddling           0.32    0.11  \n",
       "02_drop               0.46    0.28  \n",
       "03_straight_ahead     0.27    0.14  \n",
       "04_wall_riding        0.48    0.28  \n",
       "05_floater            0.79    0.58  \n",
       "06_cut_back           0.70    0.51  \n",
       "07_rasgada            0.71    0.49  \n",
       "08_off_the_lip        0.71    0.51  \n",
       "09_tube               1.00    0.63  \n",
       "10_air                0.63    1.00  "
      ]
     },
     "execution_count": 48,
     "metadata": {},
     "output_type": "execute_result"
    }
   ],
   "source": [
    "df_corr = df_x.corr().round(2)\n",
    "df_corr"
   ]
  },
  {
   "cell_type": "markdown",
   "metadata": {},
   "source": [
    "### Plot Heatmap\n",
    "Numbers are good, but colors are better!\n",
    "\n",
    "> \"The stronger the red, the stronger the correlation\""
   ]
  },
  {
   "cell_type": "code",
   "execution_count": 55,
   "metadata": {},
   "outputs": [
    {
     "data": {
      "image/png": "[encoded data removed]",
      "text/plain": [
       "<Figure size 432x288 with 2 Axes>"
      ]
     },
     "metadata": {
      "needs_background": "light"
     },
     "output_type": "display_data"
    }
   ],
   "source": [
    "ax = sns.heatmap(df_corr, cmap='coolwarm', vmin=-1, vmax=1)"
   ]
  },
  {
   "cell_type": "markdown",
   "metadata": {},
   "source": []
  },
  {
   "cell_type": "code",
   "execution_count": null,
   "metadata": {},
   "outputs": [],
   "source": []
  },
  {
   "cell_type": "code",
   "execution_count": null,
   "metadata": {},
   "outputs": [],
   "source": []
  },
  {
   "cell_type": "markdown",
   "metadata": {},
   "source": [
    "### Get samples"
   ]
  },
  {
   "cell_type": "code",
   "execution_count": 56,
   "metadata": {},
   "outputs": [
    {
     "name": "stdout",
     "output_type": "stream",
     "text": [
      "Sample 1:\n",
      "01_paddling             Always\n",
      "02_drop                 Always\n",
      "03_straight_ahead       Always\n",
      "04_wall_riding          Always\n",
      "05_floater              Always\n",
      "06_cut_back             Always\n",
      "07_rasgada              Always\n",
      "08_off_the_lip          Always\n",
      "09_tube                 Always\n",
      "10_air               Sometimes\n",
      "surfer_experience     Avançado\n",
      "Name: 42, dtype: object\n",
      "\n",
      "Sample 2:\n",
      "01_paddling             Always\n",
      "02_drop                 Always\n",
      "03_straight_ahead       Always\n",
      "04_wall_riding          Always\n",
      "05_floater             Usually\n",
      "06_cut_back          Sometimes\n",
      "07_rasgada             Usually\n",
      "08_off_the_lip         Usually\n",
      "09_tube              Sometimes\n",
      "10_air                 Not yet\n",
      "surfer_experience     Avançado\n",
      "Name: 77, dtype: object\n",
      "\n",
      "Sample 3:\n",
      "01_paddling                 Always\n",
      "02_drop                  Sometimes\n",
      "03_straight_ahead           Always\n",
      "04_wall_riding              Always\n",
      "05_floater               Sometimes\n",
      "06_cut_back              Sometimes\n",
      "07_rasgada               Sometimes\n",
      "08_off_the_lip             Usually\n",
      "09_tube                  Sometimes\n",
      "10_air                     Not yet\n",
      "surfer_experience    Intermediário\n",
      "Name: 74, dtype: object\n",
      "\n"
     ]
    }
   ],
   "source": [
    "for i in [1, 2, 3]:\n",
    "    id = random.randrange(165)\n",
    "    print(f'Sample {i}:\\n{df.iloc[id]}\\n')"
   ]
  },
  {
   "cell_type": "markdown",
   "metadata": {},
   "source": [
    "### Reducing dimensionality"
   ]
  },
  {
   "cell_type": "code",
   "execution_count": null,
   "metadata": {},
   "outputs": [],
   "source": [
    "# TODO Implement PCA"
   ]
  },
  {
   "cell_type": "code",
   "execution_count": null,
   "metadata": {},
   "outputs": [],
   "source": [
    "# TODO Implement t-SNE"
   ]
  },
  {
   "cell_type": "code",
   "execution_count": null,
   "metadata": {},
   "outputs": [],
   "source": [
    "# TODO Compare PCA vs. t-SNE"
   ]
  },
  {
   "cell_type": "markdown",
   "metadata": {},
   "source": [
    "A good explanation and comparison of PCA and t-SNE are presented [here.](https://towardsdatascience.com/visualising-high-dimensional-datasets-using-pca-and-t-sne-in-python-8ef87e7915b).\n",
    "One of the main differences are:\n",
    "> \"t-Distributed Stochastic Neighbor Embedding (t-SNE) is another technique for dimensionality reduction and is particularly well suited for the visualization of high-dimensional datasets. Contrary to PCA it is not a mathematical technique but a probablistic one.\" By *Luuk Derksen*\n",
    "\n",
    "\n"
   ]
  },
  {
   "cell_type": "markdown",
   "metadata": {},
   "source": [
    "***\n",
    "## Tuning the model\n",
    "### Exploring the number of clusters"
   ]
  },
  {
   "cell_type": "code",
   "execution_count": null,
   "metadata": {},
   "outputs": [],
   "source": [
    "# TODO implement the Elbow method"
   ]
  },
  {
   "cell_type": "markdown",
   "metadata": {},
   "source": [
    "### Benchmarking\n",
    "#### GMM vs. K-means"
   ]
  },
  {
   "cell_type": "code",
   "execution_count": null,
   "metadata": {},
   "outputs": [],
   "source": [
    "# TODO "
   ]
  },
  {
   "cell_type": "markdown",
   "metadata": {},
   "source": []
  },
  {
   "cell_type": "code",
   "execution_count": null,
   "metadata": {},
   "outputs": [],
   "source": []
  },
  {
   "cell_type": "code",
   "execution_count": null,
   "metadata": {},
   "outputs": [],
   "source": [
    "# TODO implement the Silhouette Coefficient "
   ]
  }
 ],
 "metadata": {
  "kernelspec": {
   "display_name": "Python 3",
   "language": "python",
   "name": "python3"
  },
  "language_info": {
   "codemirror_mode": {
    "name": "ipython",
    "version": 3
   },
   "file_extension": ".py",
   "mimetype": "text/x-python",
   "name": "python",
   "nbconvert_exporter": "python",
   "pygments_lexer": "ipython3",
   "version": "3.7.1"
  }
 },
 "nbformat": 4,
 "nbformat_minor": 1
}
