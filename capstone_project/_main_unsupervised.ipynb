{
 "cells": [
  {
   "cell_type": "markdown",
   "metadata": {
    "slideshow": {
     "slide_type": "slide"
    }
   },
   "source": [
    "**Identifying Surfer's Experience Based on Performed Manoeuvres**\n",
    "\n",
    "**Guilherme Branco Loureiro**\n",
    "\n",
    "Udacity Machine Learning Engineer Nanodegree - Capstone Project\n",
    "\n",
    "August, 2019 - Florianópolis Brazil"
   ]
  },
  {
   "cell_type": "markdown",
   "metadata": {
    "slideshow": {
     "slide_type": "-"
    }
   },
   "source": [
    "***\n",
    "# Modules Importation"
   ]
  },
  {
   "cell_type": "code",
   "execution_count": 1,
   "metadata": {
    "slideshow": {
     "slide_type": "-"
    }
   },
   "outputs": [],
   "source": [
    "import pandas as pd\n",
    "import numpy as np\n",
    "import random\n",
    "import seaborn as sns"
   ]
  },
  {
   "cell_type": "markdown",
   "metadata": {
    "toc-hr-collapsed": false
   },
   "source": [
    "# Data Initial Exploration"
   ]
  },
  {
   "cell_type": "markdown",
   "metadata": {
    "slideshow": {
     "slide_type": "-"
    }
   },
   "source": [
    "## Exploring dataset content"
   ]
  },
  {
   "cell_type": "code",
   "execution_count": 2,
   "metadata": {
    "slideshow": {
     "slide_type": "-"
    }
   },
   "outputs": [
    {
     "data": {
      "text/html": [
       "<div>\n",
       "<style scoped>\n",
       "    .dataframe tbody tr th:only-of-type {\n",
       "        vertical-align: middle;\n",
       "    }\n",
       "\n",
       "    .dataframe tbody tr th {\n",
       "        vertical-align: top;\n",
       "    }\n",
       "\n",
       "    .dataframe thead th {\n",
       "        text-align: right;\n",
       "    }\n",
       "</style>\n",
       "<table border=\"1\" class=\"dataframe\">\n",
       "  <thead>\n",
       "    <tr style=\"text-align: right;\">\n",
       "      <th></th>\n",
       "      <th>manoeuvres_01_paddling</th>\n",
       "      <th>manoeuvres_02_drop</th>\n",
       "      <th>manoeuvres_03_straight_ahead</th>\n",
       "      <th>manoeuvres_04_wall_riding</th>\n",
       "      <th>manoeuvres_05_floater</th>\n",
       "      <th>manoeuvres_06_cut_back</th>\n",
       "      <th>manoeuvres_07_rasgada</th>\n",
       "      <th>manoeuvres_08_off_the_lip</th>\n",
       "      <th>manoeuvres_09_tube</th>\n",
       "      <th>manoeuvres_10_air</th>\n",
       "      <th>surfer_experience</th>\n",
       "    </tr>\n",
       "  </thead>\n",
       "  <tbody>\n",
       "    <tr>\n",
       "      <th>0</th>\n",
       "      <td>Sempre consigo</td>\n",
       "      <td>Sempre consigo</td>\n",
       "      <td>Sempre consigo</td>\n",
       "      <td>Sempre consigo</td>\n",
       "      <td>Sempre consigo</td>\n",
       "      <td>Consigo normalmente</td>\n",
       "      <td>Consigo normalmente</td>\n",
       "      <td>Consigo normalmente</td>\n",
       "      <td>Consigo normalmente</td>\n",
       "      <td>As vezes eu consigo</td>\n",
       "      <td>Avançado</td>\n",
       "    </tr>\n",
       "    <tr>\n",
       "      <th>1</th>\n",
       "      <td>Consigo normalmente</td>\n",
       "      <td>As vezes eu consigo</td>\n",
       "      <td>Ainda não consigo</td>\n",
       "      <td>Ainda não consigo</td>\n",
       "      <td>Ainda não consigo</td>\n",
       "      <td>Ainda não consigo</td>\n",
       "      <td>Ainda não consigo</td>\n",
       "      <td>Ainda não consigo</td>\n",
       "      <td>Ainda não consigo</td>\n",
       "      <td>Ainda não consigo</td>\n",
       "      <td>Aprendiz</td>\n",
       "    </tr>\n",
       "    <tr>\n",
       "      <th>2</th>\n",
       "      <td>Sempre consigo</td>\n",
       "      <td>Consigo normalmente</td>\n",
       "      <td>Sempre consigo</td>\n",
       "      <td>Consigo normalmente</td>\n",
       "      <td>As vezes eu consigo</td>\n",
       "      <td>Consigo normalmente</td>\n",
       "      <td>Consigo normalmente</td>\n",
       "      <td>Consigo normalmente</td>\n",
       "      <td>As vezes eu consigo</td>\n",
       "      <td>Ainda não consigo</td>\n",
       "      <td>Avançado</td>\n",
       "    </tr>\n",
       "    <tr>\n",
       "      <th>3</th>\n",
       "      <td>Sempre consigo</td>\n",
       "      <td>Consigo normalmente</td>\n",
       "      <td>Não sei</td>\n",
       "      <td>Consigo normalmente</td>\n",
       "      <td>As vezes eu consigo</td>\n",
       "      <td>As vezes eu consigo</td>\n",
       "      <td>Consigo normalmente</td>\n",
       "      <td>Consigo normalmente</td>\n",
       "      <td>As vezes eu consigo</td>\n",
       "      <td>Ainda não consigo</td>\n",
       "      <td>Avançado</td>\n",
       "    </tr>\n",
       "    <tr>\n",
       "      <th>4</th>\n",
       "      <td>Sempre consigo</td>\n",
       "      <td>Consigo normalmente</td>\n",
       "      <td>Consigo normalmente</td>\n",
       "      <td>Sempre consigo</td>\n",
       "      <td>Consigo normalmente</td>\n",
       "      <td>Consigo normalmente</td>\n",
       "      <td>Sempre consigo</td>\n",
       "      <td>Sempre consigo</td>\n",
       "      <td>As vezes eu consigo</td>\n",
       "      <td>Ainda não consigo</td>\n",
       "      <td>Avançado</td>\n",
       "    </tr>\n",
       "  </tbody>\n",
       "</table>\n",
       "</div>"
      ],
      "text/plain": [
       "  manoeuvres_01_paddling   manoeuvres_02_drop manoeuvres_03_straight_ahead  \\\n",
       "0         Sempre consigo       Sempre consigo               Sempre consigo   \n",
       "1    Consigo normalmente  As vezes eu consigo            Ainda não consigo   \n",
       "2         Sempre consigo  Consigo normalmente               Sempre consigo   \n",
       "3         Sempre consigo  Consigo normalmente                      Não sei   \n",
       "4         Sempre consigo  Consigo normalmente          Consigo normalmente   \n",
       "\n",
       "  manoeuvres_04_wall_riding manoeuvres_05_floater manoeuvres_06_cut_back  \\\n",
       "0            Sempre consigo        Sempre consigo    Consigo normalmente   \n",
       "1         Ainda não consigo     Ainda não consigo      Ainda não consigo   \n",
       "2       Consigo normalmente   As vezes eu consigo    Consigo normalmente   \n",
       "3       Consigo normalmente   As vezes eu consigo    As vezes eu consigo   \n",
       "4            Sempre consigo   Consigo normalmente    Consigo normalmente   \n",
       "\n",
       "  manoeuvres_07_rasgada manoeuvres_08_off_the_lip   manoeuvres_09_tube  \\\n",
       "0   Consigo normalmente       Consigo normalmente  Consigo normalmente   \n",
       "1     Ainda não consigo         Ainda não consigo    Ainda não consigo   \n",
       "2   Consigo normalmente       Consigo normalmente  As vezes eu consigo   \n",
       "3   Consigo normalmente       Consigo normalmente  As vezes eu consigo   \n",
       "4        Sempre consigo            Sempre consigo  As vezes eu consigo   \n",
       "\n",
       "     manoeuvres_10_air surfer_experience  \n",
       "0  As vezes eu consigo          Avançado  \n",
       "1    Ainda não consigo          Aprendiz  \n",
       "2    Ainda não consigo          Avançado  \n",
       "3    Ainda não consigo          Avançado  \n",
       "4    Ainda não consigo          Avançado  "
      ]
     },
     "execution_count": 2,
     "metadata": {},
     "output_type": "execute_result"
    }
   ],
   "source": [
    "df = pd.read_csv(\"df_manoeuvres_experience.csv\")\n",
    "df = df.drop(df.columns[0], axis=1)\n",
    "df.head()"
   ]
  },
  {
   "cell_type": "markdown",
   "metadata": {},
   "source": [
    "## Checking dataset size"
   ]
  },
  {
   "cell_type": "code",
   "execution_count": 3,
   "metadata": {},
   "outputs": [
    {
     "name": "stdout",
     "output_type": "stream",
     "text": [
      "The dataframe has 165 samples and 11 features\n"
     ]
    }
   ],
   "source": [
    "df.shape[0]\n",
    "print(f'The dataframe has {df.shape[0]} samples and {df.shape[1]} features')"
   ]
  },
  {
   "cell_type": "markdown",
   "metadata": {},
   "source": [
    "## Exploring features"
   ]
  },
  {
   "cell_type": "code",
   "execution_count": 4,
   "metadata": {},
   "outputs": [],
   "source": [
    "df.columns;"
   ]
  },
  {
   "cell_type": "markdown",
   "metadata": {},
   "source": [
    "**Dataset features:**\n",
    "- manoeuvres_01_paddling\n",
    "- manoeuvres_02_drop\n",
    "- manoeuvres_03_straight_ahead\n",
    "- manoeuvres_04_wall_riding\n",
    "- manoeuvres_05_floater\n",
    "- manoeuvres_06_cut_back\n",
    "- manoeuvres_07_rasgada\n",
    "- manoeuvres_08_off_the_lip\n",
    "- manoeuvres_09_tube\n",
    "- manoeuvres_10_air\n",
    "- surfer_experience\n",
    "\n",
    "The first 10 features are **inputs**, and the last one (`surfer_experience`) is an **output** to be further used as benchmark."
   ]
  },
  {
   "cell_type": "markdown",
   "metadata": {
    "toc-hr-collapsed": true
   },
   "source": [
    "# Data Preprosseing"
   ]
  },
  {
   "cell_type": "markdown",
   "metadata": {},
   "source": [
    "## Renaming features\n",
    "The names of the features are to long for quick coding, so we'll shorten them by removing the 'manoeuvres_' prefix."
   ]
  },
  {
   "cell_type": "code",
   "execution_count": 5,
   "metadata": {},
   "outputs": [
    {
     "name": "stdout",
     "output_type": "stream",
     "text": [
      "The new feature names are:\n",
      "01_paddling\n",
      "02_drop\n",
      "03_straight_ahead\n",
      "04_wall_riding\n",
      "05_floater\n",
      "06_cut_back\n",
      "07_rasgada\n",
      "08_off_the_lip\n",
      "09_tube\n",
      "10_air\n",
      "surfer_experience\n"
     ]
    }
   ],
   "source": [
    "new_columns = []\n",
    "for col in df.columns:\n",
    "    if 'manoeuvre' in col:\n",
    "        new_columns.append(col[11:])\n",
    "    else:\n",
    "        new_columns.append(col)\n",
    "\n",
    "df.columns = new_columns\n",
    "print('The new feature names are:')\n",
    "[print(col) for col in df.columns];"
   ]
  },
  {
   "cell_type": "markdown",
   "metadata": {},
   "source": [
    "## Translating to English\n",
    "As noticed, the answers are in Portuguese, so we have to translate to English."
   ]
  },
  {
   "cell_type": "code",
   "execution_count": 6,
   "metadata": {},
   "outputs": [
    {
     "data": {
      "text/html": [
       "<div>\n",
       "<style scoped>\n",
       "    .dataframe tbody tr th:only-of-type {\n",
       "        vertical-align: middle;\n",
       "    }\n",
       "\n",
       "    .dataframe tbody tr th {\n",
       "        vertical-align: top;\n",
       "    }\n",
       "\n",
       "    .dataframe thead th {\n",
       "        text-align: right;\n",
       "    }\n",
       "</style>\n",
       "<table border=\"1\" class=\"dataframe\">\n",
       "  <thead>\n",
       "    <tr style=\"text-align: right;\">\n",
       "      <th></th>\n",
       "      <th>01_paddling</th>\n",
       "      <th>02_drop</th>\n",
       "      <th>03_straight_ahead</th>\n",
       "      <th>04_wall_riding</th>\n",
       "      <th>05_floater</th>\n",
       "      <th>06_cut_back</th>\n",
       "      <th>07_rasgada</th>\n",
       "      <th>08_off_the_lip</th>\n",
       "      <th>09_tube</th>\n",
       "      <th>10_air</th>\n",
       "      <th>surfer_experience</th>\n",
       "    </tr>\n",
       "  </thead>\n",
       "  <tbody>\n",
       "    <tr>\n",
       "      <th>0</th>\n",
       "      <td>Always</td>\n",
       "      <td>Always</td>\n",
       "      <td>Always</td>\n",
       "      <td>Always</td>\n",
       "      <td>Always</td>\n",
       "      <td>Usually</td>\n",
       "      <td>Usually</td>\n",
       "      <td>Usually</td>\n",
       "      <td>Usually</td>\n",
       "      <td>Sometimes</td>\n",
       "      <td>Advanced</td>\n",
       "    </tr>\n",
       "    <tr>\n",
       "      <th>1</th>\n",
       "      <td>Usually</td>\n",
       "      <td>Sometimes</td>\n",
       "      <td>Not yet</td>\n",
       "      <td>Not yet</td>\n",
       "      <td>Not yet</td>\n",
       "      <td>Not yet</td>\n",
       "      <td>Not yet</td>\n",
       "      <td>Not yet</td>\n",
       "      <td>Not yet</td>\n",
       "      <td>Not yet</td>\n",
       "      <td>FirstTimer</td>\n",
       "    </tr>\n",
       "    <tr>\n",
       "      <th>2</th>\n",
       "      <td>Always</td>\n",
       "      <td>Usually</td>\n",
       "      <td>Always</td>\n",
       "      <td>Usually</td>\n",
       "      <td>Sometimes</td>\n",
       "      <td>Usually</td>\n",
       "      <td>Usually</td>\n",
       "      <td>Usually</td>\n",
       "      <td>Sometimes</td>\n",
       "      <td>Not yet</td>\n",
       "      <td>Advanced</td>\n",
       "    </tr>\n",
       "    <tr>\n",
       "      <th>3</th>\n",
       "      <td>Always</td>\n",
       "      <td>Usually</td>\n",
       "      <td>I don't know</td>\n",
       "      <td>Usually</td>\n",
       "      <td>Sometimes</td>\n",
       "      <td>Sometimes</td>\n",
       "      <td>Usually</td>\n",
       "      <td>Usually</td>\n",
       "      <td>Sometimes</td>\n",
       "      <td>Not yet</td>\n",
       "      <td>Advanced</td>\n",
       "    </tr>\n",
       "    <tr>\n",
       "      <th>4</th>\n",
       "      <td>Always</td>\n",
       "      <td>Usually</td>\n",
       "      <td>Usually</td>\n",
       "      <td>Always</td>\n",
       "      <td>Usually</td>\n",
       "      <td>Usually</td>\n",
       "      <td>Always</td>\n",
       "      <td>Always</td>\n",
       "      <td>Sometimes</td>\n",
       "      <td>Not yet</td>\n",
       "      <td>Advanced</td>\n",
       "    </tr>\n",
       "  </tbody>\n",
       "</table>\n",
       "</div>"
      ],
      "text/plain": [
       "  01_paddling    02_drop 03_straight_ahead 04_wall_riding 05_floater  \\\n",
       "0      Always     Always            Always         Always     Always   \n",
       "1     Usually  Sometimes           Not yet        Not yet    Not yet   \n",
       "2      Always    Usually            Always        Usually  Sometimes   \n",
       "3      Always    Usually      I don't know        Usually  Sometimes   \n",
       "4      Always    Usually           Usually         Always    Usually   \n",
       "\n",
       "  06_cut_back 07_rasgada 08_off_the_lip    09_tube     10_air  \\\n",
       "0     Usually    Usually        Usually    Usually  Sometimes   \n",
       "1     Not yet    Not yet        Not yet    Not yet    Not yet   \n",
       "2     Usually    Usually        Usually  Sometimes    Not yet   \n",
       "3   Sometimes    Usually        Usually  Sometimes    Not yet   \n",
       "4     Usually     Always         Always  Sometimes    Not yet   \n",
       "\n",
       "  surfer_experience  \n",
       "0          Advanced  \n",
       "1        FirstTimer  \n",
       "2          Advanced  \n",
       "3          Advanced  \n",
       "4          Advanced  "
      ]
     },
     "execution_count": 6,
     "metadata": {},
     "output_type": "execute_result"
    }
   ],
   "source": [
    "# Manoeuvres execution frequency\n",
    "translation_dict = {\n",
    "    'Ainda não consigo': 'Not yet',\n",
    "    'As vezes eu consigo': 'Sometimes',\n",
    "    'Consigo normalmente': 'Usually',\n",
    "    'Sempre consigo': 'Always',\n",
    "    'Não sei': \"I don't know\",\n",
    "}\n",
    "\n",
    "# Five expected levels of experience\n",
    "level_dict = {\n",
    "    'Aprendiz': 'FirstTimer',\n",
    "    'Iniciante': 'Beginner',\n",
    "    'Intermediário': 'Intermediate',\n",
    "    'Avançado': 'Advanced',\n",
    "    'Profissional': \"Pro\",\n",
    "}\n",
    "\n",
    "df.replace(inplace=True, to_replace=translation_dict)\n",
    "df.replace(inplace=True, to_replace=level_dict)\n",
    "df.head()"
   ]
  },
  {
   "cell_type": "markdown",
   "metadata": {},
   "source": [
    "## Exploring data distribution"
   ]
  },
  {
   "cell_type": "code",
   "execution_count": 77,
   "metadata": {},
   "outputs": [
    {
     "data": {
      "text/plain": [
       "<matplotlib.axes._subplots.AxesSubplot at 0x7f78c4e3ecf8>"
      ]
     },
     "execution_count": 77,
     "metadata": {},
     "output_type": "execute_result"
    },
    {
     "data": {
      "image/png": "[encoded data removed]",
      "text/plain": [
       "<Figure size 432x288 with 1 Axes>"
      ]
     },
     "metadata": {
      "needs_background": "light"
     },
     "output_type": "display_data"
    }
   ],
   "source": [
    "df['surfer_experience']\n",
    "order = ['FirstTimer', 'Beginner', 'Intermediate', 'Advanced', 'Pro']\n",
    "import seaborn as sns\n",
    "sns.countplot(data = df, x='surfer_experience', order=order)"
   ]
  },
  {
   "cell_type": "markdown",
   "metadata": {},
   "source": [
    "## Scaling frequency adverbs - 0 to 1"
   ]
  },
  {
   "cell_type": "markdown",
   "metadata": {},
   "source": [
    "As seen in `df_x`, the answers express the frequency of execution of each manoeuvre.\n",
    "Hence, we need to scale them from `0` to `1`, so they can be quantifiable.\n",
    "For so, we'll use a replacement dictionary, as follows."
   ]
  },
  {
   "cell_type": "code",
   "execution_count": 7,
   "metadata": {
    "scrolled": true
   },
   "outputs": [],
   "source": [
    "replacement_dict = {\n",
    "    'Not yet': 0,\n",
    "    'Sometimes': 0.33,\n",
    "    'Usually': 0.66,\n",
    "    'Always': 1,\n",
    "    \"I don't know\": np.nan,\n",
    "}\n",
    "df.replace(inplace=True, to_replace=replacement_dict)\n",
    "\n",
    "# Filling NaN with mean value\n",
    "# df_x.fillna(df_x.mean(), inplace=True)\n",
    "# df_x"
   ]
  },
  {
   "cell_type": "markdown",
   "metadata": {},
   "source": [
    "## Managing NaN - Dropping rows full with NaN"
   ]
  },
  {
   "cell_type": "code",
   "execution_count": 8,
   "metadata": {},
   "outputs": [
    {
     "name": "stdout",
     "output_type": "stream",
     "text": [
      "(165, 11)\n",
      "(165, 11)\n",
      "(110, 11)\n"
     ]
    }
   ],
   "source": [
    "# Dropping NaN in the 'surfer_experience' column\n",
    "print(df.shape)\n",
    "# df.dropna(how='any', subset=['surfer_experience'], inplace=True)\n",
    "print(df.shape)\n",
    "df.dropna(how='any', inplace=True)\n",
    "print(df.shape)"
   ]
  },
  {
   "cell_type": "markdown",
   "metadata": {},
   "source": [
    "## Splitting features: input and output"
   ]
  },
  {
   "cell_type": "code",
   "execution_count": 9,
   "metadata": {},
   "outputs": [
    {
     "data": {
      "text/html": [
       "<div>\n",
       "<style scoped>\n",
       "    .dataframe tbody tr th:only-of-type {\n",
       "        vertical-align: middle;\n",
       "    }\n",
       "\n",
       "    .dataframe tbody tr th {\n",
       "        vertical-align: top;\n",
       "    }\n",
       "\n",
       "    .dataframe thead th {\n",
       "        text-align: right;\n",
       "    }\n",
       "</style>\n",
       "<table border=\"1\" class=\"dataframe\">\n",
       "  <thead>\n",
       "    <tr style=\"text-align: right;\">\n",
       "      <th></th>\n",
       "      <th>01_paddling</th>\n",
       "      <th>02_drop</th>\n",
       "      <th>03_straight_ahead</th>\n",
       "      <th>04_wall_riding</th>\n",
       "      <th>05_floater</th>\n",
       "      <th>06_cut_back</th>\n",
       "      <th>07_rasgada</th>\n",
       "      <th>08_off_the_lip</th>\n",
       "      <th>09_tube</th>\n",
       "      <th>10_air</th>\n",
       "    </tr>\n",
       "  </thead>\n",
       "  <tbody>\n",
       "    <tr>\n",
       "      <th>0</th>\n",
       "      <td>1.00</td>\n",
       "      <td>1.00</td>\n",
       "      <td>1.00</td>\n",
       "      <td>1.00</td>\n",
       "      <td>1.00</td>\n",
       "      <td>0.66</td>\n",
       "      <td>0.66</td>\n",
       "      <td>0.66</td>\n",
       "      <td>0.66</td>\n",
       "      <td>0.33</td>\n",
       "    </tr>\n",
       "    <tr>\n",
       "      <th>1</th>\n",
       "      <td>0.66</td>\n",
       "      <td>0.33</td>\n",
       "      <td>0.00</td>\n",
       "      <td>0.00</td>\n",
       "      <td>0.00</td>\n",
       "      <td>0.00</td>\n",
       "      <td>0.00</td>\n",
       "      <td>0.00</td>\n",
       "      <td>0.00</td>\n",
       "      <td>0.00</td>\n",
       "    </tr>\n",
       "    <tr>\n",
       "      <th>2</th>\n",
       "      <td>1.00</td>\n",
       "      <td>0.66</td>\n",
       "      <td>1.00</td>\n",
       "      <td>0.66</td>\n",
       "      <td>0.33</td>\n",
       "      <td>0.66</td>\n",
       "      <td>0.66</td>\n",
       "      <td>0.66</td>\n",
       "      <td>0.33</td>\n",
       "      <td>0.00</td>\n",
       "    </tr>\n",
       "    <tr>\n",
       "      <th>4</th>\n",
       "      <td>1.00</td>\n",
       "      <td>0.66</td>\n",
       "      <td>0.66</td>\n",
       "      <td>1.00</td>\n",
       "      <td>0.66</td>\n",
       "      <td>0.66</td>\n",
       "      <td>1.00</td>\n",
       "      <td>1.00</td>\n",
       "      <td>0.33</td>\n",
       "      <td>0.00</td>\n",
       "    </tr>\n",
       "    <tr>\n",
       "      <th>5</th>\n",
       "      <td>1.00</td>\n",
       "      <td>1.00</td>\n",
       "      <td>1.00</td>\n",
       "      <td>1.00</td>\n",
       "      <td>1.00</td>\n",
       "      <td>1.00</td>\n",
       "      <td>1.00</td>\n",
       "      <td>1.00</td>\n",
       "      <td>1.00</td>\n",
       "      <td>0.33</td>\n",
       "    </tr>\n",
       "  </tbody>\n",
       "</table>\n",
       "</div>"
      ],
      "text/plain": [
       "   01_paddling  02_drop  03_straight_ahead  04_wall_riding  05_floater  \\\n",
       "0         1.00     1.00               1.00            1.00        1.00   \n",
       "1         0.66     0.33               0.00            0.00        0.00   \n",
       "2         1.00     0.66               1.00            0.66        0.33   \n",
       "4         1.00     0.66               0.66            1.00        0.66   \n",
       "5         1.00     1.00               1.00            1.00        1.00   \n",
       "\n",
       "   06_cut_back  07_rasgada  08_off_the_lip  09_tube  10_air  \n",
       "0         0.66        0.66            0.66     0.66    0.33  \n",
       "1         0.00        0.00            0.00     0.00    0.00  \n",
       "2         0.66        0.66            0.66     0.33    0.00  \n",
       "4         0.66        1.00            1.00     0.33    0.00  \n",
       "5         1.00        1.00            1.00     1.00    0.33  "
      ]
     },
     "execution_count": 9,
     "metadata": {},
     "output_type": "execute_result"
    }
   ],
   "source": [
    "# Prepare input features\n",
    "df_x = df.drop(['surfer_experience'], axis=1)\n",
    "\n",
    "# Filling NaN with mean value\n",
    "# df_x.fillna(df_x.mean(), inplace=True)\n",
    "df_x.head()"
   ]
  },
  {
   "cell_type": "code",
   "execution_count": 10,
   "metadata": {
    "scrolled": true
   },
   "outputs": [
    {
     "data": {
      "text/plain": [
       "0      Advanced\n",
       "1    FirstTimer\n",
       "2      Advanced\n",
       "4      Advanced\n",
       "5      Advanced\n",
       "Name: surfer_experience, dtype: object"
      ]
     },
     "execution_count": 10,
     "metadata": {},
     "output_type": "execute_result"
    }
   ],
   "source": [
    "# Prepare output feature\n",
    "# We'll put this feature on hold until further benchmarking\n",
    "s_y = df['surfer_experience']\n",
    "s_y.head()"
   ]
  },
  {
   "cell_type": "markdown",
   "metadata": {},
   "source": [
    "## Scaling experience level - 0 to 1"
   ]
  },
  {
   "cell_type": "code",
   "execution_count": 11,
   "metadata": {},
   "outputs": [],
   "source": [
    "# TODO implement"
   ]
  },
  {
   "cell_type": "markdown",
   "metadata": {
    "toc-hr-collapsed": true
   },
   "source": [
    "# Correlation Analysis"
   ]
  },
  {
   "cell_type": "markdown",
   "metadata": {},
   "source": [
    "## Getting correlation among features"
   ]
  },
  {
   "cell_type": "code",
   "execution_count": 12,
   "metadata": {},
   "outputs": [
    {
     "data": {
      "text/html": [
       "<div>\n",
       "<style scoped>\n",
       "    .dataframe tbody tr th:only-of-type {\n",
       "        vertical-align: middle;\n",
       "    }\n",
       "\n",
       "    .dataframe tbody tr th {\n",
       "        vertical-align: top;\n",
       "    }\n",
       "\n",
       "    .dataframe thead th {\n",
       "        text-align: right;\n",
       "    }\n",
       "</style>\n",
       "<table border=\"1\" class=\"dataframe\">\n",
       "  <thead>\n",
       "    <tr style=\"text-align: right;\">\n",
       "      <th></th>\n",
       "      <th>01_paddling</th>\n",
       "      <th>02_drop</th>\n",
       "      <th>03_straight_ahead</th>\n",
       "      <th>04_wall_riding</th>\n",
       "      <th>05_floater</th>\n",
       "      <th>06_cut_back</th>\n",
       "      <th>07_rasgada</th>\n",
       "      <th>08_off_the_lip</th>\n",
       "      <th>09_tube</th>\n",
       "      <th>10_air</th>\n",
       "    </tr>\n",
       "  </thead>\n",
       "  <tbody>\n",
       "    <tr>\n",
       "      <th>01_paddling</th>\n",
       "      <td>1.00</td>\n",
       "      <td>0.63</td>\n",
       "      <td>0.51</td>\n",
       "      <td>0.54</td>\n",
       "      <td>0.32</td>\n",
       "      <td>0.39</td>\n",
       "      <td>0.42</td>\n",
       "      <td>0.37</td>\n",
       "      <td>0.30</td>\n",
       "      <td>0.12</td>\n",
       "    </tr>\n",
       "    <tr>\n",
       "      <th>02_drop</th>\n",
       "      <td>0.63</td>\n",
       "      <td>1.00</td>\n",
       "      <td>0.65</td>\n",
       "      <td>0.75</td>\n",
       "      <td>0.58</td>\n",
       "      <td>0.58</td>\n",
       "      <td>0.66</td>\n",
       "      <td>0.61</td>\n",
       "      <td>0.45</td>\n",
       "      <td>0.29</td>\n",
       "    </tr>\n",
       "    <tr>\n",
       "      <th>03_straight_ahead</th>\n",
       "      <td>0.51</td>\n",
       "      <td>0.65</td>\n",
       "      <td>1.00</td>\n",
       "      <td>0.62</td>\n",
       "      <td>0.38</td>\n",
       "      <td>0.43</td>\n",
       "      <td>0.42</td>\n",
       "      <td>0.40</td>\n",
       "      <td>0.27</td>\n",
       "      <td>0.13</td>\n",
       "    </tr>\n",
       "    <tr>\n",
       "      <th>04_wall_riding</th>\n",
       "      <td>0.54</td>\n",
       "      <td>0.75</td>\n",
       "      <td>0.62</td>\n",
       "      <td>1.00</td>\n",
       "      <td>0.63</td>\n",
       "      <td>0.63</td>\n",
       "      <td>0.70</td>\n",
       "      <td>0.69</td>\n",
       "      <td>0.49</td>\n",
       "      <td>0.27</td>\n",
       "    </tr>\n",
       "    <tr>\n",
       "      <th>05_floater</th>\n",
       "      <td>0.32</td>\n",
       "      <td>0.58</td>\n",
       "      <td>0.38</td>\n",
       "      <td>0.63</td>\n",
       "      <td>1.00</td>\n",
       "      <td>0.80</td>\n",
       "      <td>0.82</td>\n",
       "      <td>0.84</td>\n",
       "      <td>0.81</td>\n",
       "      <td>0.58</td>\n",
       "    </tr>\n",
       "    <tr>\n",
       "      <th>06_cut_back</th>\n",
       "      <td>0.39</td>\n",
       "      <td>0.58</td>\n",
       "      <td>0.43</td>\n",
       "      <td>0.63</td>\n",
       "      <td>0.80</td>\n",
       "      <td>1.00</td>\n",
       "      <td>0.86</td>\n",
       "      <td>0.77</td>\n",
       "      <td>0.73</td>\n",
       "      <td>0.52</td>\n",
       "    </tr>\n",
       "    <tr>\n",
       "      <th>07_rasgada</th>\n",
       "      <td>0.42</td>\n",
       "      <td>0.66</td>\n",
       "      <td>0.42</td>\n",
       "      <td>0.70</td>\n",
       "      <td>0.82</td>\n",
       "      <td>0.86</td>\n",
       "      <td>1.00</td>\n",
       "      <td>0.85</td>\n",
       "      <td>0.72</td>\n",
       "      <td>0.48</td>\n",
       "    </tr>\n",
       "    <tr>\n",
       "      <th>08_off_the_lip</th>\n",
       "      <td>0.37</td>\n",
       "      <td>0.61</td>\n",
       "      <td>0.40</td>\n",
       "      <td>0.69</td>\n",
       "      <td>0.84</td>\n",
       "      <td>0.77</td>\n",
       "      <td>0.85</td>\n",
       "      <td>1.00</td>\n",
       "      <td>0.74</td>\n",
       "      <td>0.51</td>\n",
       "    </tr>\n",
       "    <tr>\n",
       "      <th>09_tube</th>\n",
       "      <td>0.30</td>\n",
       "      <td>0.45</td>\n",
       "      <td>0.27</td>\n",
       "      <td>0.49</td>\n",
       "      <td>0.81</td>\n",
       "      <td>0.73</td>\n",
       "      <td>0.72</td>\n",
       "      <td>0.74</td>\n",
       "      <td>1.00</td>\n",
       "      <td>0.64</td>\n",
       "    </tr>\n",
       "    <tr>\n",
       "      <th>10_air</th>\n",
       "      <td>0.12</td>\n",
       "      <td>0.29</td>\n",
       "      <td>0.13</td>\n",
       "      <td>0.27</td>\n",
       "      <td>0.58</td>\n",
       "      <td>0.52</td>\n",
       "      <td>0.48</td>\n",
       "      <td>0.51</td>\n",
       "      <td>0.64</td>\n",
       "      <td>1.00</td>\n",
       "    </tr>\n",
       "  </tbody>\n",
       "</table>\n",
       "</div>"
      ],
      "text/plain": [
       "                   01_paddling  02_drop  03_straight_ahead  04_wall_riding  \\\n",
       "01_paddling               1.00     0.63               0.51            0.54   \n",
       "02_drop                   0.63     1.00               0.65            0.75   \n",
       "03_straight_ahead         0.51     0.65               1.00            0.62   \n",
       "04_wall_riding            0.54     0.75               0.62            1.00   \n",
       "05_floater                0.32     0.58               0.38            0.63   \n",
       "06_cut_back               0.39     0.58               0.43            0.63   \n",
       "07_rasgada                0.42     0.66               0.42            0.70   \n",
       "08_off_the_lip            0.37     0.61               0.40            0.69   \n",
       "09_tube                   0.30     0.45               0.27            0.49   \n",
       "10_air                    0.12     0.29               0.13            0.27   \n",
       "\n",
       "                   05_floater  06_cut_back  07_rasgada  08_off_the_lip  \\\n",
       "01_paddling              0.32         0.39        0.42            0.37   \n",
       "02_drop                  0.58         0.58        0.66            0.61   \n",
       "03_straight_ahead        0.38         0.43        0.42            0.40   \n",
       "04_wall_riding           0.63         0.63        0.70            0.69   \n",
       "05_floater               1.00         0.80        0.82            0.84   \n",
       "06_cut_back              0.80         1.00        0.86            0.77   \n",
       "07_rasgada               0.82         0.86        1.00            0.85   \n",
       "08_off_the_lip           0.84         0.77        0.85            1.00   \n",
       "09_tube                  0.81         0.73        0.72            0.74   \n",
       "10_air                   0.58         0.52        0.48            0.51   \n",
       "\n",
       "                   09_tube  10_air  \n",
       "01_paddling           0.30    0.12  \n",
       "02_drop               0.45    0.29  \n",
       "03_straight_ahead     0.27    0.13  \n",
       "04_wall_riding        0.49    0.27  \n",
       "05_floater            0.81    0.58  \n",
       "06_cut_back           0.73    0.52  \n",
       "07_rasgada            0.72    0.48  \n",
       "08_off_the_lip        0.74    0.51  \n",
       "09_tube               1.00    0.64  \n",
       "10_air                0.64    1.00  "
      ]
     },
     "execution_count": 12,
     "metadata": {},
     "output_type": "execute_result"
    }
   ],
   "source": [
    "df_corr = df_x.corr().round(2)\n",
    "df_corr"
   ]
  },
  {
   "cell_type": "markdown",
   "metadata": {},
   "source": [
    "## Plot correlation heatmap\n",
    "Numbers are good, but colors are better!\n",
    "\n",
    "> \"The stronger the red, the stronger the correlation\""
   ]
  },
  {
   "cell_type": "code",
   "execution_count": 13,
   "metadata": {},
   "outputs": [
    {
     "data": {
      "image/png": "[encoded data removed]",
      "text/plain": [
       "<Figure size 432x288 with 2 Axes>"
      ]
     },
     "metadata": {
      "needs_background": "light"
     },
     "output_type": "display_data"
    }
   ],
   "source": [
    "ax = sns.heatmap(df_corr, cmap='coolwarm', vmin=-1, vmax=1)"
   ]
  },
  {
   "cell_type": "markdown",
   "metadata": {
    "toc-hr-collapsed": true
   },
   "source": [
    "# Data Sampling"
   ]
  },
  {
   "cell_type": "markdown",
   "metadata": {},
   "source": [
    "## Getting random samples  [maybe del latter]"
   ]
  },
  {
   "cell_type": "code",
   "execution_count": 14,
   "metadata": {},
   "outputs": [
    {
     "data": {
      "text/plain": [
       "110"
      ]
     },
     "execution_count": 14,
     "metadata": {},
     "output_type": "execute_result"
    }
   ],
   "source": [
    "df.shape[0]"
   ]
  },
  {
   "cell_type": "code",
   "execution_count": 15,
   "metadata": {},
   "outputs": [
    {
     "name": "stdout",
     "output_type": "stream",
     "text": [
      "[2, 1, 74, 40, 25]\n"
     ]
    },
    {
     "data": {
      "text/html": [
       "<div>\n",
       "<style scoped>\n",
       "    .dataframe tbody tr th:only-of-type {\n",
       "        vertical-align: middle;\n",
       "    }\n",
       "\n",
       "    .dataframe tbody tr th {\n",
       "        vertical-align: top;\n",
       "    }\n",
       "\n",
       "    .dataframe thead th {\n",
       "        text-align: right;\n",
       "    }\n",
       "</style>\n",
       "<table border=\"1\" class=\"dataframe\">\n",
       "  <thead>\n",
       "    <tr style=\"text-align: right;\">\n",
       "      <th></th>\n",
       "      <th>01_paddling</th>\n",
       "      <th>02_drop</th>\n",
       "      <th>03_straight_ahead</th>\n",
       "      <th>04_wall_riding</th>\n",
       "      <th>05_floater</th>\n",
       "      <th>06_cut_back</th>\n",
       "      <th>07_rasgada</th>\n",
       "      <th>08_off_the_lip</th>\n",
       "      <th>09_tube</th>\n",
       "      <th>10_air</th>\n",
       "    </tr>\n",
       "  </thead>\n",
       "  <tbody>\n",
       "    <tr>\n",
       "      <th>2</th>\n",
       "      <td>1.00</td>\n",
       "      <td>0.66</td>\n",
       "      <td>1.00</td>\n",
       "      <td>0.66</td>\n",
       "      <td>0.33</td>\n",
       "      <td>0.66</td>\n",
       "      <td>0.66</td>\n",
       "      <td>0.66</td>\n",
       "      <td>0.33</td>\n",
       "      <td>0.00</td>\n",
       "    </tr>\n",
       "    <tr>\n",
       "      <th>1</th>\n",
       "      <td>0.66</td>\n",
       "      <td>0.33</td>\n",
       "      <td>0.00</td>\n",
       "      <td>0.00</td>\n",
       "      <td>0.00</td>\n",
       "      <td>0.00</td>\n",
       "      <td>0.00</td>\n",
       "      <td>0.00</td>\n",
       "      <td>0.00</td>\n",
       "      <td>0.00</td>\n",
       "    </tr>\n",
       "    <tr>\n",
       "      <th>108</th>\n",
       "      <td>1.00</td>\n",
       "      <td>0.66</td>\n",
       "      <td>1.00</td>\n",
       "      <td>0.66</td>\n",
       "      <td>0.00</td>\n",
       "      <td>0.00</td>\n",
       "      <td>0.00</td>\n",
       "      <td>0.33</td>\n",
       "      <td>0.00</td>\n",
       "      <td>0.00</td>\n",
       "    </tr>\n",
       "    <tr>\n",
       "      <th>56</th>\n",
       "      <td>1.00</td>\n",
       "      <td>1.00</td>\n",
       "      <td>1.00</td>\n",
       "      <td>1.00</td>\n",
       "      <td>1.00</td>\n",
       "      <td>1.00</td>\n",
       "      <td>1.00</td>\n",
       "      <td>1.00</td>\n",
       "      <td>1.00</td>\n",
       "      <td>0.33</td>\n",
       "    </tr>\n",
       "    <tr>\n",
       "      <th>39</th>\n",
       "      <td>1.00</td>\n",
       "      <td>0.66</td>\n",
       "      <td>0.66</td>\n",
       "      <td>0.66</td>\n",
       "      <td>0.00</td>\n",
       "      <td>0.00</td>\n",
       "      <td>0.00</td>\n",
       "      <td>0.33</td>\n",
       "      <td>0.00</td>\n",
       "      <td>0.00</td>\n",
       "    </tr>\n",
       "  </tbody>\n",
       "</table>\n",
       "</div>"
      ],
      "text/plain": [
       "     01_paddling  02_drop  03_straight_ahead  04_wall_riding  05_floater  \\\n",
       "2           1.00     0.66               1.00            0.66        0.33   \n",
       "1           0.66     0.33               0.00            0.00        0.00   \n",
       "108         1.00     0.66               1.00            0.66        0.00   \n",
       "56          1.00     1.00               1.00            1.00        1.00   \n",
       "39          1.00     0.66               0.66            0.66        0.00   \n",
       "\n",
       "     06_cut_back  07_rasgada  08_off_the_lip  09_tube  10_air  \n",
       "2           0.66        0.66            0.66     0.33    0.00  \n",
       "1           0.00        0.00            0.00     0.00    0.00  \n",
       "108         0.00        0.00            0.33     0.00    0.00  \n",
       "56          1.00        1.00            1.00     1.00    0.33  \n",
       "39          0.00        0.00            0.33     0.00    0.00  "
      ]
     },
     "execution_count": 15,
     "metadata": {},
     "output_type": "execute_result"
    }
   ],
   "source": [
    "indices = []\n",
    "for i in range(5):\n",
    "    id = random.randrange(df.shape[0])\n",
    "    indices.append(id)\n",
    "print(indices)\n",
    "\n",
    "samples = pd.DataFrame(df_x.iloc[indices], columns = df_x.keys())#.reset_index(drop = True)\n",
    "samples\n",
    "# [112, 2, 10, 49, 120]\n"
   ]
  },
  {
   "cell_type": "markdown",
   "metadata": {},
   "source": [
    "## Getting artificial samples"
   ]
  },
  {
   "cell_type": "markdown",
   "metadata": {},
   "source": [
    "**Artificial sampling logic:**\n",
    "> In order to verify how well our clustering algorithm is performing, we must analyze individual cases. For so, we'll define a sample for each expected experience level as in `level_dict`."
   ]
  },
  {
   "cell_type": "code",
   "execution_count": 16,
   "metadata": {},
   "outputs": [],
   "source": [
    "# Create a sample CSV file as a template for the samples\n",
    "samples = pd.DataFrame(df_x.loc[indices], columns = df_x.keys()).reset_index(drop = True)\n",
    "samples.to_csv('df_samples_template.csv', index=False)"
   ]
  },
  {
   "cell_type": "markdown",
   "metadata": {},
   "source": [
    "**PAUSE!**\n",
    "\n",
    "External actions executed:\n",
    "- Renamed `df_samples_template.csv` as `df_samples_artificial.csv`\n",
    "- Filled `df_samples_artificial.csv` with samples of which manoeuvres each level of surfer can perform"
   ]
  },
  {
   "cell_type": "code",
   "execution_count": 17,
   "metadata": {},
   "outputs": [
    {
     "data": {
      "text/html": [
       "<div>\n",
       "<style scoped>\n",
       "    .dataframe tbody tr th:only-of-type {\n",
       "        vertical-align: middle;\n",
       "    }\n",
       "\n",
       "    .dataframe tbody tr th {\n",
       "        vertical-align: top;\n",
       "    }\n",
       "\n",
       "    .dataframe thead th {\n",
       "        text-align: right;\n",
       "    }\n",
       "</style>\n",
       "<table border=\"1\" class=\"dataframe\">\n",
       "  <thead>\n",
       "    <tr style=\"text-align: right;\">\n",
       "      <th></th>\n",
       "      <th>01_paddling</th>\n",
       "      <th>02_drop</th>\n",
       "      <th>03_straight_ahead</th>\n",
       "      <th>04_wall_riding</th>\n",
       "      <th>05_floater</th>\n",
       "      <th>06_cut_back</th>\n",
       "      <th>07_rasgada</th>\n",
       "      <th>08_off_the_lip</th>\n",
       "      <th>09_tube</th>\n",
       "      <th>10_air</th>\n",
       "    </tr>\n",
       "  </thead>\n",
       "  <tbody>\n",
       "    <tr>\n",
       "      <th>0</th>\n",
       "      <td>1</td>\n",
       "      <td>0.5</td>\n",
       "      <td>0.5</td>\n",
       "      <td>0</td>\n",
       "      <td>0</td>\n",
       "      <td>0.0</td>\n",
       "      <td>0.0</td>\n",
       "      <td>0</td>\n",
       "      <td>0.0</td>\n",
       "      <td>0</td>\n",
       "    </tr>\n",
       "    <tr>\n",
       "      <th>1</th>\n",
       "      <td>0</td>\n",
       "      <td>0.0</td>\n",
       "      <td>0.0</td>\n",
       "      <td>0</td>\n",
       "      <td>0</td>\n",
       "      <td>0.0</td>\n",
       "      <td>0.0</td>\n",
       "      <td>0</td>\n",
       "      <td>0.0</td>\n",
       "      <td>0</td>\n",
       "    </tr>\n",
       "    <tr>\n",
       "      <th>2</th>\n",
       "      <td>1</td>\n",
       "      <td>1.0</td>\n",
       "      <td>1.0</td>\n",
       "      <td>1</td>\n",
       "      <td>0</td>\n",
       "      <td>0.5</td>\n",
       "      <td>0.5</td>\n",
       "      <td>0</td>\n",
       "      <td>0.0</td>\n",
       "      <td>0</td>\n",
       "    </tr>\n",
       "    <tr>\n",
       "      <th>3</th>\n",
       "      <td>1</td>\n",
       "      <td>1.0</td>\n",
       "      <td>1.0</td>\n",
       "      <td>1</td>\n",
       "      <td>1</td>\n",
       "      <td>1.0</td>\n",
       "      <td>1.0</td>\n",
       "      <td>1</td>\n",
       "      <td>0.5</td>\n",
       "      <td>0</td>\n",
       "    </tr>\n",
       "    <tr>\n",
       "      <th>4</th>\n",
       "      <td>1</td>\n",
       "      <td>1.0</td>\n",
       "      <td>1.0</td>\n",
       "      <td>1</td>\n",
       "      <td>1</td>\n",
       "      <td>1.0</td>\n",
       "      <td>1.0</td>\n",
       "      <td>1</td>\n",
       "      <td>1.0</td>\n",
       "      <td>1</td>\n",
       "    </tr>\n",
       "  </tbody>\n",
       "</table>\n",
       "</div>"
      ],
      "text/plain": [
       "   01_paddling  02_drop  03_straight_ahead  04_wall_riding  05_floater  \\\n",
       "0            1      0.5                0.5               0           0   \n",
       "1            0      0.0                0.0               0           0   \n",
       "2            1      1.0                1.0               1           0   \n",
       "3            1      1.0                1.0               1           1   \n",
       "4            1      1.0                1.0               1           1   \n",
       "\n",
       "   06_cut_back  07_rasgada  08_off_the_lip  09_tube  10_air  \n",
       "0          0.0         0.0               0      0.0       0  \n",
       "1          0.0         0.0               0      0.0       0  \n",
       "2          0.5         0.5               0      0.0       0  \n",
       "3          1.0         1.0               1      0.5       0  \n",
       "4          1.0         1.0               1      1.0       1  "
      ]
     },
     "execution_count": 17,
     "metadata": {},
     "output_type": "execute_result"
    }
   ],
   "source": [
    "# Manually alter 'df_samples_artificial.csv' with \n",
    "df_samples_artificial = pd.read_csv('df_samples_artificial.csv')\n",
    "df_samples_artificial"
   ]
  },
  {
   "cell_type": "markdown",
   "metadata": {
    "toc-hr-collapsed": false
   },
   "source": [
    "# Dimensionality Reduction"
   ]
  },
  {
   "cell_type": "markdown",
   "metadata": {
    "toc-hr-collapsed": true
   },
   "source": [
    "## Implementing PCA"
   ]
  },
  {
   "cell_type": "code",
   "execution_count": 18,
   "metadata": {},
   "outputs": [],
   "source": [
    "# TODO Implement PCA\n",
    "from sklearn.decomposition import PCA\n",
    "import visuals as vs\n",
    "\n",
    "\n",
    "# TODO: Apply PCA by fitting the good data with the same number of dimensions as features\n",
    "pca = PCA(n_components=2)\n",
    "pca.fit(df_x);"
   ]
  },
  {
   "cell_type": "markdown",
   "metadata": {},
   "source": [
    "### Visualizing PCA dimensions plot"
   ]
  },
  {
   "cell_type": "code",
   "execution_count": 19,
   "metadata": {},
   "outputs": [
    {
     "data": {
      "image/png": "[encoded data removed]",
      "text/plain": [
       "<Figure size 1008x576 with 1 Axes>"
      ]
     },
     "metadata": {
      "needs_background": "light"
     },
     "output_type": "display_data"
    }
   ],
   "source": [
    "pca_results = vs.pca_results(df_x, pca)"
   ]
  },
  {
   "cell_type": "markdown",
   "metadata": {},
   "source": [
    "### Analyzing explained variance"
   ]
  },
  {
   "cell_type": "code",
   "execution_count": 20,
   "metadata": {},
   "outputs": [
    {
     "data": {
      "text/plain": [
       "array([0.71581954, 0.81170869])"
      ]
     },
     "execution_count": 20,
     "metadata": {},
     "output_type": "execute_result"
    }
   ],
   "source": [
    "explained_variance = pca.explained_variance_ratio_.cumsum()\n",
    "explained_variance"
   ]
  },
  {
   "cell_type": "code",
   "execution_count": 21,
   "metadata": {},
   "outputs": [],
   "source": [
    "# TODO: Transform the good data using the PCA fit above\n",
    "reduced_data = pca.transform(df_x)\n",
    "\n",
    "# TODO: Transform log_samples using the PCA fit above\n",
    "pca_samples = pca.transform(samples)\n",
    "\n",
    "# Create a DataFrame for the reduced data\n",
    "reduced_data = pd.DataFrame(reduced_data, columns = ['Dimension 1', 'Dimension 2'])"
   ]
  },
  {
   "cell_type": "code",
   "execution_count": 22,
   "metadata": {},
   "outputs": [],
   "source": [
    "## Functions preparation\n",
    "\n",
    "import matplotlib.pyplot as plt\n",
    "def biplot(good_data, reduced_data, pca, colors=None):\n",
    "    '''\n",
    "    Produce a biplot that shows a scatterplot of the reduced\n",
    "    data and the projections of the original features.\n",
    "    \n",
    "    good_data: original data, before transformation.\n",
    "               Needs to be a pandas dataframe with valid column names\n",
    "    reduced_data: the reduced data (the first two dimensions are plotted)\n",
    "    pca: pca object that contains the components_ attribute\n",
    "\n",
    "    return: a matplotlib AxesSubplot object (for any additional customization)\n",
    "    \n",
    "    This procedure is inspired by the script:\n",
    "    https://github.com/teddyroland/python-biplot\n",
    "    '''\n",
    "\n",
    "    fig, ax = plt.subplots(figsize = (14, 8))\n",
    "\n",
    "    # scatterplot of the reduced data    \n",
    "    ax.scatter(x=reduced_data.loc[:, 'Dimension 1'], y=reduced_data.loc[:, 'Dimension 2'], \n",
    "        facecolors=colors,\n",
    "        edgecolors='b',\n",
    "        s=70,\n",
    "#         alpha=0.5\n",
    "        )\n",
    "    \n",
    "    feature_vectors = pca.components_.T\n",
    "\n",
    "    # we use scaling factors to make the arrows easier to see\n",
    "    arrow_size, text_pos = 1.1, 1.2,\n",
    "\n",
    "\n",
    "    # projections of the original features\n",
    "    for i, v in enumerate(feature_vectors):\n",
    "        ax.arrow(0, 0, arrow_size*v[0], arrow_size*v[1], \n",
    "                  head_width=0.05, head_length=0.05, linewidth=1, color='red')\n",
    "        ax.text(v[0]*text_pos, v[1]*text_pos, good_data.columns[i], color='black', \n",
    "                 ha='center', va='center', fontsize=10)\n",
    "\n",
    "    ax.set_xlabel(\"Dimension 1\", fontsize=14)\n",
    "    ax.set_ylabel(\"Dimension 2\", fontsize=14)\n",
    "    ax.set_title(\"PC plane with original feature projections.\", fontsize=16)\n",
    "\n",
    "    return ax"
   ]
  },
  {
   "cell_type": "code",
   "execution_count": 23,
   "metadata": {},
   "outputs": [
    {
     "name": "stdout",
     "output_type": "stream",
     "text": [
      "['Advanced', 'FirstTimer', 'Advanced', 'Advanced', 'Advanced', 'Advanced', 'Intermediate', 'Advanced', 'Intermediate', 'Advanced', 'Intermediate', 'Advanced', 'Advanced', 'Advanced', 'Advanced', 'FirstTimer', 'FirstTimer', 'Advanced', 'Advanced', 'Advanced', 'Beginner', 'Intermediate', 'Beginner', 'Intermediate', 'Intermediate', 'Intermediate', 'Advanced', 'Advanced', 'Advanced', 'Beginner', 'Intermediate', 'Intermediate', 'Advanced', 'Advanced', 'Beginner', 'Intermediate', 'Advanced', 'Beginner', 'Intermediate', 'Intermediate', 'Advanced', 'Advanced', 'Intermediate', 'Intermediate', 'Intermediate', 'Intermediate', 'Intermediate', 'Advanced', 'Intermediate', 'Intermediate', 'Intermediate', 'Advanced', 'Advanced', 'Advanced', 'Intermediate', 'Advanced', 'Intermediate', 'Intermediate', 'FirstTimer', 'Advanced', 'Advanced', 'Advanced', 'Beginner', 'Advanced', 'Intermediate', 'Advanced', 'Advanced', 'Advanced', 'Advanced', 'Advanced', 'Advanced', 'Intermediate', 'Intermediate', 'Advanced', 'Intermediate', 'Advanced', 'Intermediate', 'Pro', 'Advanced', 'Advanced', 'Advanced', 'Advanced', 'Advanced', 'Intermediate', 'Advanced', 'Intermediate', 'Pro', 'Intermediate', 'Advanced', 'Advanced', 'Advanced', 'Intermediate', 'Advanced', 'Advanced', 'Advanced', 'Intermediate', 'Advanced', 'Intermediate', 'Advanced', 'Intermediate', 'Advanced', 'Advanced', 'Advanced', 'Advanced', 'Intermediate', 'Intermediate', 'Advanced', 'Intermediate', 'Intermediate', 'Advanced']\n",
      "green\n"
     ]
    },
    {
     "data": {
      "text/plain": [
       "0    green\n",
       "1      red\n",
       "2    green\n",
       "4    green\n",
       "5    green\n",
       "Name: surfer_experience, dtype: object"
      ]
     },
     "execution_count": 23,
     "metadata": {},
     "output_type": "execute_result"
    }
   ],
   "source": [
    "colors_dict = {\n",
    "    'FirstTimer': 'red',\n",
    "    'Beginner': 'orange',\n",
    "    'Intermediate': 'yellow',\n",
    "    'Advanced': 'green',\n",
    "    'Pro': 'blue',\n",
    "}\n",
    "print(list(s_y))\n",
    "s_y.fillna('error_gui', inplace=True)\n",
    "print(colors_dict[s_y[0]])\n",
    "s_colors = s_y.apply(lambda x: colors_dict.get(x, 'white'))\n",
    "s_colors.head()"
   ]
  },
  {
   "cell_type": "markdown",
   "metadata": {},
   "source": [
    "### Visualizing PCA Biplot"
   ]
  },
  {
   "cell_type": "code",
   "execution_count": 24,
   "metadata": {},
   "outputs": [
    {
     "data": {
      "image/png": "[encoded data removed]",
      "text/plain": [
       "<Figure size 1008x576 with 1 Axes>"
      ]
     },
     "metadata": {
      "needs_background": "light"
     },
     "output_type": "display_data"
    }
   ],
   "source": [
    "# Create a biplot\n",
    "biplot(df_x, reduced_data, pca, s_colors);"
   ]
  },
  {
   "cell_type": "code",
   "execution_count": 25,
   "metadata": {},
   "outputs": [
    {
     "name": "stdout",
     "output_type": "stream",
     "text": [
      "BIPLOT LEGEND\n",
      "\tLevel: FirstTimer    color: red\n",
      "\tLevel: Beginner      color: orange\n",
      "\tLevel: Intermediate  color: yellow\n",
      "\tLevel: Advanced      color: green\n",
      "\tLevel: Pro           color: blue\n"
     ]
    }
   ],
   "source": [
    "print('BIPLOT LEGEND')\n",
    "for k, v in colors_dict.items():\n",
    "    k = k.ljust(14)\n",
    "    print(f'\\tLevel: {k}color: {v}')"
   ]
  },
  {
   "cell_type": "markdown",
   "metadata": {},
   "source": [
    "### Interpreting PCA Biplot"
   ]
  },
  {
   "cell_type": "markdown",
   "metadata": {},
   "source": [
    "**Interpreting PCA biplot**\n",
    "\n",
    "In the biplot visualization the direction of the vectors indicate how aligned they are with each other.\n",
    "Paddling, Drop, Straight ahead and Wall riding are close on the bottom of the figure.\n",
    "Cut_back, rasgada and off_the_lip are also close to each other, on the left of the figure parallel to the horizontal axis.\n",
    "The last three (floater, tube and air) are a bit far from each other.\n",
    "The interesting thing about these vectors is the significance of their angles.\n",
    "The easiest manoeuvre to perform is paddling, whilst the hardest is air.\n",
    "Therefore, the difficulty of each manoeuvre is expressed clock-wise.\n",
    "Hours in a clock are equivalent to the experience required.\n",
    "If we had to to segment the surfer's experience in 10 cluster, we'd succeed by following the manoeuvres clock-wise.\n",
    "This represents a verification concept.\n",
    "\n",
    "We could imagine a 5 cluster division:\n",
    "1. Paddling, Drop, Straight ahead and Wall riding\n",
    "2. Cut_back, rasgada and off_the_lip\n",
    "3. Floater\n",
    "4. Tube\n",
    "5. Air\n",
    "\n",
    "But, we can check such division more objectively..."
   ]
  },
  {
   "cell_type": "markdown",
   "metadata": {
    "toc-hr-collapsed": true
   },
   "source": [
    "## Implementing t-SNE"
   ]
  },
  {
   "cell_type": "code",
   "execution_count": 26,
   "metadata": {},
   "outputs": [
    {
     "name": "stdout",
     "output_type": "stream",
     "text": [
      "[t-SNE] Computing 16 nearest neighbors...\n",
      "[t-SNE] Indexed 110 samples in 0.000s...\n",
      "[t-SNE] Computed neighbors for 110 samples in 0.001s...\n",
      "[t-SNE] Computed conditional probabilities for sample 110 / 110\n",
      "[t-SNE] Mean sigma: 0.000000\n",
      "[t-SNE] KL divergence after 250 iterations with early exaggeration: 69.579033\n",
      "[t-SNE] KL divergence after 300 iterations: 1.868320\n",
      "t-SNE done! Time elapsed: 0.12975287437438965 seconds\n"
     ]
    }
   ],
   "source": [
    "from sklearn.manifold import TSNE\n",
    "import time\n",
    "\n",
    "time_start = time.time()\n",
    "tsne = TSNE(n_components=2, verbose=1, perplexity=5, n_iter=300)\n",
    "tsne_results = tsne.fit_transform(df_x)\n",
    "print('t-SNE done! Time elapsed: {} seconds'.format(time.time()-time_start))"
   ]
  },
  {
   "cell_type": "code",
   "execution_count": 27,
   "metadata": {},
   "outputs": [
    {
     "data": {
      "image/png": "[encoded data removed]",
      "text/plain": [
       "<Figure size 1152x720 with 1 Axes>"
      ]
     },
     "metadata": {
      "needs_background": "light"
     },
     "output_type": "display_data"
    }
   ],
   "source": [
    "df_subset = pd.DataFrame()\n",
    "\n",
    "df_subset['tsne-2d-one'] = tsne_results[:,0]\n",
    "df_subset['tsne-2d-two'] = tsne_results[:,1]\n",
    "\n",
    "plt.figure(figsize=(16,10))\n",
    "sns.scatterplot(\n",
    "    x=\"tsne-2d-one\", y=\"tsne-2d-two\",\n",
    "    hue=df['surfer_experience'],\n",
    "#     palette=sns.color_palette(\"hls\", 10),\n",
    "    data=df_subset,\n",
    "    legend=\"full\",\n",
    "#     alpha=0.3\n",
    ");"
   ]
  },
  {
   "cell_type": "markdown",
   "metadata": {},
   "source": [
    "### Interpreting t-SNE biplot\n",
    "One negative aspect of the t-SNE results is the fact that there are some 'beginner' dots (in red) mixed with 'intermediate' and 'advanced'"
   ]
  },
  {
   "cell_type": "markdown",
   "metadata": {},
   "source": [
    "## Comparing PCA and t-SNE\n",
    "This does not occurs in the PCA biplot"
   ]
  },
  {
   "cell_type": "markdown",
   "metadata": {
    "toc-hr-collapsed": false
   },
   "source": [
    "# Clustering"
   ]
  },
  {
   "cell_type": "markdown",
   "metadata": {},
   "source": [
    "## Implementing K-means"
   ]
  },
  {
   "cell_type": "code",
   "execution_count": 28,
   "metadata": {},
   "outputs": [],
   "source": [
    "# TODO Implement K-means"
   ]
  },
  {
   "cell_type": "markdown",
   "metadata": {
    "toc-hr-collapsed": false
   },
   "source": [
    "## Implementing GMM"
   ]
  },
  {
   "cell_type": "code",
   "execution_count": 29,
   "metadata": {},
   "outputs": [],
   "source": [
    "from sklearn.mixture import GaussianMixture\n",
    "from sklearn.metrics import silhouette_score\n",
    "\n",
    "def build_clusters(n_components, reduced=True):\n",
    "    if reduced:\n",
    "        data = reduced_data\n",
    "    else:\n",
    "        data = df_x\n",
    "    \n",
    "    # TODO: Apply your clustering algorithm of choice to the reduced data \n",
    "    clusterer = GaussianMixture(n_components=n_components)\n",
    "    clusterer.fit(data)\n",
    "\n",
    "    # TODO: Predict the cluster for each data point\n",
    "    preds = clusterer.predict(data)\n",
    "\n",
    "    # TODO: Find the cluster centers\n",
    "    centers = clusterer.means_\n",
    "\n",
    "    # TODO: Calculate the mean silhouette coefficient for the number of clusters chosen\n",
    "    score = silhouette_score(X=data, labels=preds)\n",
    "    print('For', clusterer.n_components, 'clusters, the silhouette score is:', score)\n",
    "    \n",
    "    return preds, centers"
   ]
  },
  {
   "cell_type": "code",
   "execution_count": 30,
   "metadata": {},
   "outputs": [
    {
     "name": "stdout",
     "output_type": "stream",
     "text": [
      "For 2 clusters, the silhouette score is: 0.4054686505578568\n",
      "For 3 clusters, the silhouette score is: 0.4946756698827165\n",
      "For 4 clusters, the silhouette score is: 0.4855986161542287\n",
      "For 5 clusters, the silhouette score is: 0.4816521472237324\n",
      "For 6 clusters, the silhouette score is: 0.4075788386263694\n",
      "For 7 clusters, the silhouette score is: 0.4619379458392695\n",
      "For 8 clusters, the silhouette score is: 0.2550074443504606\n",
      "For 9 clusters, the silhouette score is: 0.4509547979794448\n"
     ]
    }
   ],
   "source": [
    "for i in range(2, 10):\n",
    "    build_clusters(i)"
   ]
  },
  {
   "cell_type": "markdown",
   "metadata": {},
   "source": [
    "**Silhouette score analysis:**\n",
    "- For  2 clusters, the silhouette score is: 0.411 **3rd**\n",
    "- For  3 clusters, the silhouette score is: 0.341\n",
    "- For  4 clusters, the silhouette score is: 0.459 **1st**\n",
    "- For  5 clusters, the silhouette score is: 0.434 **2st**\n",
    "- For  6 clusters, the silhouette score is: 0.368\n",
    "- For  7 clusters, the silhouette score is: 0.312\n",
    "- For  8 clusters, the silhouette score is: 0.408\n",
    "- For  9 clusters, the silhouette score is: 0.374"
   ]
  },
  {
   "cell_type": "markdown",
   "metadata": {},
   "source": [
    "### Visualizing PCA biplot [not GMM right?]"
   ]
  },
  {
   "cell_type": "code",
   "execution_count": 31,
   "metadata": {},
   "outputs": [
    {
     "data": {
      "image/png": "[encoded data removed]",
      "text/plain": [
       "<Figure size 1008x576 with 1 Axes>"
      ]
     },
     "metadata": {
      "needs_background": "light"
     },
     "output_type": "display_data"
    }
   ],
   "source": [
    "biplot(df_x, reduced_data, pca, s_colors);\n",
    "# Talvez unir features mais alinhadas e criar novas"
   ]
  },
  {
   "cell_type": "markdown",
   "metadata": {
    "jupyter": {
     "source_hidden": true
    }
   },
   "source": [
    "### Estimating the cluster of data GMM"
   ]
  },
  {
   "cell_type": "code",
   "execution_count": 58,
   "metadata": {
    "collapsed": true,
    "jupyter": {
     "outputs_hidden": true,
     "source_hidden": true
    }
   },
   "outputs": [
    {
     "name": "stdout",
     "output_type": "stream",
     "text": [
      "For 5 clusters, the silhouette score is: 0.3752715133443227\n"
     ]
    },
    {
     "data": {
      "image/png": "[encoded data removed]",
      "text/plain": [
       "<Figure size 1008x576 with 1 Axes>"
      ]
     },
     "metadata": {
      "needs_background": "light"
     },
     "output_type": "display_data"
    }
   ],
   "source": [
    "# REDUCED\n",
    "# Display the results of the clustering from implementation\n",
    "preds, centers = build_clusters(5)\n",
    "vs.cluster_results(reduced_data, preds, centers, pca_samples)"
   ]
  },
  {
   "cell_type": "code",
   "execution_count": 70,
   "metadata": {},
   "outputs": [
    {
     "name": "stdout",
     "output_type": "stream",
     "text": [
      "For 4 clusters, the silhouette score is: 0.4855986161542287\n"
     ]
    },
    {
     "data": {
      "image/png": "[encoded data removed]",
      "text/plain": [
       "<Figure size 1008x576 with 1 Axes>"
      ]
     },
     "metadata": {
      "needs_background": "light"
     },
     "output_type": "display_data"
    }
   ],
   "source": [
    "# REDUCED\n",
    "# Display the results of the clustering from implementation\n",
    "preds, centers = build_clusters(4)\n",
    "vs.cluster_results(reduced_data, preds, centers, pca_samples)"
   ]
  },
  {
   "cell_type": "code",
   "execution_count": 59,
   "metadata": {},
   "outputs": [],
   "source": [
    "cluster_dict={\n",
    "    0: 'FirstTimer',\n",
    "    3: 'Beginner',\n",
    "    2: 'Intermediate',\n",
    "    4: 'Intermediate',\n",
    "    1: 'Advanced',\n",
    "    1: 'Pro',\n",
    "}"
   ]
  },
  {
   "cell_type": "markdown",
   "metadata": {},
   "source": [
    "### Calculating score"
   ]
  },
  {
   "cell_type": "code",
   "execution_count": 60,
   "metadata": {},
   "outputs": [],
   "source": [
    "experience_list = [\n",
    "    'FirstTimer',\n",
    "    'Beginner',\n",
    "    'Intermediate',\n",
    "    'Advanced',\n",
    "    'Pro',\n",
    "]\n",
    "\n",
    "def calc_score(a, b, score):\n",
    "    a_i = experience_list.index(a)\n",
    "    b_i = experience_list.index(b)\n",
    "#     print(a, b)\n",
    "#     print(a_i == b_i)\n",
    "    delta = abs(a_i - b_i)\n",
    "    if delta == 0:\n",
    "        score += 1\n",
    "    elif delta == 1:\n",
    "        score += 0.5\n",
    "    else:\n",
    "        score += 0\n",
    "        \n",
    "    return score"
   ]
  },
  {
   "cell_type": "code",
   "execution_count": 67,
   "metadata": {
    "scrolled": true
   },
   "outputs": [
    {
     "name": "stdout",
     "output_type": "stream",
     "text": [
      "0    Intermediate    Advanced        False    Score: 0.5   Counter: 0\n",
      "1    FirstTimer      FirstTimer      True     Score: 1.5   Counter: 0\n",
      "2    Intermediate    Advanced        False    Score: 2.0   Counter: 1\n",
      "3    Intermediate    Advanced        False    Score: 2.5   Counter: 1\n",
      "4    Pro             Advanced        False    Score: 3.0   Counter: 1\n",
      "5    Pro             Advanced        False    Score: 3.5   Counter: 1\n",
      "6    Intermediate    Intermediate    True     Score: 4.5   Counter: 1\n",
      "7    Intermediate    Advanced        False    Score: 5.0   Counter: 2\n",
      "8    Intermediate    Intermediate    True     Score: 6.0   Counter: 2\n",
      "9    Intermediate    Advanced        False    Score: 6.5   Counter: 3\n",
      "10   Beginner        Intermediate    False    Score: 7.0   Counter: 3\n",
      "11   Pro             Advanced        False    Score: 7.5   Counter: 3\n",
      "12   Intermediate    Advanced        False    Score: 8.0   Counter: 3\n",
      "13   Pro             Advanced        False    Score: 8.5   Counter: 3\n",
      "14   Pro             Advanced        False    Score: 9.0   Counter: 3\n",
      "15   FirstTimer      FirstTimer      True     Score: 10.0  Counter: 3\n",
      "16   FirstTimer      FirstTimer      True     Score: 11.0  Counter: 4\n",
      "17   Intermediate    Advanced        False    Score: 11.5  Counter: 5\n",
      "18   Intermediate    Advanced        False    Score: 12.0  Counter: 5\n",
      "19   Intermediate    Advanced        False    Score: 12.5  Counter: 5\n",
      "20   FirstTimer      Beginner        False    Score: 13.0  Counter: 5\n",
      "21   Intermediate    Intermediate    True     Score: 14.0  Counter: 5\n",
      "22   Beginner        Beginner        True     Score: 15.0  Counter: 6\n",
      "23   Intermediate    Intermediate    True     Score: 16.0  Counter: 7\n",
      "24   Beginner        Intermediate    False    Score: 16.5  Counter: 8\n",
      "25   Beginner        Intermediate    False    Score: 17.0  Counter: 8\n",
      "26   Pro             Advanced        False    Score: 17.5  Counter: 8\n",
      "27   Intermediate    Advanced        False    Score: 18.0  Counter: 8\n",
      "28   Pro             Advanced        False    Score: 18.5  Counter: 8\n",
      "29   FirstTimer      Beginner        False    Score: 19.0  Counter: 8\n",
      "30   Beginner        Intermediate    False    Score: 19.5  Counter: 8\n",
      "31   Intermediate    Intermediate    True     Score: 20.5  Counter: 8\n",
      "32   Intermediate    Advanced        False    Score: 21.0  Counter: 9\n",
      "33   Intermediate    Advanced        False    Score: 21.5  Counter: 9\n",
      "34   FirstTimer      Beginner        False    Score: 22.0  Counter: 9\n",
      "35   Intermediate    Intermediate    True     Score: 23.0  Counter: 9\n",
      "36   Intermediate    Advanced        False    Score: 23.5  Counter: 10\n",
      "37   FirstTimer      Beginner        False    Score: 24.0  Counter: 10\n",
      "38   Beginner        Intermediate    False    Score: 24.5  Counter: 10\n",
      "39   Intermediate    Intermediate    True     Score: 25.5  Counter: 10\n",
      "40   Pro             Advanced        False    Score: 26.0  Counter: 11\n",
      "41   Intermediate    Advanced        False    Score: 26.5  Counter: 11\n",
      "42   Beginner        Intermediate    False    Score: 27.0  Counter: 11\n",
      "43   Intermediate    Intermediate    True     Score: 28.0  Counter: 11\n",
      "44   Intermediate    Intermediate    True     Score: 29.0  Counter: 12\n",
      "45   FirstTimer      Intermediate    False    Score: 29.0  Counter: 13\n",
      "46   Intermediate    Intermediate    True     Score: 30.0  Counter: 13\n",
      "47   Intermediate    Advanced        False    Score: 30.5  Counter: 14\n",
      "48   Intermediate    Intermediate    True     Score: 31.5  Counter: 14\n",
      "49   Beginner        Intermediate    False    Score: 32.0  Counter: 15\n",
      "50   Intermediate    Intermediate    True     Score: 33.0  Counter: 15\n",
      "51   Intermediate    Advanced        False    Score: 33.5  Counter: 16\n",
      "52   Intermediate    Advanced        False    Score: 34.0  Counter: 16\n",
      "53   Intermediate    Advanced        False    Score: 34.5  Counter: 16\n",
      "54   Intermediate    Intermediate    True     Score: 35.5  Counter: 16\n",
      "55   Pro             Advanced        False    Score: 36.0  Counter: 17\n",
      "56   Beginner        Intermediate    False    Score: 36.5  Counter: 17\n",
      "57   Intermediate    Intermediate    True     Score: 37.5  Counter: 17\n",
      "58   Beginner        FirstTimer      False    Score: 38.0  Counter: 18\n",
      "59   Intermediate    Advanced        False    Score: 38.5  Counter: 18\n",
      "60   Pro             Advanced        False    Score: 39.0  Counter: 18\n",
      "61   Intermediate    Advanced        False    Score: 39.5  Counter: 18\n",
      "62   FirstTimer      Beginner        False    Score: 40.0  Counter: 18\n",
      "63   Pro             Advanced        False    Score: 40.5  Counter: 18\n",
      "64   FirstTimer      Intermediate    False    Score: 40.5  Counter: 18\n",
      "65   Intermediate    Advanced        False    Score: 41.0  Counter: 18\n",
      "66   Intermediate    Advanced        False    Score: 41.5  Counter: 18\n",
      "67   Intermediate    Advanced        False    Score: 42.0  Counter: 18\n",
      "68   Intermediate    Advanced        False    Score: 42.5  Counter: 18\n",
      "69   Intermediate    Advanced        False    Score: 43.0  Counter: 18\n",
      "70   Intermediate    Advanced        False    Score: 43.5  Counter: 18\n",
      "71   Intermediate    Intermediate    True     Score: 44.5  Counter: 18\n",
      "72   Intermediate    Intermediate    True     Score: 45.5  Counter: 19\n",
      "73   Pro             Advanced        False    Score: 46.0  Counter: 20\n",
      "74   Beginner        Intermediate    False    Score: 46.5  Counter: 20\n",
      "75   Pro             Advanced        False    Score: 47.0  Counter: 20\n",
      "76   Pro             Intermediate    False    Score: 47.0  Counter: 20\n",
      "77   Pro             Pro             True     Score: 48.0  Counter: 20\n",
      "78   Pro             Advanced        False    Score: 48.5  Counter: 21\n",
      "79   Pro             Advanced        False    Score: 49.0  Counter: 21\n",
      "80   Intermediate    Advanced        False    Score: 49.5  Counter: 21\n",
      "81   Intermediate    Advanced        False    Score: 50.0  Counter: 21\n",
      "82   Pro             Advanced        False    Score: 50.5  Counter: 21\n",
      "83   Beginner        Intermediate    False    Score: 51.0  Counter: 21\n",
      "84   Intermediate    Advanced        False    Score: 51.5  Counter: 21\n",
      "85   Intermediate    Intermediate    True     Score: 52.5  Counter: 21\n",
      "86   Pro             Pro             True     Score: 53.5  Counter: 22\n",
      "87   Intermediate    Intermediate    True     Score: 54.5  Counter: 23\n",
      "88   Intermediate    Advanced        False    Score: 55.0  Counter: 24\n",
      "89   Pro             Advanced        False    Score: 55.5  Counter: 24\n",
      "90   Pro             Advanced        False    Score: 56.0  Counter: 24\n",
      "91   Intermediate    Intermediate    True     Score: 57.0  Counter: 24\n",
      "92   Pro             Advanced        False    Score: 57.5  Counter: 25\n",
      "93   Intermediate    Advanced        False    Score: 58.0  Counter: 25\n",
      "94   Intermediate    Advanced        False    Score: 58.5  Counter: 25\n",
      "95   Pro             Intermediate    False    Score: 58.5  Counter: 25\n",
      "96   Intermediate    Advanced        False    Score: 59.0  Counter: 25\n",
      "97   Intermediate    Intermediate    True     Score: 60.0  Counter: 25\n",
      "98   Intermediate    Advanced        False    Score: 60.5  Counter: 26\n",
      "99   FirstTimer      Intermediate    False    Score: 60.5  Counter: 26\n",
      "100  Intermediate    Advanced        False    Score: 61.0  Counter: 26\n",
      "101  Intermediate    Advanced        False    Score: 61.5  Counter: 26\n",
      "102  Intermediate    Advanced        False    Score: 62.0  Counter: 26\n",
      "103  Intermediate    Advanced        False    Score: 62.5  Counter: 26\n",
      "104  Beginner        Intermediate    False    Score: 63.0  Counter: 26\n",
      "105  Intermediate    Intermediate    True     Score: 64.0  Counter: 26\n",
      "106  Pro             Advanced        False    Score: 64.5  Counter: 27\n",
      "107  Intermediate    Intermediate    True     Score: 65.5  Counter: 27\n",
      "108  Beginner        Intermediate    False    Score: 66.0  Counter: 28\n",
      "109  Intermediate    Advanced        False    Score: 66.5  Counter: 28\n",
      "\n",
      "Number of alike data points: 28\n",
      "\n",
      "Overall score: 60.5%\n"
     ]
    }
   ],
   "source": [
    "preds\n",
    "counter = 0\n",
    "score = 0\n",
    "for i, pred in enumerate(preds):\n",
    "    pred = cluster_dict[preds[i]]\n",
    "    ref = list(s_y)[i]\n",
    "    score = calc_score(pred, ref, score)\n",
    "    print(str(i).ljust(4), pred.ljust(15), ref.ljust(15), str(pred==ref).ljust(8), f'Score: {str(score).ljust(6)}Counter: {counter}')\n",
    "    if pred == ref:\n",
    "        counter += 1\n",
    "\n",
    "print(f'\\nNumber of alike data points: {counter}')\n",
    "print(f'\\nOverall score: {round(100*score/s_y.shape[0], 1)}%')\n"
   ]
  },
  {
   "cell_type": "markdown",
   "metadata": {},
   "source": [
    "### Interpretating GMM\n",
    "\n",
    "The biplot's clusters are best read from right to left:\n",
    "- 1 - FirstTimer\n",
    "- 4 - Beginner\n",
    "- 3, 5 - Intermediate\n",
    "- 0 - Advanced\n",
    "- 2 - Pro"
   ]
  },
  {
   "cell_type": "code",
   "execution_count": null,
   "metadata": {},
   "outputs": [],
   "source": [
    "# Display the results of the clustering from implementation\n",
    "import visuals as vs\n",
    "\n",
    "preds, centers = build_clusters(8)\n",
    "vs.cluster_results(reduced_data, preds, centers, pca_samples)"
   ]
  },
  {
   "cell_type": "markdown",
   "metadata": {},
   "source": [
    "**4 Clusters interpretation:**\n",
    "\n",
    "Tobecompleted"
   ]
  },
  {
   "cell_type": "code",
   "execution_count": null,
   "metadata": {},
   "outputs": [],
   "source": [
    "s_y.iloc[indices]"
   ]
  },
  {
   "cell_type": "code",
   "execution_count": null,
   "metadata": {},
   "outputs": [],
   "source": [
    "# indice 158 eh o mais avançado\n",
    "samples"
   ]
  },
  {
   "cell_type": "code",
   "execution_count": null,
   "metadata": {},
   "outputs": [],
   "source": [
    "pca_samples"
   ]
  },
  {
   "cell_type": "code",
   "execution_count": null,
   "metadata": {
    "collapsed": true,
    "jupyter": {
     "outputs_hidden": true
    }
   },
   "outputs": [],
   "source": []
  },
  {
   "cell_type": "code",
   "execution_count": null,
   "metadata": {},
   "outputs": [],
   "source": [
    "# Display the results of the clustering from implementation\n",
    "preds, centers = build_clusters(5)\n",
    "vs.cluster_results(reduced_data, preds, centers, pca_samples)"
   ]
  },
  {
   "cell_type": "markdown",
   "metadata": {},
   "source": [
    "**5 Clusters interpretation:**\n",
    "\n",
    "Tobecompleted"
   ]
  },
  {
   "cell_type": "code",
   "execution_count": null,
   "metadata": {},
   "outputs": [],
   "source": [
    "# Display the results of the clustering from implementation\n",
    "preds, centers = build_clusters(2)\n",
    "vs.cluster_results(reduced_data, preds, centers, pca_samples)"
   ]
  },
  {
   "cell_type": "markdown",
   "metadata": {},
   "source": [
    "**2 Clusters interpretation:**\n",
    "\n",
    "Tobecompleted"
   ]
  },
  {
   "cell_type": "code",
   "execution_count": null,
   "metadata": {
    "collapsed": true,
    "jupyter": {
     "outputs_hidden": true
    }
   },
   "outputs": [],
   "source": []
  },
  {
   "cell_type": "code",
   "execution_count": null,
   "metadata": {},
   "outputs": [],
   "source": [
    "# TODO Implement t-SNE"
   ]
  },
  {
   "cell_type": "code",
   "execution_count": null,
   "metadata": {},
   "outputs": [],
   "source": [
    "# TODO Compare PCA vs. t-SNE"
   ]
  },
  {
   "cell_type": "markdown",
   "metadata": {},
   "source": [
    "A good explanation and comparison of PCA and t-SNE are presented [here.](https://towardsdatascience.com/visualising-high-dimensional-datasets-using-pca-and-t-sne-in-python-8ef87e7915b).\n",
    "One of the main differences are:\n",
    "> \"t-Distributed Stochastic Neighbor Embedding (t-SNE) is another technique for dimensionality reduction and is particularly well suited for the visualization of high-dimensional datasets. Contrary to PCA it is not a mathematical technique but a probablistic one.\" By *Luuk Derksen*\n",
    "\n",
    "\n"
   ]
  },
  {
   "cell_type": "markdown",
   "metadata": {},
   "source": [
    "## Implementing Spectral"
   ]
  },
  {
   "cell_type": "markdown",
   "metadata": {},
   "source": [
    "# Benchmarking"
   ]
  },
  {
   "cell_type": "markdown",
   "metadata": {},
   "source": [
    "## GMM vs. K-means"
   ]
  },
  {
   "cell_type": "markdown",
   "metadata": {},
   "source": [
    "## GMM vs. known label"
   ]
  },
  {
   "cell_type": "code",
   "execution_count": null,
   "metadata": {},
   "outputs": [],
   "source": [
    "# TODO compare them visually and in a table(quantify)\n",
    "s_y"
   ]
  },
  {
   "cell_type": "markdown",
   "metadata": {},
   "source": [
    "# Evaluation"
   ]
  },
  {
   "cell_type": "markdown",
   "metadata": {},
   "source": [
    "## Analyzing performance of the clustering model"
   ]
  },
  {
   "cell_type": "code",
   "execution_count": null,
   "metadata": {
    "collapsed": true,
    "jupyter": {
     "outputs_hidden": true
    }
   },
   "outputs": [],
   "source": []
  },
  {
   "cell_type": "markdown",
   "metadata": {},
   "source": [
    "## Analyzing the Silhouette Coefficient"
   ]
  },
  {
   "cell_type": "code",
   "execution_count": null,
   "metadata": {},
   "outputs": [],
   "source": [
    "# TODO implement the Silhouette Coefficient "
   ]
  },
  {
   "cell_type": "markdown",
   "metadata": {},
   "source": [
    "## Exploring the number of clusters"
   ]
  },
  {
   "cell_type": "markdown",
   "metadata": {},
   "source": [
    "# Conclusion"
   ]
  },
  {
   "cell_type": "markdown",
   "metadata": {},
   "source": [
    "## Work recap\n",
    "In this work...:\n",
    "- two dimensionality reduction algorithms were tested (PCA and t-SNE)\n",
    "- n clustering methods were deployed\n",
    "- "
   ]
  },
  {
   "cell_type": "markdown",
   "metadata": {},
   "source": [
    "## Reflection\n",
    "- An unsupervised approach was chosen in order to analyze how well clustering methods could split the different levels of surfer's experience ."
   ]
  },
  {
   "cell_type": "markdown",
   "metadata": {},
   "source": [
    "## Future work\n",
    "- Apply a supervised approach based on the known labels of the `surfer_experience`"
   ]
  },
  {
   "cell_type": "code",
   "execution_count": null,
   "metadata": {
    "collapsed": true,
    "jupyter": {
     "outputs_hidden": true
    }
   },
   "outputs": [],
   "source": []
  },
  {
   "cell_type": "code",
   "execution_count": null,
   "metadata": {
    "collapsed": true,
    "jupyter": {
     "outputs_hidden": true
    }
   },
   "outputs": [],
   "source": []
  }
 ],
 "metadata": {
  "kernelspec": {
   "display_name": "Python 3",
   "language": "python",
   "name": "python3"
  },
  "language_info": {
   "codemirror_mode": {
    "name": "ipython",
    "version": 3
   },
   "file_extension": ".py",
   "mimetype": "text/x-python",
   "name": "python",
   "nbconvert_exporter": "python",
   "pygments_lexer": "ipython3",
   "version": "3.7.3"
  },
  "toc-autonumbering": true,
  "toc-showcode": false,
  "toc-showmarkdowntxt": false
 },
 "nbformat": 4,
 "nbformat_minor": 4
}
